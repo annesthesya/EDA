{
 "cells": [
  {
   "cell_type": "code",
   "execution_count": 1,
   "id": "12f83c2a",
   "metadata": {},
   "outputs": [],
   "source": [
    "# !pip install scikit-learn\n",
    "# !pip install pandas\n",
    "# !pip install emoji\n",
    "# !pip install num2words\n",
    "# !pip install nltk\n",
    "# !pip install matplotlib\n",
    "# !pip install wordcloud"
   ]
  },
  {
   "cell_type": "code",
   "execution_count": 2,
   "id": "37c9f4c1",
   "metadata": {},
   "outputs": [],
   "source": [
    "import json\n",
    "import pandas as pd\n",
    "from sklearn.model_selection import train_test_split\n",
    "import re\n",
    "import emoji\n",
    "from num2words import num2words\n",
    "import nltk\n",
    "from nltk.corpus import stopwords\n",
    "from nltk.stem import WordNetLemmatizer\n",
    "from nltk.stem import PorterStemmer\n",
    "#nltk.download('stopwords')\n",
    "#nltk.download('wordnet')\n",
    "import matplotlib.pyplot as plt\n",
    "from collections import defaultdict\n",
    "from collections import Counter\n",
    "from matplotlib import colors\n",
    "from wordcloud import WordCloud\n",
    "from sklearn.neighbors import KNeighborsClassifier\n",
    "from sklearn import metrics\n",
    "from sklearn.feature_extraction.text import TfidfVectorizer"
   ]
  },
  {
   "cell_type": "code",
   "execution_count": 3,
   "id": "f35ea531",
   "metadata": {},
   "outputs": [
    {
     "name": "stderr",
     "output_type": "stream",
     "text": [
      "[nltk_data] Downloading package stopwords to\n",
      "[nltk_data]     C:\\Users\\Andreea\\AppData\\Roaming\\nltk_data...\n",
      "[nltk_data]   Package stopwords is already up-to-date!\n",
      "[nltk_data] Downloading package wordnet to\n",
      "[nltk_data]     C:\\Users\\Andreea\\AppData\\Roaming\\nltk_data...\n",
      "[nltk_data]   Package wordnet is already up-to-date!\n"
     ]
    }
   ],
   "source": [
    "#!pip install ipynb \n",
    "from ipynb.fs.full.preprocessor_class import Preprocessor"
   ]
  },
  {
   "cell_type": "code",
   "execution_count": 4,
   "id": "9e9101a4",
   "metadata": {},
   "outputs": [
    {
     "data": {
      "text/plain": [
       "(45000, 1)"
      ]
     },
     "execution_count": 4,
     "metadata": {},
     "output_type": "execute_result"
    }
   ],
   "source": [
    "train_data = pd.read_csv('data/shuffled_train_data.csv',index_col=None)\n",
    "train_labels = pd.read_csv('data/shuffled_train_labels.csv',index_col=None)\n",
    "\n",
    "test_data = pd.read_csv('data/test_data.csv',index_col=None)\n",
    "test_labels = pd.read_csv('data/test_labels.csv',index_col=None)\n",
    "\n",
    "train_data_plot = pd.read_csv('data/train_data_plot.csv',index_col=None)\n",
    "test_data_plot = pd.read_csv('data/test_data_plot.csv',index_col=None)\n",
    "\n",
    "train_data.shape"
   ]
  },
  {
   "cell_type": "code",
   "execution_count": 5,
   "id": "79719748",
   "metadata": {},
   "outputs": [],
   "source": [
    "preprocessor = Preprocessor(set(stopwords.words('english')), WordNetLemmatizer(), PorterStemmer(), True, True, True, True, True, False, True, True, True, False)\n",
    "\n",
    "preprocessed_data_train = pd.DataFrame(columns=['text'])\n",
    "preprocessed_data_test = pd.DataFrame(columns=['text'])\n",
    "\n",
    "preprocessed_data_train['text'] = train_data.apply(lambda row: preprocessor.preprocess(row.iloc[0]), axis = 1)\n",
    "\n",
    "preprocessed_data_test['text'] = test_data.apply(lambda row: preprocessor.preprocess(row.iloc[0]), axis = 1)"
   ]
  },
  {
   "cell_type": "code",
   "execution_count": 6,
   "id": "cc25e9e5",
   "metadata": {},
   "outputs": [
    {
     "data": {
      "text/html": [
       "<div>\n",
       "<style scoped>\n",
       "    .dataframe tbody tr th:only-of-type {\n",
       "        vertical-align: middle;\n",
       "    }\n",
       "\n",
       "    .dataframe tbody tr th {\n",
       "        vertical-align: top;\n",
       "    }\n",
       "\n",
       "    .dataframe thead th {\n",
       "        text-align: right;\n",
       "    }\n",
       "</style>\n",
       "<table border=\"1\" class=\"dataframe\">\n",
       "  <thead>\n",
       "    <tr style=\"text-align: right;\">\n",
       "      <th></th>\n",
       "      <th>text</th>\n",
       "    </tr>\n",
       "  </thead>\n",
       "  <tbody>\n",
       "    <tr>\n",
       "      <th>0</th>\n",
       "      <td>[love, super, comfortable]</td>\n",
       "    </tr>\n",
       "    <tr>\n",
       "      <th>1</th>\n",
       "      <td>[shave, cremes, need, lather, feeling, fullnes...</td>\n",
       "    </tr>\n",
       "    <tr>\n",
       "      <th>2</th>\n",
       "      <td>[love, bright, color, dress, fabric, nice, fee...</td>\n",
       "    </tr>\n",
       "    <tr>\n",
       "      <th>3</th>\n",
       "      <td>[see, small, got, curve, get, fit, like, size]</td>\n",
       "    </tr>\n",
       "    <tr>\n",
       "      <th>4</th>\n",
       "      <td>[sister, love, wolf, go, wrong, cute, comfy, w...</td>\n",
       "    </tr>\n",
       "    <tr>\n",
       "      <th>...</th>\n",
       "      <td>...</td>\n",
       "    </tr>\n",
       "    <tr>\n",
       "      <th>44995</th>\n",
       "      <td>[sandal, poorly, constructed, base, shoe, fitt...</td>\n",
       "    </tr>\n",
       "    <tr>\n",
       "      <th>44996</th>\n",
       "      <td>[wow, shirt, comfortable, fit, hug, body, soft...</td>\n",
       "    </tr>\n",
       "    <tr>\n",
       "      <th>44997</th>\n",
       "      <td>[problem, heel, pain, pf, looking, good, walki...</td>\n",
       "    </tr>\n",
       "    <tr>\n",
       "      <th>44998</th>\n",
       "      <td>[keep, spotting, hand, everything, blue, ink, ...</td>\n",
       "    </tr>\n",
       "    <tr>\n",
       "      <th>44999</th>\n",
       "      <td>[light, died, right, away, poor, quality]</td>\n",
       "    </tr>\n",
       "  </tbody>\n",
       "</table>\n",
       "<p>45000 rows × 1 columns</p>\n",
       "</div>"
      ],
      "text/plain": [
       "                                                    text\n",
       "0                             [love, super, comfortable]\n",
       "1      [shave, cremes, need, lather, feeling, fullnes...\n",
       "2      [love, bright, color, dress, fabric, nice, fee...\n",
       "3         [see, small, got, curve, get, fit, like, size]\n",
       "4      [sister, love, wolf, go, wrong, cute, comfy, w...\n",
       "...                                                  ...\n",
       "44995  [sandal, poorly, constructed, base, shoe, fitt...\n",
       "44996  [wow, shirt, comfortable, fit, hug, body, soft...\n",
       "44997  [problem, heel, pain, pf, looking, good, walki...\n",
       "44998  [keep, spotting, hand, everything, blue, ink, ...\n",
       "44999          [light, died, right, away, poor, quality]\n",
       "\n",
       "[45000 rows x 1 columns]"
      ]
     },
     "execution_count": 6,
     "metadata": {},
     "output_type": "execute_result"
    }
   ],
   "source": [
    "preprocessed_data_train"
   ]
  },
  {
   "cell_type": "code",
   "execution_count": 7,
   "id": "12dc1a83",
   "metadata": {},
   "outputs": [
    {
     "data": {
      "text/html": [
       "<div>\n",
       "<style scoped>\n",
       "    .dataframe tbody tr th:only-of-type {\n",
       "        vertical-align: middle;\n",
       "    }\n",
       "\n",
       "    .dataframe tbody tr th {\n",
       "        vertical-align: top;\n",
       "    }\n",
       "\n",
       "    .dataframe thead th {\n",
       "        text-align: right;\n",
       "    }\n",
       "</style>\n",
       "<table border=\"1\" class=\"dataframe\">\n",
       "  <thead>\n",
       "    <tr style=\"text-align: right;\">\n",
       "      <th></th>\n",
       "      <th>text</th>\n",
       "    </tr>\n",
       "  </thead>\n",
       "  <tbody>\n",
       "    <tr>\n",
       "      <th>0</th>\n",
       "      <td>[poorly, made, shrink, fit, well]</td>\n",
       "    </tr>\n",
       "    <tr>\n",
       "      <th>1</th>\n",
       "      <td>[playing, santa, year, authentic, high, qualit...</td>\n",
       "    </tr>\n",
       "    <tr>\n",
       "      <th>2</th>\n",
       "      <td>[bought, two, one, better, shipping, schedule,...</td>\n",
       "    </tr>\n",
       "    <tr>\n",
       "      <th>3</th>\n",
       "      <td>[came, box, scratch, one, lense, know, inexpen...</td>\n",
       "    </tr>\n",
       "    <tr>\n",
       "      <th>4</th>\n",
       "      <td>[okay, kind, hard, explain, really, liked, ski...</td>\n",
       "    </tr>\n",
       "    <tr>\n",
       "      <th>...</th>\n",
       "      <td>...</td>\n",
       "    </tr>\n",
       "    <tr>\n",
       "      <th>5995</th>\n",
       "      <td>[christmas, gift, boyfriend, nice, wallet, app...</td>\n",
       "    </tr>\n",
       "    <tr>\n",
       "      <th>5996</th>\n",
       "      <td>[better, expected, pleasantly, surprised]</td>\n",
       "    </tr>\n",
       "    <tr>\n",
       "      <th>5997</th>\n",
       "      <td>[skirt, awsome, arrived, real, quick, lb, skir...</td>\n",
       "    </tr>\n",
       "    <tr>\n",
       "      <th>5998</th>\n",
       "      <td>[excellent, piece, elegant, sturdy, design, lo...</td>\n",
       "    </tr>\n",
       "    <tr>\n",
       "      <th>5999</th>\n",
       "      <td>[wonderful, beach, shirt]</td>\n",
       "    </tr>\n",
       "  </tbody>\n",
       "</table>\n",
       "<p>6000 rows × 1 columns</p>\n",
       "</div>"
      ],
      "text/plain": [
       "                                                   text\n",
       "0                     [poorly, made, shrink, fit, well]\n",
       "1     [playing, santa, year, authentic, high, qualit...\n",
       "2     [bought, two, one, better, shipping, schedule,...\n",
       "3     [came, box, scratch, one, lense, know, inexpen...\n",
       "4     [okay, kind, hard, explain, really, liked, ski...\n",
       "...                                                 ...\n",
       "5995  [christmas, gift, boyfriend, nice, wallet, app...\n",
       "5996          [better, expected, pleasantly, surprised]\n",
       "5997  [skirt, awsome, arrived, real, quick, lb, skir...\n",
       "5998  [excellent, piece, elegant, sturdy, design, lo...\n",
       "5999                          [wonderful, beach, shirt]\n",
       "\n",
       "[6000 rows x 1 columns]"
      ]
     },
     "execution_count": 7,
     "metadata": {},
     "output_type": "execute_result"
    }
   ],
   "source": [
    "preprocessed_data_test"
   ]
  },
  {
   "cell_type": "code",
   "execution_count": 8,
   "id": "74a1ae4f",
   "metadata": {},
   "outputs": [
    {
     "data": {
      "text/html": [
       "<div>\n",
       "<style scoped>\n",
       "    .dataframe tbody tr th:only-of-type {\n",
       "        vertical-align: middle;\n",
       "    }\n",
       "\n",
       "    .dataframe tbody tr th {\n",
       "        vertical-align: top;\n",
       "    }\n",
       "\n",
       "    .dataframe thead th {\n",
       "        text-align: right;\n",
       "    }\n",
       "</style>\n",
       "<table border=\"1\" class=\"dataframe\">\n",
       "  <thead>\n",
       "    <tr style=\"text-align: right;\">\n",
       "      <th></th>\n",
       "      <th>text</th>\n",
       "    </tr>\n",
       "  </thead>\n",
       "  <tbody>\n",
       "    <tr>\n",
       "      <th>0</th>\n",
       "      <td>poorly made shrink fit well</td>\n",
       "    </tr>\n",
       "    <tr>\n",
       "      <th>1</th>\n",
       "      <td>playing santa year authentic high quality sant...</td>\n",
       "    </tr>\n",
       "    <tr>\n",
       "      <th>2</th>\n",
       "      <td>bought two one better shipping schedule second...</td>\n",
       "    </tr>\n",
       "    <tr>\n",
       "      <th>3</th>\n",
       "      <td>came box scratch one lense know inexpensive un...</td>\n",
       "    </tr>\n",
       "    <tr>\n",
       "      <th>4</th>\n",
       "      <td>okay kind hard explain really liked skirt know...</td>\n",
       "    </tr>\n",
       "    <tr>\n",
       "      <th>...</th>\n",
       "      <td>...</td>\n",
       "    </tr>\n",
       "    <tr>\n",
       "      <th>5995</th>\n",
       "      <td>christmas gift boyfriend nice wallet appears l...</td>\n",
       "    </tr>\n",
       "    <tr>\n",
       "      <th>5996</th>\n",
       "      <td>better expected pleasantly surprised</td>\n",
       "    </tr>\n",
       "    <tr>\n",
       "      <th>5997</th>\n",
       "      <td>skirt awsome arrived real quick lb skirt fit l...</td>\n",
       "    </tr>\n",
       "    <tr>\n",
       "      <th>5998</th>\n",
       "      <td>excellent piece elegant sturdy design love fac...</td>\n",
       "    </tr>\n",
       "    <tr>\n",
       "      <th>5999</th>\n",
       "      <td>wonderful beach shirt</td>\n",
       "    </tr>\n",
       "  </tbody>\n",
       "</table>\n",
       "<p>6000 rows × 1 columns</p>\n",
       "</div>"
      ],
      "text/plain": [
       "                                                   text\n",
       "0                           poorly made shrink fit well\n",
       "1     playing santa year authentic high quality sant...\n",
       "2     bought two one better shipping schedule second...\n",
       "3     came box scratch one lense know inexpensive un...\n",
       "4     okay kind hard explain really liked skirt know...\n",
       "...                                                 ...\n",
       "5995  christmas gift boyfriend nice wallet appears l...\n",
       "5996               better expected pleasantly surprised\n",
       "5997  skirt awsome arrived real quick lb skirt fit l...\n",
       "5998  excellent piece elegant sturdy design love fac...\n",
       "5999                              wonderful beach shirt\n",
       "\n",
       "[6000 rows x 1 columns]"
      ]
     },
     "execution_count": 8,
     "metadata": {},
     "output_type": "execute_result"
    }
   ],
   "source": [
    "preprocessed_data_test['text'] = preprocessed_data_test['text'].apply(lambda x: ' '.join(map(str, x)))\n",
    "preprocessed_data_test"
   ]
  },
  {
   "cell_type": "code",
   "execution_count": 9,
   "id": "09e32a7b",
   "metadata": {},
   "outputs": [
    {
     "data": {
      "text/html": [
       "<div>\n",
       "<style scoped>\n",
       "    .dataframe tbody tr th:only-of-type {\n",
       "        vertical-align: middle;\n",
       "    }\n",
       "\n",
       "    .dataframe tbody tr th {\n",
       "        vertical-align: top;\n",
       "    }\n",
       "\n",
       "    .dataframe thead th {\n",
       "        text-align: right;\n",
       "    }\n",
       "</style>\n",
       "<table border=\"1\" class=\"dataframe\">\n",
       "  <thead>\n",
       "    <tr style=\"text-align: right;\">\n",
       "      <th></th>\n",
       "      <th>text</th>\n",
       "    </tr>\n",
       "  </thead>\n",
       "  <tbody>\n",
       "    <tr>\n",
       "      <th>0</th>\n",
       "      <td>love super comfortable</td>\n",
       "    </tr>\n",
       "    <tr>\n",
       "      <th>1</th>\n",
       "      <td>shave cremes need lather feeling fullness rich...</td>\n",
       "    </tr>\n",
       "    <tr>\n",
       "      <th>2</th>\n",
       "      <td>love bright color dress fabric nice feel reall...</td>\n",
       "    </tr>\n",
       "    <tr>\n",
       "      <th>3</th>\n",
       "      <td>see small got curve get fit like size</td>\n",
       "    </tr>\n",
       "    <tr>\n",
       "      <th>4</th>\n",
       "      <td>sister love wolf go wrong cute comfy wolfie</td>\n",
       "    </tr>\n",
       "    <tr>\n",
       "      <th>...</th>\n",
       "      <td>...</td>\n",
       "    </tr>\n",
       "    <tr>\n",
       "      <th>44995</th>\n",
       "      <td>sandal poorly constructed base shoe fitting ex...</td>\n",
       "    </tr>\n",
       "    <tr>\n",
       "      <th>44996</th>\n",
       "      <td>wow shirt comfortable fit hug body softness fr...</td>\n",
       "    </tr>\n",
       "    <tr>\n",
       "      <th>44997</th>\n",
       "      <td>problem heel pain pf looking good walking shoe...</td>\n",
       "    </tr>\n",
       "    <tr>\n",
       "      <th>44998</th>\n",
       "      <td>keep spotting hand everything blue ink even le...</td>\n",
       "    </tr>\n",
       "    <tr>\n",
       "      <th>44999</th>\n",
       "      <td>light died right away poor quality</td>\n",
       "    </tr>\n",
       "  </tbody>\n",
       "</table>\n",
       "<p>45000 rows × 1 columns</p>\n",
       "</div>"
      ],
      "text/plain": [
       "                                                    text\n",
       "0                                 love super comfortable\n",
       "1      shave cremes need lather feeling fullness rich...\n",
       "2      love bright color dress fabric nice feel reall...\n",
       "3                  see small got curve get fit like size\n",
       "4            sister love wolf go wrong cute comfy wolfie\n",
       "...                                                  ...\n",
       "44995  sandal poorly constructed base shoe fitting ex...\n",
       "44996  wow shirt comfortable fit hug body softness fr...\n",
       "44997  problem heel pain pf looking good walking shoe...\n",
       "44998  keep spotting hand everything blue ink even le...\n",
       "44999                 light died right away poor quality\n",
       "\n",
       "[45000 rows x 1 columns]"
      ]
     },
     "execution_count": 9,
     "metadata": {},
     "output_type": "execute_result"
    }
   ],
   "source": [
    "preprocessed_data_train['text'] = preprocessed_data_train['text'].apply(lambda x: ' '.join(map(str, x)))\n",
    "preprocessed_data_train"
   ]
  },
  {
   "cell_type": "code",
   "execution_count": 11,
   "id": "3924d11f",
   "metadata": {
    "scrolled": false
   },
   "outputs": [
    {
     "name": "stdout",
     "output_type": "stream",
     "text": [
      "max_features 3000 , ngram_range (1, 1) , n_neighbors 5 , weights uniform , metric cosine - accuracy = 0.5746666666666667\n",
      "max_features 3000 , ngram_range (1, 1) , n_neighbors 5 , weights uniform , metric euclidean - accuracy = 0.4435\n",
      "max_features 3000 , ngram_range (1, 1) , n_neighbors 5 , weights uniform , metric manhattan - accuracy = 0.3883333333333333\n",
      "max_features 3000 , ngram_range (1, 1) , n_neighbors 5 , weights distance , metric cosine - accuracy = 0.5711666666666667\n",
      "max_features 3000 , ngram_range (1, 1) , n_neighbors 5 , weights distance , metric euclidean - accuracy = 0.44383333333333336\n",
      "max_features 3000 , ngram_range (1, 1) , n_neighbors 5 , weights distance , metric manhattan - accuracy = 0.3873333333333333\n",
      "max_features 3000 , ngram_range (1, 1) , n_neighbors 7 , weights uniform , metric cosine - accuracy = 0.5875\n",
      "max_features 3000 , ngram_range (1, 1) , n_neighbors 7 , weights uniform , metric euclidean - accuracy = 0.438\n",
      "max_features 3000 , ngram_range (1, 1) , n_neighbors 7 , weights uniform , metric manhattan - accuracy = 0.38666666666666666\n",
      "max_features 3000 , ngram_range (1, 1) , n_neighbors 7 , weights distance , metric cosine - accuracy = 0.5815\n",
      "max_features 3000 , ngram_range (1, 1) , n_neighbors 7 , weights distance , metric euclidean - accuracy = 0.4365\n",
      "max_features 3000 , ngram_range (1, 1) , n_neighbors 7 , weights distance , metric manhattan - accuracy = 0.38616666666666666\n",
      "max_features 3000 , ngram_range (1, 1) , n_neighbors 9 , weights uniform , metric cosine - accuracy = 0.5906666666666667\n",
      "max_features 3000 , ngram_range (1, 1) , n_neighbors 9 , weights uniform , metric euclidean - accuracy = 0.48083333333333333\n",
      "max_features 3000 , ngram_range (1, 1) , n_neighbors 9 , weights uniform , metric manhattan - accuracy = 0.4015\n",
      "max_features 3000 , ngram_range (1, 1) , n_neighbors 9 , weights distance , metric cosine - accuracy = 0.5883333333333334\n",
      "max_features 3000 , ngram_range (1, 1) , n_neighbors 9 , weights distance , metric euclidean - accuracy = 0.48183333333333334\n",
      "max_features 3000 , ngram_range (1, 1) , n_neighbors 9 , weights distance , metric manhattan - accuracy = 0.3998333333333333\n",
      "max_features 3000 , ngram_range (1, 2) , n_neighbors 5 , weights uniform , metric cosine - accuracy = 0.5725\n",
      "max_features 3000 , ngram_range (1, 2) , n_neighbors 5 , weights uniform , metric euclidean - accuracy = 0.4488333333333333\n",
      "max_features 3000 , ngram_range (1, 2) , n_neighbors 5 , weights uniform , metric manhattan - accuracy = 0.3898333333333333\n",
      "max_features 3000 , ngram_range (1, 2) , n_neighbors 5 , weights distance , metric cosine - accuracy = 0.5701666666666667\n",
      "max_features 3000 , ngram_range (1, 2) , n_neighbors 5 , weights distance , metric euclidean - accuracy = 0.4498333333333333\n",
      "max_features 3000 , ngram_range (1, 2) , n_neighbors 5 , weights distance , metric manhattan - accuracy = 0.39\n",
      "max_features 3000 , ngram_range (1, 2) , n_neighbors 7 , weights uniform , metric cosine - accuracy = 0.5783333333333334\n",
      "max_features 3000 , ngram_range (1, 2) , n_neighbors 7 , weights uniform , metric euclidean - accuracy = 0.448\n",
      "max_features 3000 , ngram_range (1, 2) , n_neighbors 7 , weights uniform , metric manhattan - accuracy = 0.388\n",
      "max_features 3000 , ngram_range (1, 2) , n_neighbors 7 , weights distance , metric cosine - accuracy = 0.5771666666666667\n",
      "max_features 3000 , ngram_range (1, 2) , n_neighbors 7 , weights distance , metric euclidean - accuracy = 0.4475\n",
      "max_features 3000 , ngram_range (1, 2) , n_neighbors 7 , weights distance , metric manhattan - accuracy = 0.3885\n",
      "max_features 3000 , ngram_range (1, 2) , n_neighbors 9 , weights uniform , metric cosine - accuracy = 0.5863333333333334\n",
      "max_features 3000 , ngram_range (1, 2) , n_neighbors 9 , weights uniform , metric euclidean - accuracy = 0.48833333333333334\n",
      "max_features 3000 , ngram_range (1, 2) , n_neighbors 9 , weights uniform , metric manhattan - accuracy = 0.3978333333333333\n",
      "max_features 3000 , ngram_range (1, 2) , n_neighbors 9 , weights distance , metric cosine - accuracy = 0.5875\n",
      "max_features 3000 , ngram_range (1, 2) , n_neighbors 9 , weights distance , metric euclidean - accuracy = 0.49033333333333334\n",
      "max_features 3000 , ngram_range (1, 2) , n_neighbors 9 , weights distance , metric manhattan - accuracy = 0.398\n",
      "max_features 3000 , ngram_range (1, 3) , n_neighbors 5 , weights uniform , metric cosine - accuracy = 0.575\n",
      "max_features 3000 , ngram_range (1, 3) , n_neighbors 5 , weights uniform , metric euclidean - accuracy = 0.4495\n",
      "max_features 3000 , ngram_range (1, 3) , n_neighbors 5 , weights uniform , metric manhattan - accuracy = 0.3905\n",
      "max_features 3000 , ngram_range (1, 3) , n_neighbors 5 , weights distance , metric cosine - accuracy = 0.5693333333333334\n",
      "max_features 3000 , ngram_range (1, 3) , n_neighbors 5 , weights distance , metric euclidean - accuracy = 0.4503333333333333\n",
      "max_features 3000 , ngram_range (1, 3) , n_neighbors 5 , weights distance , metric manhattan - accuracy = 0.3908333333333333\n",
      "max_features 3000 , ngram_range (1, 3) , n_neighbors 7 , weights uniform , metric cosine - accuracy = 0.5776666666666667\n",
      "max_features 3000 , ngram_range (1, 3) , n_neighbors 7 , weights uniform , metric euclidean - accuracy = 0.448\n",
      "max_features 3000 , ngram_range (1, 3) , n_neighbors 7 , weights uniform , metric manhattan - accuracy = 0.3893333333333333\n",
      "max_features 3000 , ngram_range (1, 3) , n_neighbors 7 , weights distance , metric cosine - accuracy = 0.5758333333333333\n",
      "max_features 3000 , ngram_range (1, 3) , n_neighbors 7 , weights distance , metric euclidean - accuracy = 0.4475\n",
      "max_features 3000 , ngram_range (1, 3) , n_neighbors 7 , weights distance , metric manhattan - accuracy = 0.3898333333333333\n",
      "max_features 3000 , ngram_range (1, 3) , n_neighbors 9 , weights uniform , metric cosine - accuracy = 0.583\n",
      "max_features 3000 , ngram_range (1, 3) , n_neighbors 9 , weights uniform , metric euclidean - accuracy = 0.49166666666666664\n",
      "max_features 3000 , ngram_range (1, 3) , n_neighbors 9 , weights uniform , metric manhattan - accuracy = 0.3983333333333333\n",
      "max_features 3000 , ngram_range (1, 3) , n_neighbors 9 , weights distance , metric cosine - accuracy = 0.5848333333333333\n",
      "max_features 3000 , ngram_range (1, 3) , n_neighbors 9 , weights distance , metric euclidean - accuracy = 0.4925\n",
      "max_features 3000 , ngram_range (1, 3) , n_neighbors 9 , weights distance , metric manhattan - accuracy = 0.3985\n",
      "max_features 5000 , ngram_range (1, 1) , n_neighbors 5 , weights uniform , metric cosine - accuracy = 0.5693333333333334\n",
      "max_features 5000 , ngram_range (1, 1) , n_neighbors 5 , weights uniform , metric euclidean - accuracy = 0.4375\n",
      "max_features 5000 , ngram_range (1, 1) , n_neighbors 5 , weights uniform , metric manhattan - accuracy = 0.3895\n",
      "max_features 5000 , ngram_range (1, 1) , n_neighbors 5 , weights distance , metric cosine - accuracy = 0.5658333333333333\n",
      "max_features 5000 , ngram_range (1, 1) , n_neighbors 5 , weights distance , metric euclidean - accuracy = 0.4385\n",
      "max_features 5000 , ngram_range (1, 1) , n_neighbors 5 , weights distance , metric manhattan - accuracy = 0.3885\n",
      "max_features 5000 , ngram_range (1, 1) , n_neighbors 7 , weights uniform , metric cosine - accuracy = 0.587\n",
      "max_features 5000 , ngram_range (1, 1) , n_neighbors 7 , weights uniform , metric euclidean - accuracy = 0.43516666666666665\n",
      "max_features 5000 , ngram_range (1, 1) , n_neighbors 7 , weights uniform , metric manhattan - accuracy = 0.38716666666666666\n",
      "max_features 5000 , ngram_range (1, 1) , n_neighbors 7 , weights distance , metric cosine - accuracy = 0.5815\n",
      "max_features 5000 , ngram_range (1, 1) , n_neighbors 7 , weights distance , metric euclidean - accuracy = 0.43383333333333335\n",
      "max_features 5000 , ngram_range (1, 1) , n_neighbors 7 , weights distance , metric manhattan - accuracy = 0.38666666666666666\n",
      "max_features 5000 , ngram_range (1, 1) , n_neighbors 9 , weights uniform , metric cosine - accuracy = 0.5911666666666666\n",
      "max_features 5000 , ngram_range (1, 1) , n_neighbors 9 , weights uniform , metric euclidean - accuracy = 0.4735\n",
      "max_features 5000 , ngram_range (1, 1) , n_neighbors 9 , weights uniform , metric manhattan - accuracy = 0.3998333333333333\n",
      "max_features 5000 , ngram_range (1, 1) , n_neighbors 9 , weights distance , metric cosine - accuracy = 0.5873333333333334\n"
     ]
    },
    {
     "name": "stdout",
     "output_type": "stream",
     "text": [
      "max_features 5000 , ngram_range (1, 1) , n_neighbors 9 , weights distance , metric euclidean - accuracy = 0.47383333333333333\n",
      "max_features 5000 , ngram_range (1, 1) , n_neighbors 9 , weights distance , metric manhattan - accuracy = 0.3985\n",
      "max_features 5000 , ngram_range (1, 2) , n_neighbors 5 , weights uniform , metric cosine - accuracy = 0.5791666666666667\n",
      "max_features 5000 , ngram_range (1, 2) , n_neighbors 5 , weights uniform , metric euclidean - accuracy = 0.44183333333333336\n",
      "max_features 5000 , ngram_range (1, 2) , n_neighbors 5 , weights uniform , metric manhattan - accuracy = 0.38766666666666666\n",
      "max_features 5000 , ngram_range (1, 2) , n_neighbors 5 , weights distance , metric cosine - accuracy = 0.575\n",
      "max_features 5000 , ngram_range (1, 2) , n_neighbors 5 , weights distance , metric euclidean - accuracy = 0.4385\n",
      "max_features 5000 , ngram_range (1, 2) , n_neighbors 5 , weights distance , metric manhattan - accuracy = 0.3873333333333333\n",
      "max_features 5000 , ngram_range (1, 2) , n_neighbors 7 , weights uniform , metric cosine - accuracy = 0.591\n",
      "max_features 5000 , ngram_range (1, 2) , n_neighbors 7 , weights uniform , metric euclidean - accuracy = 0.43516666666666665\n",
      "max_features 5000 , ngram_range (1, 2) , n_neighbors 7 , weights uniform , metric manhattan - accuracy = 0.3868333333333333\n",
      "max_features 5000 , ngram_range (1, 2) , n_neighbors 7 , weights distance , metric cosine - accuracy = 0.5893333333333334\n",
      "max_features 5000 , ngram_range (1, 2) , n_neighbors 7 , weights distance , metric euclidean - accuracy = 0.436\n",
      "max_features 5000 , ngram_range (1, 2) , n_neighbors 7 , weights distance , metric manhattan - accuracy = 0.387\n",
      "max_features 5000 , ngram_range (1, 2) , n_neighbors 9 , weights uniform , metric cosine - accuracy = 0.5925\n",
      "max_features 5000 , ngram_range (1, 2) , n_neighbors 9 , weights uniform , metric euclidean - accuracy = 0.47983333333333333\n",
      "max_features 5000 , ngram_range (1, 2) , n_neighbors 9 , weights uniform , metric manhattan - accuracy = 0.39\n",
      "max_features 5000 , ngram_range (1, 2) , n_neighbors 9 , weights distance , metric cosine - accuracy = 0.592\n",
      "max_features 5000 , ngram_range (1, 2) , n_neighbors 9 , weights distance , metric euclidean - accuracy = 0.4786666666666667\n",
      "max_features 5000 , ngram_range (1, 2) , n_neighbors 9 , weights distance , metric manhattan - accuracy = 0.3893333333333333\n",
      "max_features 5000 , ngram_range (1, 3) , n_neighbors 5 , weights uniform , metric cosine - accuracy = 0.5768333333333333\n",
      "max_features 5000 , ngram_range (1, 3) , n_neighbors 5 , weights uniform , metric euclidean - accuracy = 0.441\n",
      "max_features 5000 , ngram_range (1, 3) , n_neighbors 5 , weights uniform , metric manhattan - accuracy = 0.3878333333333333\n",
      "max_features 5000 , ngram_range (1, 3) , n_neighbors 5 , weights distance , metric cosine - accuracy = 0.5713333333333334\n",
      "max_features 5000 , ngram_range (1, 3) , n_neighbors 5 , weights distance , metric euclidean - accuracy = 0.43783333333333335\n",
      "max_features 5000 , ngram_range (1, 3) , n_neighbors 5 , weights distance , metric manhattan - accuracy = 0.3875\n",
      "max_features 5000 , ngram_range (1, 3) , n_neighbors 7 , weights uniform , metric cosine - accuracy = 0.5875\n",
      "max_features 5000 , ngram_range (1, 3) , n_neighbors 7 , weights uniform , metric euclidean - accuracy = 0.43483333333333335\n",
      "max_features 5000 , ngram_range (1, 3) , n_neighbors 7 , weights uniform , metric manhattan - accuracy = 0.3868333333333333\n",
      "max_features 5000 , ngram_range (1, 3) , n_neighbors 7 , weights distance , metric cosine - accuracy = 0.5856666666666667\n",
      "max_features 5000 , ngram_range (1, 3) , n_neighbors 7 , weights distance , metric euclidean - accuracy = 0.43466666666666665\n",
      "max_features 5000 , ngram_range (1, 3) , n_neighbors 7 , weights distance , metric manhattan - accuracy = 0.387\n",
      "max_features 5000 , ngram_range (1, 3) , n_neighbors 9 , weights uniform , metric cosine - accuracy = 0.5903333333333334\n",
      "max_features 5000 , ngram_range (1, 3) , n_neighbors 9 , weights uniform , metric euclidean - accuracy = 0.4861666666666667\n",
      "max_features 5000 , ngram_range (1, 3) , n_neighbors 9 , weights uniform , metric manhattan - accuracy = 0.39066666666666666\n",
      "max_features 5000 , ngram_range (1, 3) , n_neighbors 9 , weights distance , metric cosine - accuracy = 0.5866666666666667\n",
      "max_features 5000 , ngram_range (1, 3) , n_neighbors 9 , weights distance , metric euclidean - accuracy = 0.484\n",
      "max_features 5000 , ngram_range (1, 3) , n_neighbors 9 , weights distance , metric manhattan - accuracy = 0.39\n"
     ]
    }
   ],
   "source": [
    "for max_ft in [3000, 5000]:\n",
    "    for ngram_range in [(1, 1), (1, 2), (1, 3)]: \n",
    "        for neighbors in [5, 7, 9]:\n",
    "            for weights in ['uniform', 'distance']:\n",
    "                for metric in ['cosine', 'euclidean', 'manhattan']:\n",
    "                    tfidf_vectorizer = TfidfVectorizer(ngram_range = ngram_range, max_features = max_ft)\n",
    "                    train_tfidf = tfidf_vectorizer.fit_transform(preprocessed_data_train['text']) \n",
    "                    test_tfidf = tfidf_vectorizer.transform(preprocessed_data_test['text']) \n",
    "\n",
    "                    knn_model = KNeighborsClassifier(n_neighbors = neighbors, weights = weights, metric = metric)\n",
    "                    knn_model.fit(train_tfidf, train_labels['label'])\n",
    "                    predictions = knn_model.predict(test_tfidf)\n",
    "                    acc = metrics.accuracy_score(test_labels['label'], predictions)\n",
    "                    print(\"max_features\", max_ft, \", ngram_range\", ngram_range, \", n_neighbors\", neighbors, \", weights\", weights, \", metric\", metric, \"- accuracy =\", acc)"
   ]
  },
  {
   "cell_type": "code",
   "execution_count": 11,
   "id": "754fc1fa",
   "metadata": {},
   "outputs": [],
   "source": [
    "#max_features 5000 , ngram_range (1, 2) , n_neighbors 9 , weights uniform , metric cosine - accuracy = 0.5925\n",
    "tfidf_vectorizer = TfidfVectorizer(ngram_range = (1, 2), max_features = 5000)\n",
    "train_tfidf = tfidf_vectorizer.fit_transform(preprocessed_data_train['text']) \n",
    "test_tfidf = tfidf_vectorizer.transform(preprocessed_data_test['text'])\n",
    "            \n",
    "knn_model = KNeighborsClassifier(n_neighbors = 9, weights = \"uniform\", metric = \"cosine\")\n",
    "knn_model.fit(train_tfidf, train_labels['label'])\n",
    "predictions = knn_model.predict(test_tfidf)\n",
    "acc = metrics.accuracy_score(test_labels['label'], predictions)"
   ]
  },
  {
   "cell_type": "code",
   "execution_count": 12,
   "id": "fae3028e",
   "metadata": {},
   "outputs": [
    {
     "name": "stdout",
     "output_type": "stream",
     "text": [
      "              precision    recall  f1-score   support\n",
      "\n",
      "    negative       0.58      0.72      0.64      2250\n",
      "     neutral       0.41      0.21      0.28      1500\n",
      "    positive       0.67      0.72      0.69      2250\n",
      "\n",
      "    accuracy                           0.59      6000\n",
      "   macro avg       0.55      0.55      0.54      6000\n",
      "weighted avg       0.57      0.59      0.57      6000\n",
      "\n"
     ]
    }
   ],
   "source": [
    "from sklearn.metrics import classification_report\n",
    "\n",
    "print(classification_report(test_labels['label'], predictions))"
   ]
  },
  {
   "cell_type": "code",
   "execution_count": 13,
   "id": "58a00f15",
   "metadata": {},
   "outputs": [
    {
     "data": {
      "image/png": "[encoded data removed]",
      "text/plain": [
       "<Figure size 800x600 with 2 Axes>"
      ]
     },
     "metadata": {},
     "output_type": "display_data"
    }
   ],
   "source": [
    "import seaborn as sns\n",
    "from sklearn.metrics import confusion_matrix\n",
    "\n",
    "conf_matrix = confusion_matrix(test_labels['label'], predictions)\n",
    "\n",
    "plt.figure(figsize = (8, 6))\n",
    "sns.heatmap(conf_matrix, annot = True, fmt = 'd', cmap = 'Purples', xticklabels = ['negative', 'neutral', 'positive'], yticklabels = ['negative', 'neutral', 'positive'])\n",
    "plt.xlabel('Predicted Labels')\n",
    "plt.ylabel('True Labels')\n",
    "plt.title('Confusion Matrix')\n",
    "plt.show()"
   ]
  },
  {
   "cell_type": "code",
   "execution_count": 5,
   "id": "aca3fc02",
   "metadata": {},
   "outputs": [
    {
     "data": {
      "image/png": "[encoded data removed]",
      "text/plain": [
       "<Figure size 1000x400 with 1 Axes>"
      ]
     },
     "metadata": {},
     "output_type": "display_data"
    }
   ],
   "source": [
    "#plot the acc by number of neighbors/metric\n",
    "values = [0.5791, 0.591, 0.5925]\n",
    "neighbors = [5, 7, 9]\n",
    "plt.figure(figsize = (10, 4))\n",
    "plt.plot(neighbors, values, marker = 'o', linestyle = '-', color = 'orange')\n",
    "plt.xlabel('N_neighbors')\n",
    "plt.ylabel('Accuracy')\n",
    "plt.title('Accuracy by number of neighbors')\n",
    "plt.xticks(neighbors)\n",
    "plt.show()"
   ]
  },
  {
   "cell_type": "code",
   "execution_count": 7,
   "id": "fb3ea67f",
   "metadata": {},
   "outputs": [
    {
     "data": {
      "image/png": "[encoded data removed]",
      "text/plain": [
       "<Figure size 1000x400 with 1 Axes>"
      ]
     },
     "metadata": {},
     "output_type": "display_data"
    }
   ],
   "source": [
    "values = [0.4925, 0.5925, 0.4015]\n",
    "metric = [\"euclidean\", \"cosine\", \"manhattan\"]\n",
    "plt.figure(figsize = (10, 4))\n",
    "plt.plot(metric, values, marker = 'o', linestyle = '-', color = 'pink')\n",
    "plt.xlabel('Metric')\n",
    "plt.ylabel('Accuracy')\n",
    "plt.title('Accuracy by metric')\n",
    "plt.show()"
   ]
  },
  {
   "cell_type": "code",
   "execution_count": null,
   "id": "d0d3607f",
   "metadata": {},
   "outputs": [],
   "source": []
  }
 ],
 "metadata": {
  "kernelspec": {
   "display_name": "Python 3 (ipykernel)",
   "language": "python",
   "name": "python3"
  },
  "language_info": {
   "codemirror_mode": {
    "name": "ipython",
    "version": 3
   },
   "file_extension": ".py",
   "mimetype": "text/x-python",
   "name": "python",
   "nbconvert_exporter": "python",
   "pygments_lexer": "ipython3",
   "version": "3.11.5"
  }
 },
 "nbformat": 4,
 "nbformat_minor": 5
}
