{
 "cells": [
  {
   "cell_type": "code",
   "execution_count": 1,
   "id": "fad7f897",
   "metadata": {},
   "outputs": [],
   "source": [
    "# !pip install scikit-learn\n",
    "# !pip install pandas\n",
    "# !pip install emoji\n",
    "# !pip install num2words\n",
    "# !pip install nltk\n",
    "# !pip install matplotlib\n",
    "# !pip install wordcloud\n",
    "# !pip install ipynb "
   ]
  },
  {
   "cell_type": "code",
   "execution_count": 11,
   "outputs": [
    {
     "name": "stderr",
     "output_type": "stream",
     "text": [
      "[nltk_data] Downloading package stopwords to\n",
      "[nltk_data]     C:\\Users\\tiast\\AppData\\Roaming\\nltk_data...\n",
      "[nltk_data]   Package stopwords is already up-to-date!\n",
      "[nltk_data] Downloading package wordnet to\n",
      "[nltk_data]     C:\\Users\\tiast\\AppData\\Roaming\\nltk_data...\n",
      "[nltk_data]   Package wordnet is already up-to-date!\n",
      "[nltk_data] Downloading package stopwords to\n",
      "[nltk_data]     C:\\Users\\tiast\\AppData\\Roaming\\nltk_data...\n",
      "[nltk_data]   Package stopwords is already up-to-date!\n",
      "[nltk_data] Downloading package wordnet to\n",
      "[nltk_data]     C:\\Users\\tiast\\AppData\\Roaming\\nltk_data...\n",
      "[nltk_data]   Package wordnet is already up-to-date!\n"
     ]
    }
   ],
   "source": [
    "import json\n",
    "import pandas as pd\n",
    "from sklearn.model_selection import train_test_split\n",
    "import re\n",
    "import emoji\n",
    "from num2words import num2words\n",
    "import nltk\n",
    "from nltk.corpus import stopwords\n",
    "from nltk.stem import WordNetLemmatizer\n",
    "from nltk.stem import PorterStemmer\n",
    "nltk.download('stopwords')\n",
    "nltk.download('wordnet')\n",
    "import matplotlib.pyplot as plt\n",
    "from collections import defaultdict\n",
    "from collections import Counter\n",
    "from matplotlib import colors\n",
    "import pandas as pd\n",
    "from ipynb.fs.full.preprocessor_class import Preprocessor"
   ],
   "metadata": {
    "collapsed": false,
    "ExecuteTime": {
     "end_time": "2023-12-18T10:37:52.040741200Z",
     "start_time": "2023-12-18T10:37:52.022739Z"
    }
   },
   "id": "dd19a011db4b6ad0"
  },
  {
   "cell_type": "code",
   "execution_count": 12,
   "id": "86add3ba",
   "metadata": {
    "ExecuteTime": {
     "end_time": "2023-12-18T17:43:32.143007600Z",
     "start_time": "2023-12-18T17:43:31.284207600Z"
    }
   },
   "outputs": [
    {
     "data": {
      "text/plain": "(45000, 1)"
     },
     "execution_count": 12,
     "metadata": {},
     "output_type": "execute_result"
    }
   ],
   "source": [
    "train_data = pd.read_csv('data/shuffled_train_data.csv',index_col=None)\n",
    "train_labels = pd.read_csv('data/shuffled_train_labels.csv',index_col=None)\n",
    "\n",
    "test_data = pd.read_csv('data/test_data.csv',index_col=None)\n",
    "test_labels = pd.read_csv('data/test_labels.csv',index_col=None)\n",
    "\n",
    "train_data_plot = pd.read_csv('data/train_data_plot.csv',index_col=None)\n",
    "test_data_plot = pd.read_csv('data/test_data_plot.csv',index_col=None)\n",
    "\n",
    "train_data.shape"
   ]
  },
  {
   "cell_type": "code",
   "execution_count": 0,
   "id": "2ff37d489945a7b5",
   "metadata": {},
   "outputs": [],
   "source": [
    "preprocessor = Preprocessor(set(stopwords.words('english')), WordNetLemmatizer(), PorterStemmer(), True, True, True, True, True, False, True, True, True, False)\n",
    "\n",
    "preprocessed_data = pd.DataFrame(columns=['text'])\n",
    "\n",
    "preprocessed_data_train = pd.DataFrame(columns=['text'])\n",
    "preprocessed_data_test = pd.DataFrame(columns=['text'])\n",
    "\n",
    "preprocessed_data_train['text'] = train_data.apply(lambda row: preprocessor.preprocess(row.iloc[0]), axis = 1)\n",
    "\n",
    "preprocessed_data_test['text'] = test_data.apply(lambda row: preprocessor.preprocess(row.iloc[0]), axis = 1)"
   ]
  },
  {
   "cell_type": "code",
   "execution_count": 14,
   "outputs": [
    {
     "data": {
      "text/plain": "                                                    text\n0                             [love, super, comfortable]\n1      [shave, cremes, need, lather, feeling, fullnes...\n2      [love, bright, color, dress, fabric, nice, fee...\n3         [see, small, got, curve, get, fit, like, size]\n4      [sister, love, wolf, go, wrong, cute, comfy, w...\n...                                                  ...\n44995  [sandal, poorly, constructed, base, shoe, fitt...\n44996  [wow, shirt, comfortable, fit, hug, body, soft...\n44997  [problem, heel, pain, pf, looking, good, walki...\n44998  [keep, spotting, hand, everything, blue, ink, ...\n44999          [light, died, right, away, poor, quality]\n\n[45000 rows x 1 columns]",
      "text/html": "<div>\n<style scoped>\n    .dataframe tbody tr th:only-of-type {\n        vertical-align: middle;\n    }\n\n    .dataframe tbody tr th {\n        vertical-align: top;\n    }\n\n    .dataframe thead th {\n        text-align: right;\n    }\n</style>\n<table border=\"1\" class=\"dataframe\">\n  <thead>\n    <tr style=\"text-align: right;\">\n      <th></th>\n      <th>text</th>\n    </tr>\n  </thead>\n  <tbody>\n    <tr>\n      <th>0</th>\n      <td>[love, super, comfortable]</td>\n    </tr>\n    <tr>\n      <th>1</th>\n      <td>[shave, cremes, need, lather, feeling, fullnes...</td>\n    </tr>\n    <tr>\n      <th>2</th>\n      <td>[love, bright, color, dress, fabric, nice, fee...</td>\n    </tr>\n    <tr>\n      <th>3</th>\n      <td>[see, small, got, curve, get, fit, like, size]</td>\n    </tr>\n    <tr>\n      <th>4</th>\n      <td>[sister, love, wolf, go, wrong, cute, comfy, w...</td>\n    </tr>\n    <tr>\n      <th>...</th>\n      <td>...</td>\n    </tr>\n    <tr>\n      <th>44995</th>\n      <td>[sandal, poorly, constructed, base, shoe, fitt...</td>\n    </tr>\n    <tr>\n      <th>44996</th>\n      <td>[wow, shirt, comfortable, fit, hug, body, soft...</td>\n    </tr>\n    <tr>\n      <th>44997</th>\n      <td>[problem, heel, pain, pf, looking, good, walki...</td>\n    </tr>\n    <tr>\n      <th>44998</th>\n      <td>[keep, spotting, hand, everything, blue, ink, ...</td>\n    </tr>\n    <tr>\n      <th>44999</th>\n      <td>[light, died, right, away, poor, quality]</td>\n    </tr>\n  </tbody>\n</table>\n<p>45000 rows × 1 columns</p>\n</div>"
     },
     "execution_count": 14,
     "metadata": {},
     "output_type": "execute_result"
    }
   ],
   "source": [
    "preprocessed_data_train"
   ],
   "metadata": {
    "collapsed": false,
    "ExecuteTime": {
     "start_time": "2023-12-18T17:44:21.339318Z"
    }
   },
   "id": "fe4eccce"
  },
  {
   "cell_type": "code",
   "execution_count": 15,
   "id": "526ab41c",
   "metadata": {
    "ExecuteTime": {
     "end_time": "2023-12-18T17:46:21.356909300Z",
     "start_time": "2023-12-18T17:46:21.243004100Z"
    }
   },
   "outputs": [
    {
     "data": {
      "text/plain": "                                                   text\n0                     [poorly, made, shrink, fit, well]\n1     [playing, santa, year, authentic, high, qualit...\n2     [bought, two, one, better, shipping, schedule,...\n3     [came, box, scratch, one, lense, know, inexpen...\n4     [okay, kind, hard, explain, really, liked, ski...\n...                                                 ...\n5995  [christmas, gift, boyfriend, nice, wallet, app...\n5996          [better, expected, pleasantly, surprised]\n5997  [skirt, awsome, arrived, real, quick, lb, skir...\n5998  [excellent, piece, elegant, sturdy, design, lo...\n5999                          [wonderful, beach, shirt]\n\n[6000 rows x 1 columns]",
      "text/html": "<div>\n<style scoped>\n    .dataframe tbody tr th:only-of-type {\n        vertical-align: middle;\n    }\n\n    .dataframe tbody tr th {\n        vertical-align: top;\n    }\n\n    .dataframe thead th {\n        text-align: right;\n    }\n</style>\n<table border=\"1\" class=\"dataframe\">\n  <thead>\n    <tr style=\"text-align: right;\">\n      <th></th>\n      <th>text</th>\n    </tr>\n  </thead>\n  <tbody>\n    <tr>\n      <th>0</th>\n      <td>[poorly, made, shrink, fit, well]</td>\n    </tr>\n    <tr>\n      <th>1</th>\n      <td>[playing, santa, year, authentic, high, qualit...</td>\n    </tr>\n    <tr>\n      <th>2</th>\n      <td>[bought, two, one, better, shipping, schedule,...</td>\n    </tr>\n    <tr>\n      <th>3</th>\n      <td>[came, box, scratch, one, lense, know, inexpen...</td>\n    </tr>\n    <tr>\n      <th>4</th>\n      <td>[okay, kind, hard, explain, really, liked, ski...</td>\n    </tr>\n    <tr>\n      <th>...</th>\n      <td>...</td>\n    </tr>\n    <tr>\n      <th>5995</th>\n      <td>[christmas, gift, boyfriend, nice, wallet, app...</td>\n    </tr>\n    <tr>\n      <th>5996</th>\n      <td>[better, expected, pleasantly, surprised]</td>\n    </tr>\n    <tr>\n      <th>5997</th>\n      <td>[skirt, awsome, arrived, real, quick, lb, skir...</td>\n    </tr>\n    <tr>\n      <th>5998</th>\n      <td>[excellent, piece, elegant, sturdy, design, lo...</td>\n    </tr>\n    <tr>\n      <th>5999</th>\n      <td>[wonderful, beach, shirt]</td>\n    </tr>\n  </tbody>\n</table>\n<p>6000 rows × 1 columns</p>\n</div>"
     },
     "execution_count": 15,
     "metadata": {},
     "output_type": "execute_result"
    }
   ],
   "source": [
    "preprocessed_data_test"
   ]
  },
  {
   "cell_type": "code",
   "execution_count": 16,
   "outputs": [
    {
     "data": {
      "text/plain": "                                                   text\n0                           poorly made shrink fit well\n1     playing santa year authentic high quality sant...\n2     bought two one better shipping schedule second...\n3     came box scratch one lense know inexpensive un...\n4     okay kind hard explain really liked skirt know...\n...                                                 ...\n5995  christmas gift boyfriend nice wallet appears l...\n5996               better expected pleasantly surprised\n5997  skirt awsome arrived real quick lb skirt fit l...\n5998  excellent piece elegant sturdy design love fac...\n5999                              wonderful beach shirt\n\n[6000 rows x 1 columns]",
      "text/html": "<div>\n<style scoped>\n    .dataframe tbody tr th:only-of-type {\n        vertical-align: middle;\n    }\n\n    .dataframe tbody tr th {\n        vertical-align: top;\n    }\n\n    .dataframe thead th {\n        text-align: right;\n    }\n</style>\n<table border=\"1\" class=\"dataframe\">\n  <thead>\n    <tr style=\"text-align: right;\">\n      <th></th>\n      <th>text</th>\n    </tr>\n  </thead>\n  <tbody>\n    <tr>\n      <th>0</th>\n      <td>poorly made shrink fit well</td>\n    </tr>\n    <tr>\n      <th>1</th>\n      <td>playing santa year authentic high quality sant...</td>\n    </tr>\n    <tr>\n      <th>2</th>\n      <td>bought two one better shipping schedule second...</td>\n    </tr>\n    <tr>\n      <th>3</th>\n      <td>came box scratch one lense know inexpensive un...</td>\n    </tr>\n    <tr>\n      <th>4</th>\n      <td>okay kind hard explain really liked skirt know...</td>\n    </tr>\n    <tr>\n      <th>...</th>\n      <td>...</td>\n    </tr>\n    <tr>\n      <th>5995</th>\n      <td>christmas gift boyfriend nice wallet appears l...</td>\n    </tr>\n    <tr>\n      <th>5996</th>\n      <td>better expected pleasantly surprised</td>\n    </tr>\n    <tr>\n      <th>5997</th>\n      <td>skirt awsome arrived real quick lb skirt fit l...</td>\n    </tr>\n    <tr>\n      <th>5998</th>\n      <td>excellent piece elegant sturdy design love fac...</td>\n    </tr>\n    <tr>\n      <th>5999</th>\n      <td>wonderful beach shirt</td>\n    </tr>\n  </tbody>\n</table>\n<p>6000 rows × 1 columns</p>\n</div>"
     },
     "execution_count": 16,
     "metadata": {},
     "output_type": "execute_result"
    }
   ],
   "source": [
    "preprocessed_data_test['text'] = preprocessed_data_test['text'].apply(lambda x: ' '.join(map(str, x)))\n",
    "preprocessed_data_test"
   ],
   "metadata": {
    "collapsed": false,
    "ExecuteTime": {
     "end_time": "2023-12-18T17:46:21.357916100Z",
     "start_time": "2023-12-18T17:46:21.269813400Z"
    }
   },
   "id": "3677d4304d4e7f71"
  },
  {
   "cell_type": "code",
   "execution_count": 17,
   "outputs": [
    {
     "data": {
      "text/plain": "                                                    text\n0                                 love super comfortable\n1      shave cremes need lather feeling fullness rich...\n2      love bright color dress fabric nice feel reall...\n3                  see small got curve get fit like size\n4            sister love wolf go wrong cute comfy wolfie\n...                                                  ...\n44995  sandal poorly constructed base shoe fitting ex...\n44996  wow shirt comfortable fit hug body softness fr...\n44997  problem heel pain pf looking good walking shoe...\n44998  keep spotting hand everything blue ink even le...\n44999                 light died right away poor quality\n\n[45000 rows x 1 columns]",
      "text/html": "<div>\n<style scoped>\n    .dataframe tbody tr th:only-of-type {\n        vertical-align: middle;\n    }\n\n    .dataframe tbody tr th {\n        vertical-align: top;\n    }\n\n    .dataframe thead th {\n        text-align: right;\n    }\n</style>\n<table border=\"1\" class=\"dataframe\">\n  <thead>\n    <tr style=\"text-align: right;\">\n      <th></th>\n      <th>text</th>\n    </tr>\n  </thead>\n  <tbody>\n    <tr>\n      <th>0</th>\n      <td>love super comfortable</td>\n    </tr>\n    <tr>\n      <th>1</th>\n      <td>shave cremes need lather feeling fullness rich...</td>\n    </tr>\n    <tr>\n      <th>2</th>\n      <td>love bright color dress fabric nice feel reall...</td>\n    </tr>\n    <tr>\n      <th>3</th>\n      <td>see small got curve get fit like size</td>\n    </tr>\n    <tr>\n      <th>4</th>\n      <td>sister love wolf go wrong cute comfy wolfie</td>\n    </tr>\n    <tr>\n      <th>...</th>\n      <td>...</td>\n    </tr>\n    <tr>\n      <th>44995</th>\n      <td>sandal poorly constructed base shoe fitting ex...</td>\n    </tr>\n    <tr>\n      <th>44996</th>\n      <td>wow shirt comfortable fit hug body softness fr...</td>\n    </tr>\n    <tr>\n      <th>44997</th>\n      <td>problem heel pain pf looking good walking shoe...</td>\n    </tr>\n    <tr>\n      <th>44998</th>\n      <td>keep spotting hand everything blue ink even le...</td>\n    </tr>\n    <tr>\n      <th>44999</th>\n      <td>light died right away poor quality</td>\n    </tr>\n  </tbody>\n</table>\n<p>45000 rows × 1 columns</p>\n</div>"
     },
     "execution_count": 17,
     "metadata": {},
     "output_type": "execute_result"
    }
   ],
   "source": [
    "preprocessed_data_train['text'] = preprocessed_data_train['text'].apply(lambda x: ' '.join(map(str, x)))\n",
    "preprocessed_data_train"
   ],
   "metadata": {
    "collapsed": false,
    "ExecuteTime": {
     "end_time": "2023-12-18T17:46:49.256026300Z",
     "start_time": "2023-12-18T17:46:49.193607300Z"
    }
   },
   "id": "b43c58d8bdf48377"
  },
  {
   "cell_type": "code",
   "execution_count": 18,
   "outputs": [],
   "source": [
    "from sklearn.feature_extraction.text import TfidfVectorizer\n",
    "tfidf_vectorizer = TfidfVectorizer()\n",
    "train_tfidf = tfidf_vectorizer.fit_transform(preprocessed_data_train['text']) \n",
    "test_tfidf = tfidf_vectorizer.transform(preprocessed_data_test['text']) "
   ],
   "metadata": {
    "collapsed": false,
    "ExecuteTime": {
     "end_time": "2023-12-18T17:47:04.382378400Z",
     "start_time": "2023-12-18T17:47:03.421599800Z"
    }
   },
   "id": "74de66c85b7946a4"
  },
  {
   "cell_type": "code",
   "execution_count": null,
   "outputs": [],
   "source": [
    "from sklearn.svm import SVC\n",
    "from sklearn import metrics\n",
    "\n",
    "neigh = SVC()\n",
    "neigh.fit(train_tfidf, train_labels['label'])\n",
    "predictii = neigh.predict(test_tfidf)\n",
    "acuratete = metrics.accuracy_score(test_labels['label'], predictii)"
   ],
   "metadata": {
    "collapsed": false,
    "ExecuteTime": {
     "start_time": "2023-12-18T18:04:03.632098600Z"
    }
   },
   "id": "630d7afe455cc93a"
  },
  {
   "cell_type": "code",
   "execution_count": null,
   "outputs": [],
   "source": [
    "from sklearn.metrics import classification_report\n",
    "\n",
    "print(classification_report(test_labels['label'], predictii))"
   ],
   "metadata": {
    "collapsed": false
   },
   "id": "7b7eb31ca4bf9112"
  },
  {
   "cell_type": "code",
   "execution_count": null,
   "outputs": [],
   "source": [
    "import seaborn as sns\n",
    "from sklearn.metrics import confusion_matrix\n",
    "\n",
    "conf_matrix = confusion_matrix(test_labels['label'], predictii)\n",
    "\n",
    "plt.figure(figsize=(8, 6))\n",
    "sns.heatmap(conf_matrix, annot=True, fmt='d', cmap='Purples')\n",
    "plt.xlabel('Predicted Labels')\n",
    "plt.ylabel('True Labels')\n",
    "plt.title('Confusion Matrix')\n",
    "plt.show()"
   ],
   "metadata": {
    "collapsed": false
   },
   "id": "7e0ba667b971a65e"
  },
  {
   "cell_type": "code",
   "execution_count": null,
   "outputs": [],
   "source": [],
   "metadata": {
    "collapsed": false
   },
   "id": "2480f9c5f4df979b"
  }
 ],
 "metadata": {
  "kernelspec": {
   "display_name": "Python 3 (ipykernel)",
   "language": "python",
   "name": "python3"
  },
  "language_info": {
   "codemirror_mode": {
    "name": "ipython",
    "version": 3
   },
   "file_extension": ".py",
   "mimetype": "text/x-python",
   "name": "python",
   "nbconvert_exporter": "python",
   "pygments_lexer": "ipython3",
   "version": "3.11.5"
  }
 },
 "nbformat": 4,
 "nbformat_minor": 5
}
