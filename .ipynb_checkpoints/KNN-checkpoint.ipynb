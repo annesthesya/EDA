{
 "cells": [
  {
   "cell_type": "code",
   "execution_count": 1,
   "id": "12f83c2a",
   "metadata": {},
   "outputs": [],
   "source": [
    "# !pip install scikit-learn\n",
    "# !pip install pandas\n",
    "# !pip install emoji\n",
    "# !pip install num2words\n",
    "# !pip install nltk\n",
    "# !pip install matplotlib\n",
    "# !pip install wordcloud"
   ]
  },
  {
   "cell_type": "code",
   "execution_count": 2,
   "id": "37c9f4c1",
   "metadata": {},
   "outputs": [
    {
     "name": "stderr",
     "output_type": "stream",
     "text": [
      "[nltk_data] Downloading package stopwords to\n",
      "[nltk_data]     C:\\Users\\Andreea\\AppData\\Roaming\\nltk_data...\n",
      "[nltk_data]   Package stopwords is already up-to-date!\n",
      "[nltk_data] Downloading package wordnet to\n",
      "[nltk_data]     C:\\Users\\Andreea\\AppData\\Roaming\\nltk_data...\n",
      "[nltk_data]   Package wordnet is already up-to-date!\n"
     ]
    }
   ],
   "source": [
    "import json\n",
    "import pandas as pd\n",
    "from sklearn.model_selection import train_test_split\n",
    "import re\n",
    "import emoji\n",
    "from num2words import num2words\n",
    "import nltk\n",
    "from nltk.corpus import stopwords\n",
    "from nltk.stem import WordNetLemmatizer\n",
    "from nltk.stem import PorterStemmer\n",
    "nltk.download('stopwords')\n",
    "nltk.download('wordnet')\n",
    "import matplotlib.pyplot as plt\n",
    "from collections import defaultdict\n",
    "from collections import Counter\n",
    "from matplotlib import colors\n",
    "from wordcloud import WordCloud"
   ]
  },
  {
   "cell_type": "code",
   "execution_count": 23,
   "id": "f35ea531",
   "metadata": {},
   "outputs": [],
   "source": [
    "#!pip install ipynb \n",
    "from ipynb.fs.full.preprocessor_class import Preprocessor"
   ]
  },
  {
   "cell_type": "code",
   "execution_count": 24,
   "id": "9e9101a4",
   "metadata": {},
   "outputs": [
    {
     "data": {
      "text/plain": [
       "(45000, 1)"
      ]
     },
     "execution_count": 24,
     "metadata": {},
     "output_type": "execute_result"
    }
   ],
   "source": [
    "train_data = pd.read_csv('data/shuffled_train_data.csv',index_col=None)\n",
    "train_labels = pd.read_csv('data/shuffled_train_labels.csv',index_col=None)\n",
    "\n",
    "test_data = pd.read_csv('data/test_data.csv',index_col=None)\n",
    "test_labels = pd.read_csv('data/test_labels.csv',index_col=None)\n",
    "\n",
    "train_data_plot = pd.read_csv('data/train_data_plot.csv',index_col=None)\n",
    "test_data_plot = pd.read_csv('data/test_data_plot.csv',index_col=None)\n",
    "\n",
    "train_data.shape"
   ]
  },
  {
   "cell_type": "code",
   "execution_count": 25,
   "id": "79719748",
   "metadata": {},
   "outputs": [],
   "source": [
    "preprocessor = Preprocessor(set(stopwords.words('english')), WordNetLemmatizer(), PorterStemmer(), True, True, True, True, True, False, True, True, True, False)\n",
    "\n",
    "preprocessed_data_train = pd.DataFrame(columns=['text'])\n",
    "preprocessed_data_test = pd.DataFrame(columns=['text'])\n",
    "\n",
    "preprocessed_data_train['text'] = train_data.apply(lambda row: preprocessor.preprocess(row.iloc[0]), axis = 1)\n",
    "\n",
    "preprocessed_data_test['text'] = test_data.apply(lambda row: preprocessor.preprocess(row.iloc[0]), axis = 1)"
   ]
  },
  {
   "cell_type": "code",
   "execution_count": 26,
   "id": "cc25e9e5",
   "metadata": {},
   "outputs": [
    {
     "data": {
      "text/html": [
       "<div>\n",
       "<style scoped>\n",
       "    .dataframe tbody tr th:only-of-type {\n",
       "        vertical-align: middle;\n",
       "    }\n",
       "\n",
       "    .dataframe tbody tr th {\n",
       "        vertical-align: top;\n",
       "    }\n",
       "\n",
       "    .dataframe thead th {\n",
       "        text-align: right;\n",
       "    }\n",
       "</style>\n",
       "<table border=\"1\" class=\"dataframe\">\n",
       "  <thead>\n",
       "    <tr style=\"text-align: right;\">\n",
       "      <th></th>\n",
       "      <th>text</th>\n",
       "    </tr>\n",
       "  </thead>\n",
       "  <tbody>\n",
       "    <tr>\n",
       "      <th>0</th>\n",
       "      <td>[levi, changed, fit, without, telling, anyone,...</td>\n",
       "    </tr>\n",
       "    <tr>\n",
       "      <th>1</th>\n",
       "      <td>[fitted, small, niece, fix]</td>\n",
       "    </tr>\n",
       "    <tr>\n",
       "      <th>2</th>\n",
       "      <td>[best, quality, tweezer, able, grab, smallest,...</td>\n",
       "    </tr>\n",
       "    <tr>\n",
       "      <th>3</th>\n",
       "      <td>[finally, received, reply, invicta, customer, ...</td>\n",
       "    </tr>\n",
       "    <tr>\n",
       "      <th>4</th>\n",
       "      <td>[perfect, fit, easy, care, dress, smashing, fi...</td>\n",
       "    </tr>\n",
       "    <tr>\n",
       "      <th>...</th>\n",
       "      <td>...</td>\n",
       "    </tr>\n",
       "    <tr>\n",
       "      <th>44995</th>\n",
       "      <td>[love, style, came, hole, crotch, stitching]</td>\n",
       "    </tr>\n",
       "    <tr>\n",
       "      <th>44996</th>\n",
       "      <td>[turtleneck, fit, perfect, good, feel, purchas...</td>\n",
       "    </tr>\n",
       "    <tr>\n",
       "      <th>44997</th>\n",
       "      <td>[ring, look, great, husband, hand, look, like,...</td>\n",
       "    </tr>\n",
       "    <tr>\n",
       "      <th>44998</th>\n",
       "      <td>[odd, shoe, arch, inside, flyer, say, take, ti...</td>\n",
       "    </tr>\n",
       "    <tr>\n",
       "      <th>44999</th>\n",
       "      <td>[nice, look, poorly, made, sleeve, short, small]</td>\n",
       "    </tr>\n",
       "  </tbody>\n",
       "</table>\n",
       "<p>45000 rows × 1 columns</p>\n",
       "</div>"
      ],
      "text/plain": [
       "                                                    text\n",
       "0      [levi, changed, fit, without, telling, anyone,...\n",
       "1                            [fitted, small, niece, fix]\n",
       "2      [best, quality, tweezer, able, grab, smallest,...\n",
       "3      [finally, received, reply, invicta, customer, ...\n",
       "4      [perfect, fit, easy, care, dress, smashing, fi...\n",
       "...                                                  ...\n",
       "44995       [love, style, came, hole, crotch, stitching]\n",
       "44996  [turtleneck, fit, perfect, good, feel, purchas...\n",
       "44997  [ring, look, great, husband, hand, look, like,...\n",
       "44998  [odd, shoe, arch, inside, flyer, say, take, ti...\n",
       "44999   [nice, look, poorly, made, sleeve, short, small]\n",
       "\n",
       "[45000 rows x 1 columns]"
      ]
     },
     "execution_count": 26,
     "metadata": {},
     "output_type": "execute_result"
    }
   ],
   "source": [
    "preprocessed_data_train"
   ]
  },
  {
   "cell_type": "code",
   "execution_count": 27,
   "id": "12dc1a83",
   "metadata": {},
   "outputs": [
    {
     "data": {
      "text/html": [
       "<div>\n",
       "<style scoped>\n",
       "    .dataframe tbody tr th:only-of-type {\n",
       "        vertical-align: middle;\n",
       "    }\n",
       "\n",
       "    .dataframe tbody tr th {\n",
       "        vertical-align: top;\n",
       "    }\n",
       "\n",
       "    .dataframe thead th {\n",
       "        text-align: right;\n",
       "    }\n",
       "</style>\n",
       "<table border=\"1\" class=\"dataframe\">\n",
       "  <thead>\n",
       "    <tr style=\"text-align: right;\">\n",
       "      <th></th>\n",
       "      <th>text</th>\n",
       "    </tr>\n",
       "  </thead>\n",
       "  <tbody>\n",
       "    <tr>\n",
       "      <th>0</th>\n",
       "      <td>[poorly, made, shrink, fit, well]</td>\n",
       "    </tr>\n",
       "    <tr>\n",
       "      <th>1</th>\n",
       "      <td>[playing, santa, year, authentic, high, qualit...</td>\n",
       "    </tr>\n",
       "    <tr>\n",
       "      <th>2</th>\n",
       "      <td>[bought, two, one, better, shipping, schedule,...</td>\n",
       "    </tr>\n",
       "    <tr>\n",
       "      <th>3</th>\n",
       "      <td>[came, box, scratch, one, lense, know, inexpen...</td>\n",
       "    </tr>\n",
       "    <tr>\n",
       "      <th>4</th>\n",
       "      <td>[okay, kind, hard, explain, really, liked, ski...</td>\n",
       "    </tr>\n",
       "    <tr>\n",
       "      <th>...</th>\n",
       "      <td>...</td>\n",
       "    </tr>\n",
       "    <tr>\n",
       "      <th>5995</th>\n",
       "      <td>[cute, versatile, great, fit, comfortable, hig...</td>\n",
       "    </tr>\n",
       "    <tr>\n",
       "      <th>5996</th>\n",
       "      <td>[really, like, fit, flattering, tall, people, ...</td>\n",
       "    </tr>\n",
       "    <tr>\n",
       "      <th>5997</th>\n",
       "      <td>[attractive, solidly, constructed, little, nar...</td>\n",
       "    </tr>\n",
       "    <tr>\n",
       "      <th>5998</th>\n",
       "      <td>[napoleon, cameo, appearance, theatre, product...</td>\n",
       "    </tr>\n",
       "    <tr>\n",
       "      <th>5999</th>\n",
       "      <td>[great, light, weight, beach, workout, tank]</td>\n",
       "    </tr>\n",
       "  </tbody>\n",
       "</table>\n",
       "<p>6000 rows × 1 columns</p>\n",
       "</div>"
      ],
      "text/plain": [
       "                                                   text\n",
       "0                     [poorly, made, shrink, fit, well]\n",
       "1     [playing, santa, year, authentic, high, qualit...\n",
       "2     [bought, two, one, better, shipping, schedule,...\n",
       "3     [came, box, scratch, one, lense, know, inexpen...\n",
       "4     [okay, kind, hard, explain, really, liked, ski...\n",
       "...                                                 ...\n",
       "5995  [cute, versatile, great, fit, comfortable, hig...\n",
       "5996  [really, like, fit, flattering, tall, people, ...\n",
       "5997  [attractive, solidly, constructed, little, nar...\n",
       "5998  [napoleon, cameo, appearance, theatre, product...\n",
       "5999       [great, light, weight, beach, workout, tank]\n",
       "\n",
       "[6000 rows x 1 columns]"
      ]
     },
     "execution_count": 27,
     "metadata": {},
     "output_type": "execute_result"
    }
   ],
   "source": [
    "preprocessed_data_test"
   ]
  },
  {
   "cell_type": "code",
   "execution_count": 28,
   "id": "74a1ae4f",
   "metadata": {},
   "outputs": [
    {
     "data": {
      "text/html": [
       "<div>\n",
       "<style scoped>\n",
       "    .dataframe tbody tr th:only-of-type {\n",
       "        vertical-align: middle;\n",
       "    }\n",
       "\n",
       "    .dataframe tbody tr th {\n",
       "        vertical-align: top;\n",
       "    }\n",
       "\n",
       "    .dataframe thead th {\n",
       "        text-align: right;\n",
       "    }\n",
       "</style>\n",
       "<table border=\"1\" class=\"dataframe\">\n",
       "  <thead>\n",
       "    <tr style=\"text-align: right;\">\n",
       "      <th></th>\n",
       "      <th>text</th>\n",
       "    </tr>\n",
       "  </thead>\n",
       "  <tbody>\n",
       "    <tr>\n",
       "      <th>0</th>\n",
       "      <td>poorly made shrink fit well</td>\n",
       "    </tr>\n",
       "    <tr>\n",
       "      <th>1</th>\n",
       "      <td>playing santa year authentic high quality sant...</td>\n",
       "    </tr>\n",
       "    <tr>\n",
       "      <th>2</th>\n",
       "      <td>bought two one better shipping schedule second...</td>\n",
       "    </tr>\n",
       "    <tr>\n",
       "      <th>3</th>\n",
       "      <td>came box scratch one lense know inexpensive un...</td>\n",
       "    </tr>\n",
       "    <tr>\n",
       "      <th>4</th>\n",
       "      <td>okay kind hard explain really liked skirt know...</td>\n",
       "    </tr>\n",
       "    <tr>\n",
       "      <th>...</th>\n",
       "      <td>...</td>\n",
       "    </tr>\n",
       "    <tr>\n",
       "      <th>5995</th>\n",
       "      <td>cute versatile great fit comfortable high heel...</td>\n",
       "    </tr>\n",
       "    <tr>\n",
       "      <th>5996</th>\n",
       "      <td>really like fit flattering tall people large m...</td>\n",
       "    </tr>\n",
       "    <tr>\n",
       "      <th>5997</th>\n",
       "      <td>attractive solidly constructed little narrow t...</td>\n",
       "    </tr>\n",
       "    <tr>\n",
       "      <th>5998</th>\n",
       "      <td>napoleon cameo appearance theatre production o...</td>\n",
       "    </tr>\n",
       "    <tr>\n",
       "      <th>5999</th>\n",
       "      <td>great light weight beach workout tank</td>\n",
       "    </tr>\n",
       "  </tbody>\n",
       "</table>\n",
       "<p>6000 rows × 1 columns</p>\n",
       "</div>"
      ],
      "text/plain": [
       "                                                   text\n",
       "0                           poorly made shrink fit well\n",
       "1     playing santa year authentic high quality sant...\n",
       "2     bought two one better shipping schedule second...\n",
       "3     came box scratch one lense know inexpensive un...\n",
       "4     okay kind hard explain really liked skirt know...\n",
       "...                                                 ...\n",
       "5995  cute versatile great fit comfortable high heel...\n",
       "5996  really like fit flattering tall people large m...\n",
       "5997  attractive solidly constructed little narrow t...\n",
       "5998  napoleon cameo appearance theatre production o...\n",
       "5999              great light weight beach workout tank\n",
       "\n",
       "[6000 rows x 1 columns]"
      ]
     },
     "execution_count": 28,
     "metadata": {},
     "output_type": "execute_result"
    }
   ],
   "source": [
    "preprocessed_data_test['text'] = preprocessed_data_test['text'].apply(lambda x: ' '.join(map(str, x)))\n",
    "preprocessed_data_test"
   ]
  },
  {
   "cell_type": "code",
   "execution_count": 29,
   "id": "09e32a7b",
   "metadata": {},
   "outputs": [
    {
     "data": {
      "text/html": [
       "<div>\n",
       "<style scoped>\n",
       "    .dataframe tbody tr th:only-of-type {\n",
       "        vertical-align: middle;\n",
       "    }\n",
       "\n",
       "    .dataframe tbody tr th {\n",
       "        vertical-align: top;\n",
       "    }\n",
       "\n",
       "    .dataframe thead th {\n",
       "        text-align: right;\n",
       "    }\n",
       "</style>\n",
       "<table border=\"1\" class=\"dataframe\">\n",
       "  <thead>\n",
       "    <tr style=\"text-align: right;\">\n",
       "      <th></th>\n",
       "      <th>text</th>\n",
       "    </tr>\n",
       "  </thead>\n",
       "  <tbody>\n",
       "    <tr>\n",
       "      <th>0</th>\n",
       "      <td>levi changed fit without telling anyone change...</td>\n",
       "    </tr>\n",
       "    <tr>\n",
       "      <th>1</th>\n",
       "      <td>fitted small niece fix</td>\n",
       "    </tr>\n",
       "    <tr>\n",
       "      <th>2</th>\n",
       "      <td>best quality tweezer able grab smallest splint...</td>\n",
       "    </tr>\n",
       "    <tr>\n",
       "      <th>3</th>\n",
       "      <td>finally received reply invicta customer servic...</td>\n",
       "    </tr>\n",
       "    <tr>\n",
       "      <th>4</th>\n",
       "      <td>perfect fit easy care dress smashing find wipe...</td>\n",
       "    </tr>\n",
       "    <tr>\n",
       "      <th>...</th>\n",
       "      <td>...</td>\n",
       "    </tr>\n",
       "    <tr>\n",
       "      <th>44995</th>\n",
       "      <td>love style came hole crotch stitching</td>\n",
       "    </tr>\n",
       "    <tr>\n",
       "      <th>44996</th>\n",
       "      <td>turtleneck fit perfect good feel purchasing</td>\n",
       "    </tr>\n",
       "    <tr>\n",
       "      <th>44997</th>\n",
       "      <td>ring look great husband hand look like quality...</td>\n",
       "    </tr>\n",
       "    <tr>\n",
       "      <th>44998</th>\n",
       "      <td>odd shoe arch inside flyer say take time get u...</td>\n",
       "    </tr>\n",
       "    <tr>\n",
       "      <th>44999</th>\n",
       "      <td>nice look poorly made sleeve short small</td>\n",
       "    </tr>\n",
       "  </tbody>\n",
       "</table>\n",
       "<p>45000 rows × 1 columns</p>\n",
       "</div>"
      ],
      "text/plain": [
       "                                                    text\n",
       "0      levi changed fit without telling anyone change...\n",
       "1                                 fitted small niece fix\n",
       "2      best quality tweezer able grab smallest splint...\n",
       "3      finally received reply invicta customer servic...\n",
       "4      perfect fit easy care dress smashing find wipe...\n",
       "...                                                  ...\n",
       "44995              love style came hole crotch stitching\n",
       "44996        turtleneck fit perfect good feel purchasing\n",
       "44997  ring look great husband hand look like quality...\n",
       "44998  odd shoe arch inside flyer say take time get u...\n",
       "44999           nice look poorly made sleeve short small\n",
       "\n",
       "[45000 rows x 1 columns]"
      ]
     },
     "execution_count": 29,
     "metadata": {},
     "output_type": "execute_result"
    }
   ],
   "source": [
    "preprocessed_data_train['text'] = preprocessed_data_train['text'].apply(lambda x: ' '.join(map(str, x)))\n",
    "preprocessed_data_train"
   ]
  },
  {
   "cell_type": "code",
   "execution_count": 30,
   "id": "913a7eca",
   "metadata": {},
   "outputs": [],
   "source": [
    "from sklearn.feature_extraction.text import TfidfVectorizer\n",
    "tfidf_vectorizer = TfidfVectorizer()\n",
    "train_tfidf = tfidf_vectorizer.fit_transform(preprocessed_data_train['text']) \n",
    "test_tfidf = tfidf_vectorizer.transform(preprocessed_data_test['text']) "
   ]
  },
  {
   "cell_type": "code",
   "execution_count": 39,
   "id": "3924d11f",
   "metadata": {},
   "outputs": [
    {
     "name": "stdout",
     "output_type": "stream",
     "text": [
      "KNN accuracy with 3 neighbors and weights distance = 0.423\n",
      "KNN accuracy with 3 neighbors and weights uniform = 0.419\n",
      "\n",
      "\n",
      "KNN accuracy with 4 neighbors and weights distance = 0.425\n",
      "KNN accuracy with 4 neighbors and weights uniform = 0.4265\n",
      "\n",
      "\n",
      "KNN accuracy with 5 neighbors and weights distance = 0.42633333333333334\n",
      "KNN accuracy with 5 neighbors and weights uniform = 0.41\n",
      "\n",
      "\n",
      "KNN accuracy with 6 neighbors and weights distance = 0.4265\n",
      "KNN accuracy with 6 neighbors and weights uniform = 0.4106666666666667\n",
      "\n",
      "\n",
      "KNN accuracy with 7 neighbors and weights distance = 0.41433333333333333\n",
      "KNN accuracy with 7 neighbors and weights uniform = 0.4085\n",
      "\n",
      "\n",
      "KNN accuracy with 8 neighbors and weights distance = 0.4096666666666667\n",
      "KNN accuracy with 8 neighbors and weights uniform = 0.3995\n",
      "\n",
      "\n",
      "KNN accuracy with 9 neighbors and weights distance = 0.412\n",
      "KNN accuracy with 9 neighbors and weights uniform = 0.3998333333333333\n",
      "\n",
      "\n"
     ]
    }
   ],
   "source": [
    "from sklearn.neighbors import KNeighborsClassifier\n",
    "from sklearn import metrics\n",
    "\n",
    "for vecini in [3,4,5,6,7,8,9]:\n",
    "    neigh = KNeighborsClassifier(n_neighbors=vecini, weights=\"distance\")\n",
    "    neigh.fit(train_tfidf, train_labels['label'])\n",
    "    predictii = neigh.predict(test_tfidf)\n",
    "    acuratete = metrics.accuracy_score(test_labels['label'], predictii)\n",
    "    print(\"KNN accuracy with\", vecini, \"neighbors and weights distance =\", acuratete)\n",
    "    \n",
    "    neigh = KNeighborsClassifier(n_neighbors=vecini)\n",
    "    neigh.fit(train_tfidf, train_labels['label'])\n",
    "    predictii = neigh.predict(test_tfidf)\n",
    "    acuratete = metrics.accuracy_score(test_labels['label'], predictii)\n",
    "    print(\"KNN accuracy with\", vecini, \"neighbors and weights uniform =\", acuratete)\n",
    "    \n",
    "    print(\"\\n\")"
   ]
  },
  {
   "cell_type": "code",
   "execution_count": 55,
   "id": "754fc1fa",
   "metadata": {},
   "outputs": [],
   "source": [
    "neigh = KNeighborsClassifier(n_neighbors=5, weights=\"distance\")\n",
    "neigh.fit(train_tfidf, train_labels['label'])\n",
    "predictii = neigh.predict(test_tfidf)"
   ]
  },
  {
   "cell_type": "code",
   "execution_count": 56,
   "id": "fae3028e",
   "metadata": {},
   "outputs": [
    {
     "name": "stdout",
     "output_type": "stream",
     "text": [
      "              precision    recall  f1-score   support\n",
      "\n",
      "    negative       0.37      0.85      0.52      2000\n",
      "     neutral       0.48      0.15      0.23      2000\n",
      "    positive       0.70      0.28      0.40      2000\n",
      "\n",
      "    accuracy                           0.43      6000\n",
      "   macro avg       0.52      0.43      0.38      6000\n",
      "weighted avg       0.52      0.43      0.38      6000\n",
      "\n"
     ]
    }
   ],
   "source": [
    "from sklearn.metrics import classification_report\n",
    "\n",
    "print(classification_report(test_labels['label'], predictii))"
   ]
  },
  {
   "cell_type": "code",
   "execution_count": 57,
   "id": "58a00f15",
   "metadata": {},
   "outputs": [
    {
     "data": {
      "image/png": "[encoded data removed]",
      "text/plain": [
       "<Figure size 800x600 with 2 Axes>"
      ]
     },
     "metadata": {},
     "output_type": "display_data"
    }
   ],
   "source": [
    "import seaborn as sns\n",
    "from sklearn.metrics import confusion_matrix\n",
    "\n",
    "conf_matrix = confusion_matrix(test_labels['label'], predictii)\n",
    "\n",
    "plt.figure(figsize=(8, 6))\n",
    "sns.heatmap(conf_matrix, annot=True, fmt='d', cmap='Purples')\n",
    "plt.xlabel('Predicted Labels')\n",
    "plt.ylabel('True Labels')\n",
    "plt.title('Confusion Matrix')\n",
    "plt.show()"
   ]
  },
  {
   "cell_type": "code",
   "execution_count": null,
   "id": "aca3fc02",
   "metadata": {},
   "outputs": [],
   "source": []
  }
 ],
 "metadata": {
  "kernelspec": {
   "display_name": "Python 3 (ipykernel)",
   "language": "python",
   "name": "python3"
  },
  "language_info": {
   "codemirror_mode": {
    "name": "ipython",
    "version": 3
   },
   "file_extension": ".py",
   "mimetype": "text/x-python",
   "name": "python",
   "nbconvert_exporter": "python",
   "pygments_lexer": "ipython3",
   "version": "3.11.5"
  }
 },
 "nbformat": 4,
 "nbformat_minor": 5
}
