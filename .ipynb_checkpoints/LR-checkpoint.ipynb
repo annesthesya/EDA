{
 "cells": [
  {
   "cell_type": "code",
   "execution_count": 1,
   "id": "db8a1675",
   "metadata": {},
   "outputs": [],
   "source": [
    "# !pip install scikit-learn\n",
    "# !pip install pandas\n",
    "# !pip install emoji\n",
    "# !pip install num2words\n",
    "# !pip install nltk\n",
    "# !pip install matplotlib\n",
    "# !pip install wordcloud\n",
    "# !pip install python-docx\n"
   ]
  },
  {
   "cell_type": "code",
   "execution_count": 3,
   "id": "9b2289f8",
   "metadata": {
    "ExecuteTime": {
     "end_time": "2024-01-02T22:46:42.132998800Z",
     "start_time": "2024-01-02T22:46:31.057309700Z"
    }
   },
   "outputs": [],
   "source": [
    "import json\n",
    "import pandas as pd\n",
    "from sklearn.model_selection import train_test_split\n",
    "import re\n",
    "import emoji\n",
    "from num2words import num2words\n",
    "import nltk\n",
    "from nltk.corpus import stopwords\n",
    "from nltk.stem import WordNetLemmatizer\n",
    "from nltk.stem import PorterStemmer\n",
    "from sklearn.feature_extraction.text import TfidfVectorizer\n",
    "from sklearn.linear_model import LogisticRegression\n",
    "from sklearn.pipeline import make_pipeline\n",
    "from sklearn.metrics import accuracy_score, classification_report\n",
    "# nltk.download('stopwords')\n",
    "# nltk.download('wordnet')\n",
    "import numpy as np\n",
    "import matplotlib.pyplot as plt\n",
    "from collections import defaultdict\n",
    "from collections import Counter\n",
    "from matplotlib import colors\n",
    "from wordcloud import WordCloud\n",
    "# import docx "
   ]
  },
  {
   "cell_type": "code",
   "execution_count": 3,
   "id": "8d17c3a4",
   "metadata": {
    "ExecuteTime": {
     "end_time": "2024-01-02T22:46:47.903976400Z",
     "start_time": "2024-01-02T22:46:47.755125700Z"
    }
   },
   "outputs": [
    {
     "name": "stderr",
     "output_type": "stream",
     "text": [
      "[nltk_data] Downloading package stopwords to\n",
      "[nltk_data]     C:\\Users\\Andreea\\AppData\\Roaming\\nltk_data...\n",
      "[nltk_data]   Package stopwords is already up-to-date!\n",
      "[nltk_data] Downloading package wordnet to\n",
      "[nltk_data]     C:\\Users\\Andreea\\AppData\\Roaming\\nltk_data...\n",
      "[nltk_data]   Package wordnet is already up-to-date!\n"
     ]
    }
   ],
   "source": [
    "#!pip install ipynb \n",
    "from ipynb.fs.full.preprocessor_class import Preprocessor"
   ]
  },
  {
   "cell_type": "code",
   "execution_count": 4,
   "id": "497679b4",
   "metadata": {
    "ExecuteTime": {
     "end_time": "2024-01-02T22:46:52.126522600Z",
     "start_time": "2024-01-02T22:46:50.732701500Z"
    }
   },
   "outputs": [
    {
     "data": {
      "text/plain": [
       "(45000, 1)"
      ]
     },
     "execution_count": 4,
     "metadata": {},
     "output_type": "execute_result"
    }
   ],
   "source": [
    "train_data = pd.read_csv('data/shuffled_train_data.csv',index_col=None)\n",
    "train_labels = pd.read_csv('data/shuffled_train_labels.csv',index_col=None)\n",
    "\n",
    "test_data = pd.read_csv('data/test_data.csv',index_col=None)\n",
    "test_labels = pd.read_csv('data/test_labels.csv',index_col=None)\n",
    "\n",
    "train_data_plot = pd.read_csv('data/train_data_plot.csv',index_col=None)\n",
    "test_data_plot = pd.read_csv('data/test_data_plot.csv',index_col=None)\n",
    "\n",
    "train_data.shape"
   ]
  },
  {
   "cell_type": "code",
   "execution_count": 5,
   "id": "8b40ae40",
   "metadata": {
    "ExecuteTime": {
     "end_time": "2024-01-02T22:47:10.450387500Z",
     "start_time": "2024-01-02T22:46:53.951383600Z"
    }
   },
   "outputs": [],
   "source": [
    "preprocessor = Preprocessor(set(stopwords.words('english')), WordNetLemmatizer(), PorterStemmer(), True, True, True, True, True, False, True, True, True, False)\n",
    "\n",
    "preprocessed_train_data = pd.DataFrame(columns=['text'])\n",
    "preprocessed_test_data = pd.DataFrame(columns=['text'])\n",
    "\n",
    "preprocessed_train_data['text'] = train_data.apply(lambda row: preprocessor.preprocess(row.iloc[0]), axis = 1)\n",
    "preprocessed_test_data['text'] = test_data.apply(lambda row: preprocessor.preprocess(row.iloc[0]), axis = 1)\n"
   ]
  },
  {
   "cell_type": "code",
   "execution_count": 6,
   "id": "634cb4d9d1e05c58",
   "metadata": {
    "ExecuteTime": {
     "end_time": "2023-12-27T18:30:37.431659500Z",
     "start_time": "2023-12-27T18:30:37.341539100Z"
    }
   },
   "outputs": [
    {
     "data": {
      "text/html": [
       "<div>\n",
       "<style scoped>\n",
       "    .dataframe tbody tr th:only-of-type {\n",
       "        vertical-align: middle;\n",
       "    }\n",
       "\n",
       "    .dataframe tbody tr th {\n",
       "        vertical-align: top;\n",
       "    }\n",
       "\n",
       "    .dataframe thead th {\n",
       "        text-align: right;\n",
       "    }\n",
       "</style>\n",
       "<table border=\"1\" class=\"dataframe\">\n",
       "  <thead>\n",
       "    <tr style=\"text-align: right;\">\n",
       "      <th></th>\n",
       "      <th>text</th>\n",
       "    </tr>\n",
       "  </thead>\n",
       "  <tbody>\n",
       "    <tr>\n",
       "      <th>0</th>\n",
       "      <td>[love, super, comfortable]</td>\n",
       "    </tr>\n",
       "    <tr>\n",
       "      <th>1</th>\n",
       "      <td>[shave, cremes, need, lather, feeling, fullnes...</td>\n",
       "    </tr>\n",
       "    <tr>\n",
       "      <th>2</th>\n",
       "      <td>[love, bright, color, dress, fabric, nice, fee...</td>\n",
       "    </tr>\n",
       "    <tr>\n",
       "      <th>3</th>\n",
       "      <td>[see, small, got, curve, get, fit, like, size]</td>\n",
       "    </tr>\n",
       "    <tr>\n",
       "      <th>4</th>\n",
       "      <td>[sister, love, wolf, go, wrong, cute, comfy, w...</td>\n",
       "    </tr>\n",
       "    <tr>\n",
       "      <th>5</th>\n",
       "      <td>[like, style, back]</td>\n",
       "    </tr>\n",
       "    <tr>\n",
       "      <th>6</th>\n",
       "      <td>[return, large, like, shoe, look]</td>\n",
       "    </tr>\n",
       "    <tr>\n",
       "      <th>7</th>\n",
       "      <td>[broke, hour]</td>\n",
       "    </tr>\n",
       "    <tr>\n",
       "      <th>8</th>\n",
       "      <td>[like, everybody]</td>\n",
       "    </tr>\n",
       "    <tr>\n",
       "      <th>9</th>\n",
       "      <td>[wallet, rfid, blocking, property, credit, car...</td>\n",
       "    </tr>\n",
       "  </tbody>\n",
       "</table>\n",
       "</div>"
      ],
      "text/plain": [
       "                                                text\n",
       "0                         [love, super, comfortable]\n",
       "1  [shave, cremes, need, lather, feeling, fullnes...\n",
       "2  [love, bright, color, dress, fabric, nice, fee...\n",
       "3     [see, small, got, curve, get, fit, like, size]\n",
       "4  [sister, love, wolf, go, wrong, cute, comfy, w...\n",
       "5                                [like, style, back]\n",
       "6                  [return, large, like, shoe, look]\n",
       "7                                      [broke, hour]\n",
       "8                                  [like, everybody]\n",
       "9  [wallet, rfid, blocking, property, credit, car..."
      ]
     },
     "execution_count": 6,
     "metadata": {},
     "output_type": "execute_result"
    }
   ],
   "source": [
    "preprocessed_train_data.head(10)"
   ]
  },
  {
   "cell_type": "code",
   "execution_count": 7,
   "id": "b9d87689ed9737d9",
   "metadata": {
    "ExecuteTime": {
     "end_time": "2023-12-27T18:30:42.839998200Z",
     "start_time": "2023-12-27T18:30:42.777104200Z"
    }
   },
   "outputs": [
    {
     "data": {
      "text/html": [
       "<div>\n",
       "<style scoped>\n",
       "    .dataframe tbody tr th:only-of-type {\n",
       "        vertical-align: middle;\n",
       "    }\n",
       "\n",
       "    .dataframe tbody tr th {\n",
       "        vertical-align: top;\n",
       "    }\n",
       "\n",
       "    .dataframe thead th {\n",
       "        text-align: right;\n",
       "    }\n",
       "</style>\n",
       "<table border=\"1\" class=\"dataframe\">\n",
       "  <thead>\n",
       "    <tr style=\"text-align: right;\">\n",
       "      <th></th>\n",
       "      <th>text</th>\n",
       "    </tr>\n",
       "  </thead>\n",
       "  <tbody>\n",
       "    <tr>\n",
       "      <th>0</th>\n",
       "      <td>[poorly, made, shrink, fit, well]</td>\n",
       "    </tr>\n",
       "    <tr>\n",
       "      <th>1</th>\n",
       "      <td>[playing, santa, year, authentic, high, qualit...</td>\n",
       "    </tr>\n",
       "    <tr>\n",
       "      <th>2</th>\n",
       "      <td>[bought, two, one, better, shipping, schedule,...</td>\n",
       "    </tr>\n",
       "    <tr>\n",
       "      <th>3</th>\n",
       "      <td>[came, box, scratch, one, lense, know, inexpen...</td>\n",
       "    </tr>\n",
       "    <tr>\n",
       "      <th>4</th>\n",
       "      <td>[okay, kind, hard, explain, really, liked, ski...</td>\n",
       "    </tr>\n",
       "    <tr>\n",
       "      <th>5</th>\n",
       "      <td>[illustration, even, close, care, color, recei...</td>\n",
       "    </tr>\n",
       "    <tr>\n",
       "      <th>6</th>\n",
       "      <td>[size, way, regularly, wear, size, least, inch...</td>\n",
       "    </tr>\n",
       "    <tr>\n",
       "      <th>7</th>\n",
       "      <td>[chris, kyle, frog, american, sniper, legend, ...</td>\n",
       "    </tr>\n",
       "    <tr>\n",
       "      <th>8</th>\n",
       "      <td>[x, fit, small, usually, wear, x, material, th...</td>\n",
       "    </tr>\n",
       "    <tr>\n",
       "      <th>9</th>\n",
       "      <td>[ordered, watch, silver, loved, decided, order...</td>\n",
       "    </tr>\n",
       "  </tbody>\n",
       "</table>\n",
       "</div>"
      ],
      "text/plain": [
       "                                                text\n",
       "0                  [poorly, made, shrink, fit, well]\n",
       "1  [playing, santa, year, authentic, high, qualit...\n",
       "2  [bought, two, one, better, shipping, schedule,...\n",
       "3  [came, box, scratch, one, lense, know, inexpen...\n",
       "4  [okay, kind, hard, explain, really, liked, ski...\n",
       "5  [illustration, even, close, care, color, recei...\n",
       "6  [size, way, regularly, wear, size, least, inch...\n",
       "7  [chris, kyle, frog, american, sniper, legend, ...\n",
       "8  [x, fit, small, usually, wear, x, material, th...\n",
       "9  [ordered, watch, silver, loved, decided, order..."
      ]
     },
     "execution_count": 7,
     "metadata": {},
     "output_type": "execute_result"
    }
   ],
   "source": [
    "preprocessed_test_data.head(10)"
   ]
  },
  {
   "cell_type": "code",
   "execution_count": 8,
   "id": "80ed5e82",
   "metadata": {
    "ExecuteTime": {
     "end_time": "2024-01-02T22:47:16.876556300Z",
     "start_time": "2024-01-02T22:47:16.731950900Z"
    }
   },
   "outputs": [
    {
     "name": "stdout",
     "output_type": "stream",
     "text": [
      "0                                   love,super,comfortable\n",
      "1        shave,cremes,need,lather,feeling,fullness,rich...\n",
      "2        love,bright,color,dress,fabric,nice,feel,reall...\n",
      "3                    see,small,got,curve,get,fit,like,size\n",
      "4              sister,love,wolf,go,wrong,cute,comfy,wolfie\n",
      "                               ...                        \n",
      "44995    sandal,poorly,constructed,base,shoe,fitting,ex...\n",
      "44996    wow,shirt,comfortable,fit,hug,body,softness,fr...\n",
      "44997    problem,heel,pain,pf,looking,good,walking,shoe...\n",
      "44998    keep,spotting,hand,everything,blue,ink,even,le...\n",
      "44999                   light,died,right,away,poor,quality\n",
      "Name: text, Length: 45000, dtype: object\n",
      "0                             poorly,made,shrink,fit,well\n",
      "1       playing,santa,year,authentic,high,quality,sant...\n",
      "2       bought,two,one,better,shipping,schedule,second...\n",
      "3       came,box,scratch,one,lense,know,inexpensive,un...\n",
      "4       okay,kind,hard,explain,really,liked,skirt,know...\n",
      "                              ...                        \n",
      "5995    christmas,gift,boyfriend,nice,wallet,appears,l...\n",
      "5996                 better,expected,pleasantly,surprised\n",
      "5997    skirt,awsome,arrived,real,quick,lb,skirt,fit,l...\n",
      "5998    excellent,piece,elegant,sturdy,design,love,fac...\n",
      "5999                                wonderful,beach,shirt\n",
      "Name: text, Length: 6000, dtype: object\n"
     ]
    }
   ],
   "source": [
    "preprocessed_train_data[\"text\"] = preprocessed_train_data[\"text\"].apply(lambda x: \",\".join(x) if isinstance(x, list) else x)\n",
    "print(preprocessed_train_data[\"text\"])\n",
    "\n",
    "preprocessed_test_data[\"text\"] = preprocessed_test_data[\"text\"].apply(lambda x: \",\".join(x) if isinstance(x, list) else x)\n",
    "print(preprocessed_test_data[\"text\"])\n"
   ]
  },
  {
   "cell_type": "code",
   "execution_count": 7,
   "id": "59432de62001645b",
   "metadata": {
    "ExecuteTime": {
     "end_time": "2024-01-03T11:16:08.333307800Z",
     "start_time": "2024-01-03T07:56:17.540223500Z"
    }
   },
   "outputs": [
    {
     "name": "stdout",
     "output_type": "stream",
     "text": [
      "max_features: 3000 n_gram: (1, 1)  solver: lbfgs  tol: 5  C: 0.1  accuracy: 0.691\n",
      "max_features: 3000 n_gram: (1, 1)  solver: lbfgs  tol: 5  C: 0.3  accuracy: 0.6958333333333333\n"
     ]
    },
    {
     "name": "stderr",
     "output_type": "stream",
     "text": [
      "C:\\Users\\Stefi\\PycharmProjects\\PMLKaggle\\venv\\lib\\site-packages\\sklearn\\linear_model\\_logistic.py:460: ConvergenceWarning: lbfgs failed to converge (status=1):\n",
      "STOP: TOTAL NO. of ITERATIONS REACHED LIMIT.\n",
      "\n",
      "Increase the number of iterations (max_iter) or scale the data as shown in:\n",
      "    https://scikit-learn.org/stable/modules/preprocessing.html\n",
      "Please also refer to the documentation for alternative solver options:\n",
      "    https://scikit-learn.org/stable/modules/linear_model.html#logistic-regression\n",
      "  n_iter_i = _check_optimize_result(\n"
     ]
    },
    {
     "name": "stdout",
     "output_type": "stream",
     "text": [
      "max_features: 3000 n_gram: (1, 1)  solver: lbfgs  tol: 5  C: 3  accuracy: 0.6936666666666667\n"
     ]
    },
    {
     "name": "stderr",
     "output_type": "stream",
     "text": [
      "C:\\Users\\Stefi\\PycharmProjects\\PMLKaggle\\venv\\lib\\site-packages\\sklearn\\linear_model\\_logistic.py:460: ConvergenceWarning: lbfgs failed to converge (status=1):\n",
      "STOP: TOTAL NO. of ITERATIONS REACHED LIMIT.\n",
      "\n",
      "Increase the number of iterations (max_iter) or scale the data as shown in:\n",
      "    https://scikit-learn.org/stable/modules/preprocessing.html\n",
      "Please also refer to the documentation for alternative solver options:\n",
      "    https://scikit-learn.org/stable/modules/linear_model.html#logistic-regression\n",
      "  n_iter_i = _check_optimize_result(\n"
     ]
    },
    {
     "name": "stdout",
     "output_type": "stream",
     "text": [
      "max_features: 3000 n_gram: (1, 1)  solver: lbfgs  tol: 5  C: 10  accuracy: 0.6905\n",
      "max_features: 3000 n_gram: (1, 1)  solver: lbfgs  tol: 0.3  C: 0.1  accuracy: 0.6906666666666667\n",
      "max_features: 3000 n_gram: (1, 1)  solver: lbfgs  tol: 0.3  C: 0.3  accuracy: 0.6958333333333333\n"
     ]
    },
    {
     "name": "stderr",
     "output_type": "stream",
     "text": [
      "C:\\Users\\Stefi\\PycharmProjects\\PMLKaggle\\venv\\lib\\site-packages\\sklearn\\linear_model\\_logistic.py:460: ConvergenceWarning: lbfgs failed to converge (status=1):\n",
      "STOP: TOTAL NO. of ITERATIONS REACHED LIMIT.\n",
      "\n",
      "Increase the number of iterations (max_iter) or scale the data as shown in:\n",
      "    https://scikit-learn.org/stable/modules/preprocessing.html\n",
      "Please also refer to the documentation for alternative solver options:\n",
      "    https://scikit-learn.org/stable/modules/linear_model.html#logistic-regression\n",
      "  n_iter_i = _check_optimize_result(\n"
     ]
    },
    {
     "name": "stdout",
     "output_type": "stream",
     "text": [
      "max_features: 3000 n_gram: (1, 1)  solver: lbfgs  tol: 0.3  C: 3  accuracy: 0.6936666666666667\n"
     ]
    },
    {
     "name": "stderr",
     "output_type": "stream",
     "text": [
      "C:\\Users\\Stefi\\PycharmProjects\\PMLKaggle\\venv\\lib\\site-packages\\sklearn\\linear_model\\_logistic.py:460: ConvergenceWarning: lbfgs failed to converge (status=1):\n",
      "STOP: TOTAL NO. of ITERATIONS REACHED LIMIT.\n",
      "\n",
      "Increase the number of iterations (max_iter) or scale the data as shown in:\n",
      "    https://scikit-learn.org/stable/modules/preprocessing.html\n",
      "Please also refer to the documentation for alternative solver options:\n",
      "    https://scikit-learn.org/stable/modules/linear_model.html#logistic-regression\n",
      "  n_iter_i = _check_optimize_result(\n"
     ]
    },
    {
     "name": "stdout",
     "output_type": "stream",
     "text": [
      "max_features: 3000 n_gram: (1, 1)  solver: lbfgs  tol: 0.3  C: 10  accuracy: 0.6905\n",
      "max_features: 3000 n_gram: (1, 1)  solver: lbfgs  tol: 3  C: 0.1  accuracy: 0.691\n",
      "max_features: 3000 n_gram: (1, 1)  solver: lbfgs  tol: 3  C: 0.3  accuracy: 0.6951666666666667\n"
     ]
    },
    {
     "name": "stderr",
     "output_type": "stream",
     "text": [
      "C:\\Users\\Stefi\\PycharmProjects\\PMLKaggle\\venv\\lib\\site-packages\\sklearn\\linear_model\\_logistic.py:460: ConvergenceWarning: lbfgs failed to converge (status=1):\n",
      "STOP: TOTAL NO. of ITERATIONS REACHED LIMIT.\n",
      "\n",
      "Increase the number of iterations (max_iter) or scale the data as shown in:\n",
      "    https://scikit-learn.org/stable/modules/preprocessing.html\n",
      "Please also refer to the documentation for alternative solver options:\n",
      "    https://scikit-learn.org/stable/modules/linear_model.html#logistic-regression\n",
      "  n_iter_i = _check_optimize_result(\n"
     ]
    },
    {
     "name": "stdout",
     "output_type": "stream",
     "text": [
      "max_features: 3000 n_gram: (1, 1)  solver: lbfgs  tol: 3  C: 3  accuracy: 0.6936666666666667\n"
     ]
    },
    {
     "name": "stderr",
     "output_type": "stream",
     "text": [
      "C:\\Users\\Stefi\\PycharmProjects\\PMLKaggle\\venv\\lib\\site-packages\\sklearn\\linear_model\\_logistic.py:460: ConvergenceWarning: lbfgs failed to converge (status=1):\n",
      "STOP: TOTAL NO. of ITERATIONS REACHED LIMIT.\n",
      "\n",
      "Increase the number of iterations (max_iter) or scale the data as shown in:\n",
      "    https://scikit-learn.org/stable/modules/preprocessing.html\n",
      "Please also refer to the documentation for alternative solver options:\n",
      "    https://scikit-learn.org/stable/modules/linear_model.html#logistic-regression\n",
      "  n_iter_i = _check_optimize_result(\n"
     ]
    },
    {
     "name": "stdout",
     "output_type": "stream",
     "text": [
      "max_features: 3000 n_gram: (1, 1)  solver: lbfgs  tol: 3  C: 10  accuracy: 0.6905\n",
      "max_features: 3000 n_gram: (1, 1)  solver: liblinear  tol: 5  C: 0.1  accuracy: 0.375\n",
      "max_features: 3000 n_gram: (1, 1)  solver: liblinear  tol: 5  C: 0.3  accuracy: 0.375\n",
      "max_features: 3000 n_gram: (1, 1)  solver: liblinear  tol: 5  C: 3  accuracy: 0.375\n",
      "max_features: 3000 n_gram: (1, 1)  solver: liblinear  tol: 5  C: 10  accuracy: 0.375\n",
      "max_features: 3000 n_gram: (1, 1)  solver: liblinear  tol: 0.3  C: 0.1  accuracy: 0.6473333333333333\n",
      "max_features: 3000 n_gram: (1, 1)  solver: liblinear  tol: 0.3  C: 0.3  accuracy: 0.6623333333333333\n",
      "max_features: 3000 n_gram: (1, 1)  solver: liblinear  tol: 0.3  C: 3  accuracy: 0.6598333333333334\n",
      "max_features: 3000 n_gram: (1, 1)  solver: liblinear  tol: 0.3  C: 10  accuracy: 0.659\n",
      "max_features: 3000 n_gram: (1, 1)  solver: liblinear  tol: 3  C: 0.1  accuracy: 0.375\n",
      "max_features: 3000 n_gram: (1, 1)  solver: liblinear  tol: 3  C: 0.3  accuracy: 0.375\n",
      "max_features: 3000 n_gram: (1, 1)  solver: liblinear  tol: 3  C: 3  accuracy: 0.375\n",
      "max_features: 3000 n_gram: (1, 1)  solver: liblinear  tol: 3  C: 10  accuracy: 0.375\n",
      "max_features: 3000 n_gram: (1, 1)  solver: newton-cg  tol: 5  C: 0.1  accuracy: 0.6913333333333334\n",
      "max_features: 3000 n_gram: (1, 1)  solver: newton-cg  tol: 5  C: 0.3  accuracy: 0.6956666666666667\n",
      "max_features: 3000 n_gram: (1, 1)  solver: newton-cg  tol: 5  C: 3  accuracy: 0.6955\n",
      "max_features: 3000 n_gram: (1, 1)  solver: newton-cg  tol: 5  C: 10  accuracy: 0.6925\n",
      "max_features: 3000 n_gram: (1, 1)  solver: newton-cg  tol: 0.3  C: 0.1  accuracy: 0.6906666666666667\n",
      "max_features: 3000 n_gram: (1, 1)  solver: newton-cg  tol: 0.3  C: 0.3  accuracy: 0.696\n",
      "max_features: 3000 n_gram: (1, 1)  solver: newton-cg  tol: 0.3  C: 3  accuracy: 0.6931666666666667\n",
      "max_features: 3000 n_gram: (1, 1)  solver: newton-cg  tol: 0.3  C: 10  accuracy: 0.6918333333333333\n",
      "max_features: 3000 n_gram: (1, 1)  solver: newton-cg  tol: 3  C: 0.1  accuracy: 0.6913333333333334\n",
      "max_features: 3000 n_gram: (1, 1)  solver: newton-cg  tol: 3  C: 0.3  accuracy: 0.6963333333333334\n",
      "max_features: 3000 n_gram: (1, 1)  solver: newton-cg  tol: 3  C: 3  accuracy: 0.695\n",
      "max_features: 3000 n_gram: (1, 1)  solver: newton-cg  tol: 3  C: 10  accuracy: 0.6925\n",
      "max_features: 3000 n_gram: (1, 1)  solver: newton-cholesky  tol: 5  C: 0.1  accuracy: 0.686\n",
      "max_features: 3000 n_gram: (1, 1)  solver: newton-cholesky  tol: 5  C: 0.3  accuracy: 0.696\n",
      "max_features: 3000 n_gram: (1, 1)  solver: newton-cholesky  tol: 5  C: 3  accuracy: 0.694\n",
      "max_features: 3000 n_gram: (1, 1)  solver: newton-cholesky  tol: 5  C: 10  accuracy: 0.6873333333333334\n",
      "max_features: 3000 n_gram: (1, 1)  solver: newton-cholesky  tol: 0.3  C: 0.1  accuracy: 0.686\n",
      "max_features: 3000 n_gram: (1, 1)  solver: newton-cholesky  tol: 0.3  C: 0.3  accuracy: 0.696\n",
      "max_features: 3000 n_gram: (1, 1)  solver: newton-cholesky  tol: 0.3  C: 3  accuracy: 0.694\n",
      "max_features: 3000 n_gram: (1, 1)  solver: newton-cholesky  tol: 0.3  C: 10  accuracy: 0.6873333333333334\n",
      "max_features: 3000 n_gram: (1, 1)  solver: newton-cholesky  tol: 3  C: 0.1  accuracy: 0.686\n",
      "max_features: 3000 n_gram: (1, 1)  solver: newton-cholesky  tol: 3  C: 0.3  accuracy: 0.696\n",
      "max_features: 3000 n_gram: (1, 1)  solver: newton-cholesky  tol: 3  C: 3  accuracy: 0.694\n",
      "max_features: 3000 n_gram: (1, 1)  solver: newton-cholesky  tol: 3  C: 10  accuracy: 0.6873333333333334\n",
      "max_features: 3000 n_gram: (1, 1)  solver: sag  tol: 5  C: 0.1  accuracy: 0.6408333333333334\n",
      "max_features: 3000 n_gram: (1, 1)  solver: sag  tol: 5  C: 0.3  accuracy: 0.6271666666666667\n",
      "max_features: 3000 n_gram: (1, 1)  solver: sag  tol: 5  C: 3  accuracy: 0.647\n",
      "max_features: 3000 n_gram: (1, 1)  solver: sag  tol: 5  C: 10  accuracy: 0.5865\n",
      "max_features: 3000 n_gram: (1, 1)  solver: sag  tol: 0.3  C: 0.1  accuracy: 0.6126666666666667\n",
      "max_features: 3000 n_gram: (1, 1)  solver: sag  tol: 0.3  C: 0.3  accuracy: 0.5115\n",
      "max_features: 3000 n_gram: (1, 1)  solver: sag  tol: 0.3  C: 3  accuracy: 0.6813333333333333\n",
      "max_features: 3000 n_gram: (1, 1)  solver: sag  tol: 0.3  C: 10  accuracy: 0.6791666666666667\n",
      "max_features: 3000 n_gram: (1, 1)  solver: sag  tol: 3  C: 0.1  accuracy: 0.6271666666666667\n",
      "max_features: 3000 n_gram: (1, 1)  solver: sag  tol: 3  C: 0.3  accuracy: 0.6636666666666666\n",
      "max_features: 3000 n_gram: (1, 1)  solver: sag  tol: 3  C: 3  accuracy: 0.6388333333333334\n",
      "max_features: 3000 n_gram: (1, 1)  solver: sag  tol: 3  C: 10  accuracy: 0.6198333333333333\n",
      "max_features: 3000 n_gram: (1, 1)  solver: saga  tol: 5  C: 0.1  accuracy: 0.645\n",
      "max_features: 3000 n_gram: (1, 1)  solver: saga  tol: 5  C: 0.3  accuracy: 0.6218333333333333\n",
      "max_features: 3000 n_gram: (1, 1)  solver: saga  tol: 5  C: 3  accuracy: 0.669\n",
      "max_features: 3000 n_gram: (1, 1)  solver: saga  tol: 5  C: 10  accuracy: 0.656\n",
      "max_features: 3000 n_gram: (1, 1)  solver: saga  tol: 0.3  C: 0.1  accuracy: 0.6638333333333334\n",
      "max_features: 3000 n_gram: (1, 1)  solver: saga  tol: 0.3  C: 0.3  accuracy: 0.6853333333333333\n",
      "max_features: 3000 n_gram: (1, 1)  solver: saga  tol: 0.3  C: 3  accuracy: 0.6903333333333334\n",
      "max_features: 3000 n_gram: (1, 1)  solver: saga  tol: 0.3  C: 10  accuracy: 0.683\n",
      "max_features: 3000 n_gram: (1, 1)  solver: saga  tol: 3  C: 0.1  accuracy: 0.6736666666666666\n",
      "max_features: 3000 n_gram: (1, 1)  solver: saga  tol: 3  C: 0.3  accuracy: 0.6598333333333334\n",
      "max_features: 3000 n_gram: (1, 1)  solver: saga  tol: 3  C: 3  accuracy: 0.6333333333333333\n",
      "max_features: 3000 n_gram: (1, 1)  solver: saga  tol: 3  C: 10  accuracy: 0.654\n",
      "max_features: 3000 n_gram: (1, 2)  solver: lbfgs  tol: 5  C: 0.1  accuracy: 0.6931666666666667\n",
      "max_features: 3000 n_gram: (1, 2)  solver: lbfgs  tol: 5  C: 0.3  accuracy: 0.7035\n",
      "max_features: 3000 n_gram: (1, 2)  solver: lbfgs  tol: 5  C: 3  accuracy: 0.7021666666666667\n"
     ]
    },
    {
     "name": "stderr",
     "output_type": "stream",
     "text": [
      "C:\\Users\\Stefi\\PycharmProjects\\PMLKaggle\\venv\\lib\\site-packages\\sklearn\\linear_model\\_logistic.py:460: ConvergenceWarning: lbfgs failed to converge (status=1):\n",
      "STOP: TOTAL NO. of ITERATIONS REACHED LIMIT.\n",
      "\n",
      "Increase the number of iterations (max_iter) or scale the data as shown in:\n",
      "    https://scikit-learn.org/stable/modules/preprocessing.html\n",
      "Please also refer to the documentation for alternative solver options:\n",
      "    https://scikit-learn.org/stable/modules/linear_model.html#logistic-regression\n",
      "  n_iter_i = _check_optimize_result(\n"
     ]
    },
    {
     "name": "stdout",
     "output_type": "stream",
     "text": [
      "max_features: 3000 n_gram: (1, 2)  solver: lbfgs  tol: 5  C: 10  accuracy: 0.701\n",
      "max_features: 3000 n_gram: (1, 2)  solver: lbfgs  tol: 0.3  C: 0.1  accuracy: 0.6933333333333334\n"
     ]
    },
    {
     "name": "stderr",
     "output_type": "stream",
     "text": [
      "C:\\Users\\Stefi\\PycharmProjects\\PMLKaggle\\venv\\lib\\site-packages\\sklearn\\linear_model\\_logistic.py:460: ConvergenceWarning: lbfgs failed to converge (status=1):\n",
      "STOP: TOTAL NO. of ITERATIONS REACHED LIMIT.\n",
      "\n",
      "Increase the number of iterations (max_iter) or scale the data as shown in:\n",
      "    https://scikit-learn.org/stable/modules/preprocessing.html\n",
      "Please also refer to the documentation for alternative solver options:\n",
      "    https://scikit-learn.org/stable/modules/linear_model.html#logistic-regression\n",
      "  n_iter_i = _check_optimize_result(\n"
     ]
    },
    {
     "name": "stdout",
     "output_type": "stream",
     "text": [
      "max_features: 3000 n_gram: (1, 2)  solver: lbfgs  tol: 0.3  C: 0.3  accuracy: 0.703\n"
     ]
    },
    {
     "name": "stderr",
     "output_type": "stream",
     "text": [
      "C:\\Users\\Stefi\\PycharmProjects\\PMLKaggle\\venv\\lib\\site-packages\\sklearn\\linear_model\\_logistic.py:460: ConvergenceWarning: lbfgs failed to converge (status=1):\n",
      "STOP: TOTAL NO. of ITERATIONS REACHED LIMIT.\n",
      "\n",
      "Increase the number of iterations (max_iter) or scale the data as shown in:\n",
      "    https://scikit-learn.org/stable/modules/preprocessing.html\n",
      "Please also refer to the documentation for alternative solver options:\n",
      "    https://scikit-learn.org/stable/modules/linear_model.html#logistic-regression\n",
      "  n_iter_i = _check_optimize_result(\n"
     ]
    },
    {
     "name": "stdout",
     "output_type": "stream",
     "text": [
      "max_features: 3000 n_gram: (1, 2)  solver: lbfgs  tol: 0.3  C: 3  accuracy: 0.7015\n"
     ]
    },
    {
     "name": "stderr",
     "output_type": "stream",
     "text": [
      "C:\\Users\\Stefi\\PycharmProjects\\PMLKaggle\\venv\\lib\\site-packages\\sklearn\\linear_model\\_logistic.py:460: ConvergenceWarning: lbfgs failed to converge (status=1):\n",
      "STOP: TOTAL NO. of ITERATIONS REACHED LIMIT.\n",
      "\n",
      "Increase the number of iterations (max_iter) or scale the data as shown in:\n",
      "    https://scikit-learn.org/stable/modules/preprocessing.html\n",
      "Please also refer to the documentation for alternative solver options:\n",
      "    https://scikit-learn.org/stable/modules/linear_model.html#logistic-regression\n",
      "  n_iter_i = _check_optimize_result(\n"
     ]
    },
    {
     "name": "stdout",
     "output_type": "stream",
     "text": [
      "max_features: 3000 n_gram: (1, 2)  solver: lbfgs  tol: 0.3  C: 10  accuracy: 0.701\n",
      "max_features: 3000 n_gram: (1, 2)  solver: lbfgs  tol: 3  C: 0.1  accuracy: 0.6931666666666667\n",
      "max_features: 3000 n_gram: (1, 2)  solver: lbfgs  tol: 3  C: 0.3  accuracy: 0.7036666666666667\n",
      "max_features: 3000 n_gram: (1, 2)  solver: lbfgs  tol: 3  C: 3  accuracy: 0.7021666666666667\n"
     ]
    },
    {
     "name": "stderr",
     "output_type": "stream",
     "text": [
      "C:\\Users\\Stefi\\PycharmProjects\\PMLKaggle\\venv\\lib\\site-packages\\sklearn\\linear_model\\_logistic.py:460: ConvergenceWarning: lbfgs failed to converge (status=1):\n",
      "STOP: TOTAL NO. of ITERATIONS REACHED LIMIT.\n",
      "\n",
      "Increase the number of iterations (max_iter) or scale the data as shown in:\n",
      "    https://scikit-learn.org/stable/modules/preprocessing.html\n",
      "Please also refer to the documentation for alternative solver options:\n",
      "    https://scikit-learn.org/stable/modules/linear_model.html#logistic-regression\n",
      "  n_iter_i = _check_optimize_result(\n"
     ]
    },
    {
     "name": "stdout",
     "output_type": "stream",
     "text": [
      "max_features: 3000 n_gram: (1, 2)  solver: lbfgs  tol: 3  C: 10  accuracy: 0.701\n",
      "max_features: 3000 n_gram: (1, 2)  solver: liblinear  tol: 5  C: 0.1  accuracy: 0.375\n",
      "max_features: 3000 n_gram: (1, 2)  solver: liblinear  tol: 5  C: 0.3  accuracy: 0.375\n",
      "max_features: 3000 n_gram: (1, 2)  solver: liblinear  tol: 5  C: 3  accuracy: 0.375\n",
      "max_features: 3000 n_gram: (1, 2)  solver: liblinear  tol: 5  C: 10  accuracy: 0.375\n",
      "max_features: 3000 n_gram: (1, 2)  solver: liblinear  tol: 0.3  C: 0.1  accuracy: 0.6605\n",
      "max_features: 3000 n_gram: (1, 2)  solver: liblinear  tol: 0.3  C: 0.3  accuracy: 0.6693333333333333\n",
      "max_features: 3000 n_gram: (1, 2)  solver: liblinear  tol: 0.3  C: 3  accuracy: 0.6676666666666666\n",
      "max_features: 3000 n_gram: (1, 2)  solver: liblinear  tol: 0.3  C: 10  accuracy: 0.6676666666666666\n",
      "max_features: 3000 n_gram: (1, 2)  solver: liblinear  tol: 3  C: 0.1  accuracy: 0.375\n",
      "max_features: 3000 n_gram: (1, 2)  solver: liblinear  tol: 3  C: 0.3  accuracy: 0.375\n",
      "max_features: 3000 n_gram: (1, 2)  solver: liblinear  tol: 3  C: 3  accuracy: 0.375\n",
      "max_features: 3000 n_gram: (1, 2)  solver: liblinear  tol: 3  C: 10  accuracy: 0.375\n",
      "max_features: 3000 n_gram: (1, 2)  solver: newton-cg  tol: 5  C: 0.1  accuracy: 0.6921666666666667\n",
      "max_features: 3000 n_gram: (1, 2)  solver: newton-cg  tol: 5  C: 0.3  accuracy: 0.7035\n",
      "max_features: 3000 n_gram: (1, 2)  solver: newton-cg  tol: 5  C: 3  accuracy: 0.7016666666666667\n",
      "max_features: 3000 n_gram: (1, 2)  solver: newton-cg  tol: 5  C: 10  accuracy: 0.699\n",
      "max_features: 3000 n_gram: (1, 2)  solver: newton-cg  tol: 0.3  C: 0.1  accuracy: 0.6931666666666667\n",
      "max_features: 3000 n_gram: (1, 2)  solver: newton-cg  tol: 0.3  C: 0.3  accuracy: 0.703\n",
      "max_features: 3000 n_gram: (1, 2)  solver: newton-cg  tol: 0.3  C: 3  accuracy: 0.702\n",
      "max_features: 3000 n_gram: (1, 2)  solver: newton-cg  tol: 0.3  C: 10  accuracy: 0.6996666666666667\n",
      "max_features: 3000 n_gram: (1, 2)  solver: newton-cg  tol: 3  C: 0.1  accuracy: 0.6935\n",
      "max_features: 3000 n_gram: (1, 2)  solver: newton-cg  tol: 3  C: 0.3  accuracy: 0.7035\n",
      "max_features: 3000 n_gram: (1, 2)  solver: newton-cg  tol: 3  C: 3  accuracy: 0.7016666666666667\n",
      "max_features: 3000 n_gram: (1, 2)  solver: newton-cg  tol: 3  C: 10  accuracy: 0.6996666666666667\n",
      "max_features: 3000 n_gram: (1, 2)  solver: newton-cholesky  tol: 5  C: 0.1  accuracy: 0.6895\n",
      "max_features: 3000 n_gram: (1, 2)  solver: newton-cholesky  tol: 5  C: 0.3  accuracy: 0.7025\n",
      "max_features: 3000 n_gram: (1, 2)  solver: newton-cholesky  tol: 5  C: 3  accuracy: 0.7031666666666667\n",
      "max_features: 3000 n_gram: (1, 2)  solver: newton-cholesky  tol: 5  C: 10  accuracy: 0.7001666666666667\n",
      "max_features: 3000 n_gram: (1, 2)  solver: newton-cholesky  tol: 0.3  C: 0.1  accuracy: 0.6895\n",
      "max_features: 3000 n_gram: (1, 2)  solver: newton-cholesky  tol: 0.3  C: 0.3  accuracy: 0.7025\n",
      "max_features: 3000 n_gram: (1, 2)  solver: newton-cholesky  tol: 0.3  C: 3  accuracy: 0.7031666666666667\n",
      "max_features: 3000 n_gram: (1, 2)  solver: newton-cholesky  tol: 0.3  C: 10  accuracy: 0.7001666666666667\n",
      "max_features: 3000 n_gram: (1, 2)  solver: newton-cholesky  tol: 3  C: 0.1  accuracy: 0.6895\n",
      "max_features: 3000 n_gram: (1, 2)  solver: newton-cholesky  tol: 3  C: 0.3  accuracy: 0.7025\n",
      "max_features: 3000 n_gram: (1, 2)  solver: newton-cholesky  tol: 3  C: 3  accuracy: 0.7031666666666667\n",
      "max_features: 3000 n_gram: (1, 2)  solver: newton-cholesky  tol: 3  C: 10  accuracy: 0.7001666666666667\n",
      "max_features: 3000 n_gram: (1, 2)  solver: sag  tol: 5  C: 0.1  accuracy: 0.5963333333333334\n",
      "max_features: 3000 n_gram: (1, 2)  solver: sag  tol: 5  C: 0.3  accuracy: 0.6761666666666667\n",
      "max_features: 3000 n_gram: (1, 2)  solver: sag  tol: 5  C: 3  accuracy: 0.6578333333333334\n",
      "max_features: 3000 n_gram: (1, 2)  solver: sag  tol: 5  C: 10  accuracy: 0.6391666666666667\n",
      "max_features: 3000 n_gram: (1, 2)  solver: sag  tol: 0.3  C: 0.1  accuracy: 0.6861666666666667\n",
      "max_features: 3000 n_gram: (1, 2)  solver: sag  tol: 0.3  C: 0.3  accuracy: 0.5696666666666667\n",
      "max_features: 3000 n_gram: (1, 2)  solver: sag  tol: 0.3  C: 3  accuracy: 0.686\n",
      "max_features: 3000 n_gram: (1, 2)  solver: sag  tol: 0.3  C: 10  accuracy: 0.6785\n",
      "max_features: 3000 n_gram: (1, 2)  solver: sag  tol: 3  C: 0.1  accuracy: 0.5721666666666667\n",
      "max_features: 3000 n_gram: (1, 2)  solver: sag  tol: 3  C: 0.3  accuracy: 0.6041666666666666\n",
      "max_features: 3000 n_gram: (1, 2)  solver: sag  tol: 3  C: 3  accuracy: 0.658\n",
      "max_features: 3000 n_gram: (1, 2)  solver: sag  tol: 3  C: 10  accuracy: 0.622\n",
      "max_features: 3000 n_gram: (1, 2)  solver: saga  tol: 5  C: 0.1  accuracy: 0.6646666666666666\n",
      "max_features: 3000 n_gram: (1, 2)  solver: saga  tol: 5  C: 0.3  accuracy: 0.6838333333333333\n",
      "max_features: 3000 n_gram: (1, 2)  solver: saga  tol: 5  C: 3  accuracy: 0.6653333333333333\n",
      "max_features: 3000 n_gram: (1, 2)  solver: saga  tol: 5  C: 10  accuracy: 0.6798333333333333\n",
      "max_features: 3000 n_gram: (1, 2)  solver: saga  tol: 0.3  C: 0.1  accuracy: 0.6885\n",
      "max_features: 3000 n_gram: (1, 2)  solver: saga  tol: 0.3  C: 0.3  accuracy: 0.6986666666666667\n",
      "max_features: 3000 n_gram: (1, 2)  solver: saga  tol: 0.3  C: 3  accuracy: 0.6963333333333334\n",
      "max_features: 3000 n_gram: (1, 2)  solver: saga  tol: 0.3  C: 10  accuracy: 0.6883333333333334\n",
      "max_features: 3000 n_gram: (1, 2)  solver: saga  tol: 3  C: 0.1  accuracy: 0.679\n",
      "max_features: 3000 n_gram: (1, 2)  solver: saga  tol: 3  C: 0.3  accuracy: 0.6806666666666666\n",
      "max_features: 3000 n_gram: (1, 2)  solver: saga  tol: 3  C: 3  accuracy: 0.6775\n",
      "max_features: 3000 n_gram: (1, 2)  solver: saga  tol: 3  C: 10  accuracy: 0.6498333333333334\n",
      "max_features: 3000 n_gram: (1, 3)  solver: lbfgs  tol: 5  C: 0.1  accuracy: 0.6935\n",
      "max_features: 3000 n_gram: (1, 3)  solver: lbfgs  tol: 5  C: 0.3  accuracy: 0.7043333333333334\n"
     ]
    },
    {
     "name": "stderr",
     "output_type": "stream",
     "text": [
      "C:\\Users\\Stefi\\PycharmProjects\\PMLKaggle\\venv\\lib\\site-packages\\sklearn\\linear_model\\_logistic.py:460: ConvergenceWarning: lbfgs failed to converge (status=1):\n",
      "STOP: TOTAL NO. of ITERATIONS REACHED LIMIT.\n",
      "\n",
      "Increase the number of iterations (max_iter) or scale the data as shown in:\n",
      "    https://scikit-learn.org/stable/modules/preprocessing.html\n",
      "Please also refer to the documentation for alternative solver options:\n",
      "    https://scikit-learn.org/stable/modules/linear_model.html#logistic-regression\n",
      "  n_iter_i = _check_optimize_result(\n"
     ]
    },
    {
     "name": "stdout",
     "output_type": "stream",
     "text": [
      "max_features: 3000 n_gram: (1, 3)  solver: lbfgs  tol: 5  C: 3  accuracy: 0.7016666666666667\n"
     ]
    },
    {
     "name": "stderr",
     "output_type": "stream",
     "text": [
      "C:\\Users\\Stefi\\PycharmProjects\\PMLKaggle\\venv\\lib\\site-packages\\sklearn\\linear_model\\_logistic.py:460: ConvergenceWarning: lbfgs failed to converge (status=1):\n",
      "STOP: TOTAL NO. of ITERATIONS REACHED LIMIT.\n",
      "\n",
      "Increase the number of iterations (max_iter) or scale the data as shown in:\n",
      "    https://scikit-learn.org/stable/modules/preprocessing.html\n",
      "Please also refer to the documentation for alternative solver options:\n",
      "    https://scikit-learn.org/stable/modules/linear_model.html#logistic-regression\n",
      "  n_iter_i = _check_optimize_result(\n"
     ]
    },
    {
     "name": "stdout",
     "output_type": "stream",
     "text": [
      "max_features: 3000 n_gram: (1, 3)  solver: lbfgs  tol: 5  C: 10  accuracy: 0.7003333333333334\n",
      "max_features: 3000 n_gram: (1, 3)  solver: lbfgs  tol: 0.3  C: 0.1  accuracy: 0.6936666666666667\n",
      "max_features: 3000 n_gram: (1, 3)  solver: lbfgs  tol: 0.3  C: 0.3  accuracy: 0.7038333333333333\n"
     ]
    },
    {
     "name": "stderr",
     "output_type": "stream",
     "text": [
      "C:\\Users\\Stefi\\PycharmProjects\\PMLKaggle\\venv\\lib\\site-packages\\sklearn\\linear_model\\_logistic.py:460: ConvergenceWarning: lbfgs failed to converge (status=1):\n",
      "STOP: TOTAL NO. of ITERATIONS REACHED LIMIT.\n",
      "\n",
      "Increase the number of iterations (max_iter) or scale the data as shown in:\n",
      "    https://scikit-learn.org/stable/modules/preprocessing.html\n",
      "Please also refer to the documentation for alternative solver options:\n",
      "    https://scikit-learn.org/stable/modules/linear_model.html#logistic-regression\n",
      "  n_iter_i = _check_optimize_result(\n"
     ]
    },
    {
     "name": "stdout",
     "output_type": "stream",
     "text": [
      "max_features: 3000 n_gram: (1, 3)  solver: lbfgs  tol: 0.3  C: 3  accuracy: 0.7016666666666667\n"
     ]
    },
    {
     "name": "stderr",
     "output_type": "stream",
     "text": [
      "C:\\Users\\Stefi\\PycharmProjects\\PMLKaggle\\venv\\lib\\site-packages\\sklearn\\linear_model\\_logistic.py:460: ConvergenceWarning: lbfgs failed to converge (status=1):\n",
      "STOP: TOTAL NO. of ITERATIONS REACHED LIMIT.\n",
      "\n",
      "Increase the number of iterations (max_iter) or scale the data as shown in:\n",
      "    https://scikit-learn.org/stable/modules/preprocessing.html\n",
      "Please also refer to the documentation for alternative solver options:\n",
      "    https://scikit-learn.org/stable/modules/linear_model.html#logistic-regression\n",
      "  n_iter_i = _check_optimize_result(\n"
     ]
    },
    {
     "name": "stdout",
     "output_type": "stream",
     "text": [
      "max_features: 3000 n_gram: (1, 3)  solver: lbfgs  tol: 0.3  C: 10  accuracy: 0.7003333333333334\n",
      "max_features: 3000 n_gram: (1, 3)  solver: lbfgs  tol: 3  C: 0.1  accuracy: 0.693\n",
      "max_features: 3000 n_gram: (1, 3)  solver: lbfgs  tol: 3  C: 0.3  accuracy: 0.7045\n"
     ]
    },
    {
     "name": "stderr",
     "output_type": "stream",
     "text": [
      "C:\\Users\\Stefi\\PycharmProjects\\PMLKaggle\\venv\\lib\\site-packages\\sklearn\\linear_model\\_logistic.py:460: ConvergenceWarning: lbfgs failed to converge (status=1):\n",
      "STOP: TOTAL NO. of ITERATIONS REACHED LIMIT.\n",
      "\n",
      "Increase the number of iterations (max_iter) or scale the data as shown in:\n",
      "    https://scikit-learn.org/stable/modules/preprocessing.html\n",
      "Please also refer to the documentation for alternative solver options:\n",
      "    https://scikit-learn.org/stable/modules/linear_model.html#logistic-regression\n",
      "  n_iter_i = _check_optimize_result(\n"
     ]
    },
    {
     "name": "stdout",
     "output_type": "stream",
     "text": [
      "max_features: 3000 n_gram: (1, 3)  solver: lbfgs  tol: 3  C: 3  accuracy: 0.7016666666666667\n"
     ]
    },
    {
     "name": "stderr",
     "output_type": "stream",
     "text": [
      "C:\\Users\\Stefi\\PycharmProjects\\PMLKaggle\\venv\\lib\\site-packages\\sklearn\\linear_model\\_logistic.py:460: ConvergenceWarning: lbfgs failed to converge (status=1):\n",
      "STOP: TOTAL NO. of ITERATIONS REACHED LIMIT.\n",
      "\n",
      "Increase the number of iterations (max_iter) or scale the data as shown in:\n",
      "    https://scikit-learn.org/stable/modules/preprocessing.html\n",
      "Please also refer to the documentation for alternative solver options:\n",
      "    https://scikit-learn.org/stable/modules/linear_model.html#logistic-regression\n",
      "  n_iter_i = _check_optimize_result(\n"
     ]
    },
    {
     "name": "stdout",
     "output_type": "stream",
     "text": [
      "max_features: 3000 n_gram: (1, 3)  solver: lbfgs  tol: 3  C: 10  accuracy: 0.7003333333333334\n",
      "max_features: 3000 n_gram: (1, 3)  solver: liblinear  tol: 5  C: 0.1  accuracy: 0.375\n",
      "max_features: 3000 n_gram: (1, 3)  solver: liblinear  tol: 5  C: 0.3  accuracy: 0.375\n",
      "max_features: 3000 n_gram: (1, 3)  solver: liblinear  tol: 5  C: 3  accuracy: 0.375\n",
      "max_features: 3000 n_gram: (1, 3)  solver: liblinear  tol: 5  C: 10  accuracy: 0.375\n",
      "max_features: 3000 n_gram: (1, 3)  solver: liblinear  tol: 0.3  C: 0.1  accuracy: 0.6598333333333334\n",
      "max_features: 3000 n_gram: (1, 3)  solver: liblinear  tol: 0.3  C: 0.3  accuracy: 0.6685\n",
      "max_features: 3000 n_gram: (1, 3)  solver: liblinear  tol: 0.3  C: 3  accuracy: 0.6681666666666667\n",
      "max_features: 3000 n_gram: (1, 3)  solver: liblinear  tol: 0.3  C: 10  accuracy: 0.6678333333333333\n",
      "max_features: 3000 n_gram: (1, 3)  solver: liblinear  tol: 3  C: 0.1  accuracy: 0.375\n",
      "max_features: 3000 n_gram: (1, 3)  solver: liblinear  tol: 3  C: 0.3  accuracy: 0.375\n",
      "max_features: 3000 n_gram: (1, 3)  solver: liblinear  tol: 3  C: 3  accuracy: 0.375\n",
      "max_features: 3000 n_gram: (1, 3)  solver: liblinear  tol: 3  C: 10  accuracy: 0.375\n",
      "max_features: 3000 n_gram: (1, 3)  solver: newton-cg  tol: 5  C: 0.1  accuracy: 0.6925\n",
      "max_features: 3000 n_gram: (1, 3)  solver: newton-cg  tol: 5  C: 0.3  accuracy: 0.7036666666666667\n",
      "max_features: 3000 n_gram: (1, 3)  solver: newton-cg  tol: 5  C: 3  accuracy: 0.7018333333333333\n",
      "max_features: 3000 n_gram: (1, 3)  solver: newton-cg  tol: 5  C: 10  accuracy: 0.6985\n",
      "max_features: 3000 n_gram: (1, 3)  solver: newton-cg  tol: 0.3  C: 0.1  accuracy: 0.6935\n",
      "max_features: 3000 n_gram: (1, 3)  solver: newton-cg  tol: 0.3  C: 0.3  accuracy: 0.704\n",
      "max_features: 3000 n_gram: (1, 3)  solver: newton-cg  tol: 0.3  C: 3  accuracy: 0.7025\n",
      "max_features: 3000 n_gram: (1, 3)  solver: newton-cg  tol: 0.3  C: 10  accuracy: 0.6991666666666667\n",
      "max_features: 3000 n_gram: (1, 3)  solver: newton-cg  tol: 3  C: 0.1  accuracy: 0.6933333333333334\n",
      "max_features: 3000 n_gram: (1, 3)  solver: newton-cg  tol: 3  C: 0.3  accuracy: 0.7036666666666667\n",
      "max_features: 3000 n_gram: (1, 3)  solver: newton-cg  tol: 3  C: 3  accuracy: 0.7011666666666667\n",
      "max_features: 3000 n_gram: (1, 3)  solver: newton-cg  tol: 3  C: 10  accuracy: 0.7\n",
      "max_features: 3000 n_gram: (1, 3)  solver: newton-cholesky  tol: 5  C: 0.1  accuracy: 0.689\n",
      "max_features: 3000 n_gram: (1, 3)  solver: newton-cholesky  tol: 5  C: 0.3  accuracy: 0.7021666666666667\n",
      "max_features: 3000 n_gram: (1, 3)  solver: newton-cholesky  tol: 5  C: 3  accuracy: 0.7028333333333333\n",
      "max_features: 3000 n_gram: (1, 3)  solver: newton-cholesky  tol: 5  C: 10  accuracy: 0.6996666666666667\n",
      "max_features: 3000 n_gram: (1, 3)  solver: newton-cholesky  tol: 0.3  C: 0.1  accuracy: 0.689\n",
      "max_features: 3000 n_gram: (1, 3)  solver: newton-cholesky  tol: 0.3  C: 0.3  accuracy: 0.7021666666666667\n",
      "max_features: 3000 n_gram: (1, 3)  solver: newton-cholesky  tol: 0.3  C: 3  accuracy: 0.7028333333333333\n",
      "max_features: 3000 n_gram: (1, 3)  solver: newton-cholesky  tol: 0.3  C: 10  accuracy: 0.6996666666666667\n",
      "max_features: 3000 n_gram: (1, 3)  solver: newton-cholesky  tol: 3  C: 0.1  accuracy: 0.689\n",
      "max_features: 3000 n_gram: (1, 3)  solver: newton-cholesky  tol: 3  C: 0.3  accuracy: 0.7021666666666667\n",
      "max_features: 3000 n_gram: (1, 3)  solver: newton-cholesky  tol: 3  C: 3  accuracy: 0.7028333333333333\n",
      "max_features: 3000 n_gram: (1, 3)  solver: newton-cholesky  tol: 3  C: 10  accuracy: 0.6996666666666667\n",
      "max_features: 3000 n_gram: (1, 3)  solver: sag  tol: 5  C: 0.1  accuracy: 0.6006666666666667\n",
      "max_features: 3000 n_gram: (1, 3)  solver: sag  tol: 5  C: 0.3  accuracy: 0.6716666666666666\n",
      "max_features: 3000 n_gram: (1, 3)  solver: sag  tol: 5  C: 3  accuracy: 0.6098333333333333\n",
      "max_features: 3000 n_gram: (1, 3)  solver: sag  tol: 5  C: 10  accuracy: 0.6268333333333334\n",
      "max_features: 3000 n_gram: (1, 3)  solver: sag  tol: 0.3  C: 0.1  accuracy: 0.5733333333333334\n",
      "max_features: 3000 n_gram: (1, 3)  solver: sag  tol: 0.3  C: 0.3  accuracy: 0.5581666666666667\n",
      "max_features: 3000 n_gram: (1, 3)  solver: sag  tol: 0.3  C: 3  accuracy: 0.6935\n",
      "max_features: 3000 n_gram: (1, 3)  solver: sag  tol: 0.3  C: 10  accuracy: 0.6815\n",
      "max_features: 3000 n_gram: (1, 3)  solver: sag  tol: 3  C: 0.1  accuracy: 0.5166666666666667\n",
      "max_features: 3000 n_gram: (1, 3)  solver: sag  tol: 3  C: 0.3  accuracy: 0.6791666666666667\n",
      "max_features: 3000 n_gram: (1, 3)  solver: sag  tol: 3  C: 3  accuracy: 0.6586666666666666\n",
      "max_features: 3000 n_gram: (1, 3)  solver: sag  tol: 3  C: 10  accuracy: 0.6511666666666667\n",
      "max_features: 3000 n_gram: (1, 3)  solver: saga  tol: 5  C: 0.1  accuracy: 0.662\n",
      "max_features: 3000 n_gram: (1, 3)  solver: saga  tol: 5  C: 0.3  accuracy: 0.6646666666666666\n",
      "max_features: 3000 n_gram: (1, 3)  solver: saga  tol: 5  C: 3  accuracy: 0.6663333333333333\n",
      "max_features: 3000 n_gram: (1, 3)  solver: saga  tol: 5  C: 10  accuracy: 0.6713333333333333\n",
      "max_features: 3000 n_gram: (1, 3)  solver: saga  tol: 0.3  C: 0.1  accuracy: 0.6901666666666667\n",
      "max_features: 3000 n_gram: (1, 3)  solver: saga  tol: 0.3  C: 0.3  accuracy: 0.697\n",
      "max_features: 3000 n_gram: (1, 3)  solver: saga  tol: 0.3  C: 3  accuracy: 0.693\n",
      "max_features: 3000 n_gram: (1, 3)  solver: saga  tol: 0.3  C: 10  accuracy: 0.6938333333333333\n",
      "max_features: 3000 n_gram: (1, 3)  solver: saga  tol: 3  C: 0.1  accuracy: 0.632\n",
      "max_features: 3000 n_gram: (1, 3)  solver: saga  tol: 3  C: 0.3  accuracy: 0.6601666666666667\n",
      "max_features: 3000 n_gram: (1, 3)  solver: saga  tol: 3  C: 3  accuracy: 0.6458333333333334\n",
      "max_features: 3000 n_gram: (1, 3)  solver: saga  tol: 3  C: 10  accuracy: 0.6805\n",
      "max_features: 5000 n_gram: (1, 1)  solver: lbfgs  tol: 5  C: 0.1  accuracy: 0.69\n",
      "max_features: 5000 n_gram: (1, 1)  solver: lbfgs  tol: 5  C: 0.3  accuracy: 0.6958333333333333\n"
     ]
    },
    {
     "name": "stderr",
     "output_type": "stream",
     "text": [
      "C:\\Users\\Stefi\\PycharmProjects\\PMLKaggle\\venv\\lib\\site-packages\\sklearn\\linear_model\\_logistic.py:460: ConvergenceWarning: lbfgs failed to converge (status=1):\n",
      "STOP: TOTAL NO. of ITERATIONS REACHED LIMIT.\n",
      "\n",
      "Increase the number of iterations (max_iter) or scale the data as shown in:\n",
      "    https://scikit-learn.org/stable/modules/preprocessing.html\n",
      "Please also refer to the documentation for alternative solver options:\n",
      "    https://scikit-learn.org/stable/modules/linear_model.html#logistic-regression\n",
      "  n_iter_i = _check_optimize_result(\n"
     ]
    },
    {
     "name": "stdout",
     "output_type": "stream",
     "text": [
      "max_features: 5000 n_gram: (1, 1)  solver: lbfgs  tol: 5  C: 3  accuracy: 0.6925\n"
     ]
    },
    {
     "name": "stderr",
     "output_type": "stream",
     "text": [
      "C:\\Users\\Stefi\\PycharmProjects\\PMLKaggle\\venv\\lib\\site-packages\\sklearn\\linear_model\\_logistic.py:460: ConvergenceWarning: lbfgs failed to converge (status=1):\n",
      "STOP: TOTAL NO. of ITERATIONS REACHED LIMIT.\n",
      "\n",
      "Increase the number of iterations (max_iter) or scale the data as shown in:\n",
      "    https://scikit-learn.org/stable/modules/preprocessing.html\n",
      "Please also refer to the documentation for alternative solver options:\n",
      "    https://scikit-learn.org/stable/modules/linear_model.html#logistic-regression\n",
      "  n_iter_i = _check_optimize_result(\n"
     ]
    },
    {
     "name": "stdout",
     "output_type": "stream",
     "text": [
      "max_features: 5000 n_gram: (1, 1)  solver: lbfgs  tol: 5  C: 10  accuracy: 0.6856666666666666\n",
      "max_features: 5000 n_gram: (1, 1)  solver: lbfgs  tol: 0.3  C: 0.1  accuracy: 0.6898333333333333\n",
      "max_features: 5000 n_gram: (1, 1)  solver: lbfgs  tol: 0.3  C: 0.3  accuracy: 0.6961666666666667\n"
     ]
    },
    {
     "name": "stderr",
     "output_type": "stream",
     "text": [
      "C:\\Users\\Stefi\\PycharmProjects\\PMLKaggle\\venv\\lib\\site-packages\\sklearn\\linear_model\\_logistic.py:460: ConvergenceWarning: lbfgs failed to converge (status=1):\n",
      "STOP: TOTAL NO. of ITERATIONS REACHED LIMIT.\n",
      "\n",
      "Increase the number of iterations (max_iter) or scale the data as shown in:\n",
      "    https://scikit-learn.org/stable/modules/preprocessing.html\n",
      "Please also refer to the documentation for alternative solver options:\n",
      "    https://scikit-learn.org/stable/modules/linear_model.html#logistic-regression\n",
      "  n_iter_i = _check_optimize_result(\n"
     ]
    },
    {
     "name": "stdout",
     "output_type": "stream",
     "text": [
      "max_features: 5000 n_gram: (1, 1)  solver: lbfgs  tol: 0.3  C: 3  accuracy: 0.6925\n"
     ]
    },
    {
     "name": "stderr",
     "output_type": "stream",
     "text": [
      "C:\\Users\\Stefi\\PycharmProjects\\PMLKaggle\\venv\\lib\\site-packages\\sklearn\\linear_model\\_logistic.py:460: ConvergenceWarning: lbfgs failed to converge (status=1):\n",
      "STOP: TOTAL NO. of ITERATIONS REACHED LIMIT.\n",
      "\n",
      "Increase the number of iterations (max_iter) or scale the data as shown in:\n",
      "    https://scikit-learn.org/stable/modules/preprocessing.html\n",
      "Please also refer to the documentation for alternative solver options:\n",
      "    https://scikit-learn.org/stable/modules/linear_model.html#logistic-regression\n",
      "  n_iter_i = _check_optimize_result(\n"
     ]
    },
    {
     "name": "stdout",
     "output_type": "stream",
     "text": [
      "max_features: 5000 n_gram: (1, 1)  solver: lbfgs  tol: 0.3  C: 10  accuracy: 0.6856666666666666\n",
      "max_features: 5000 n_gram: (1, 1)  solver: lbfgs  tol: 3  C: 0.1  accuracy: 0.69\n",
      "max_features: 5000 n_gram: (1, 1)  solver: lbfgs  tol: 3  C: 0.3  accuracy: 0.6961666666666667\n"
     ]
    },
    {
     "name": "stderr",
     "output_type": "stream",
     "text": [
      "C:\\Users\\Stefi\\PycharmProjects\\PMLKaggle\\venv\\lib\\site-packages\\sklearn\\linear_model\\_logistic.py:460: ConvergenceWarning: lbfgs failed to converge (status=1):\n",
      "STOP: TOTAL NO. of ITERATIONS REACHED LIMIT.\n",
      "\n",
      "Increase the number of iterations (max_iter) or scale the data as shown in:\n",
      "    https://scikit-learn.org/stable/modules/preprocessing.html\n",
      "Please also refer to the documentation for alternative solver options:\n",
      "    https://scikit-learn.org/stable/modules/linear_model.html#logistic-regression\n",
      "  n_iter_i = _check_optimize_result(\n"
     ]
    },
    {
     "name": "stdout",
     "output_type": "stream",
     "text": [
      "max_features: 5000 n_gram: (1, 1)  solver: lbfgs  tol: 3  C: 3  accuracy: 0.6925\n"
     ]
    },
    {
     "name": "stderr",
     "output_type": "stream",
     "text": [
      "C:\\Users\\Stefi\\PycharmProjects\\PMLKaggle\\venv\\lib\\site-packages\\sklearn\\linear_model\\_logistic.py:460: ConvergenceWarning: lbfgs failed to converge (status=1):\n",
      "STOP: TOTAL NO. of ITERATIONS REACHED LIMIT.\n",
      "\n",
      "Increase the number of iterations (max_iter) or scale the data as shown in:\n",
      "    https://scikit-learn.org/stable/modules/preprocessing.html\n",
      "Please also refer to the documentation for alternative solver options:\n",
      "    https://scikit-learn.org/stable/modules/linear_model.html#logistic-regression\n",
      "  n_iter_i = _check_optimize_result(\n"
     ]
    },
    {
     "name": "stdout",
     "output_type": "stream",
     "text": [
      "max_features: 5000 n_gram: (1, 1)  solver: lbfgs  tol: 3  C: 10  accuracy: 0.6856666666666666\n",
      "max_features: 5000 n_gram: (1, 1)  solver: liblinear  tol: 5  C: 0.1  accuracy: 0.375\n",
      "max_features: 5000 n_gram: (1, 1)  solver: liblinear  tol: 5  C: 0.3  accuracy: 0.375\n",
      "max_features: 5000 n_gram: (1, 1)  solver: liblinear  tol: 5  C: 3  accuracy: 0.375\n",
      "max_features: 5000 n_gram: (1, 1)  solver: liblinear  tol: 5  C: 10  accuracy: 0.375\n",
      "max_features: 5000 n_gram: (1, 1)  solver: liblinear  tol: 0.3  C: 0.1  accuracy: 0.6461666666666667\n",
      "max_features: 5000 n_gram: (1, 1)  solver: liblinear  tol: 0.3  C: 0.3  accuracy: 0.6628333333333334\n",
      "max_features: 5000 n_gram: (1, 1)  solver: liblinear  tol: 0.3  C: 3  accuracy: 0.6595\n",
      "max_features: 5000 n_gram: (1, 1)  solver: liblinear  tol: 0.3  C: 10  accuracy: 0.6591666666666667\n",
      "max_features: 5000 n_gram: (1, 1)  solver: liblinear  tol: 3  C: 0.1  accuracy: 0.375\n",
      "max_features: 5000 n_gram: (1, 1)  solver: liblinear  tol: 3  C: 0.3  accuracy: 0.375\n",
      "max_features: 5000 n_gram: (1, 1)  solver: liblinear  tol: 3  C: 3  accuracy: 0.375\n",
      "max_features: 5000 n_gram: (1, 1)  solver: liblinear  tol: 3  C: 10  accuracy: 0.375\n",
      "max_features: 5000 n_gram: (1, 1)  solver: newton-cg  tol: 5  C: 0.1  accuracy: 0.6901666666666667\n",
      "max_features: 5000 n_gram: (1, 1)  solver: newton-cg  tol: 5  C: 0.3  accuracy: 0.6963333333333334\n",
      "max_features: 5000 n_gram: (1, 1)  solver: newton-cg  tol: 5  C: 3  accuracy: 0.6938333333333333\n",
      "max_features: 5000 n_gram: (1, 1)  solver: newton-cg  tol: 5  C: 10  accuracy: 0.6845\n",
      "max_features: 5000 n_gram: (1, 1)  solver: newton-cg  tol: 0.3  C: 0.1  accuracy: 0.69\n",
      "max_features: 5000 n_gram: (1, 1)  solver: newton-cg  tol: 0.3  C: 0.3  accuracy: 0.6963333333333334\n",
      "max_features: 5000 n_gram: (1, 1)  solver: newton-cg  tol: 0.3  C: 3  accuracy: 0.6928333333333333\n",
      "max_features: 5000 n_gram: (1, 1)  solver: newton-cg  tol: 0.3  C: 10  accuracy: 0.6845\n",
      "max_features: 5000 n_gram: (1, 1)  solver: newton-cg  tol: 3  C: 0.1  accuracy: 0.6901666666666667\n",
      "max_features: 5000 n_gram: (1, 1)  solver: newton-cg  tol: 3  C: 0.3  accuracy: 0.6963333333333334\n",
      "max_features: 5000 n_gram: (1, 1)  solver: newton-cg  tol: 3  C: 3  accuracy: 0.6938333333333333\n",
      "max_features: 5000 n_gram: (1, 1)  solver: newton-cg  tol: 3  C: 10  accuracy: 0.685\n",
      "max_features: 5000 n_gram: (1, 1)  solver: newton-cholesky  tol: 5  C: 0.1  accuracy: 0.6865\n",
      "max_features: 5000 n_gram: (1, 1)  solver: newton-cholesky  tol: 5  C: 0.3  accuracy: 0.6956666666666667\n",
      "max_features: 5000 n_gram: (1, 1)  solver: newton-cholesky  tol: 5  C: 3  accuracy: 0.6888333333333333\n",
      "max_features: 5000 n_gram: (1, 1)  solver: newton-cholesky  tol: 5  C: 10  accuracy: 0.679\n",
      "max_features: 5000 n_gram: (1, 1)  solver: newton-cholesky  tol: 0.3  C: 0.1  accuracy: 0.6865\n",
      "max_features: 5000 n_gram: (1, 1)  solver: newton-cholesky  tol: 0.3  C: 0.3  accuracy: 0.6956666666666667\n",
      "max_features: 5000 n_gram: (1, 1)  solver: newton-cholesky  tol: 0.3  C: 3  accuracy: 0.6888333333333333\n",
      "max_features: 5000 n_gram: (1, 1)  solver: newton-cholesky  tol: 0.3  C: 10  accuracy: 0.679\n",
      "max_features: 5000 n_gram: (1, 1)  solver: newton-cholesky  tol: 3  C: 0.1  accuracy: 0.6865\n",
      "max_features: 5000 n_gram: (1, 1)  solver: newton-cholesky  tol: 3  C: 0.3  accuracy: 0.6956666666666667\n",
      "max_features: 5000 n_gram: (1, 1)  solver: newton-cholesky  tol: 3  C: 3  accuracy: 0.6888333333333333\n",
      "max_features: 5000 n_gram: (1, 1)  solver: newton-cholesky  tol: 3  C: 10  accuracy: 0.679\n",
      "max_features: 5000 n_gram: (1, 1)  solver: sag  tol: 5  C: 0.1  accuracy: 0.6648333333333334\n",
      "max_features: 5000 n_gram: (1, 1)  solver: sag  tol: 5  C: 0.3  accuracy: 0.6726666666666666\n",
      "max_features: 5000 n_gram: (1, 1)  solver: sag  tol: 5  C: 3  accuracy: 0.6213333333333333\n",
      "max_features: 5000 n_gram: (1, 1)  solver: sag  tol: 5  C: 10  accuracy: 0.5831666666666667\n",
      "max_features: 5000 n_gram: (1, 1)  solver: sag  tol: 0.3  C: 0.1  accuracy: 0.658\n",
      "max_features: 5000 n_gram: (1, 1)  solver: sag  tol: 0.3  C: 0.3  accuracy: 0.6453333333333333\n",
      "max_features: 5000 n_gram: (1, 1)  solver: sag  tol: 0.3  C: 3  accuracy: 0.6851666666666667\n",
      "max_features: 5000 n_gram: (1, 1)  solver: sag  tol: 0.3  C: 10  accuracy: 0.6438333333333334\n",
      "max_features: 5000 n_gram: (1, 1)  solver: sag  tol: 3  C: 0.1  accuracy: 0.6836666666666666\n",
      "max_features: 5000 n_gram: (1, 1)  solver: sag  tol: 3  C: 0.3  accuracy: 0.5583333333333333\n",
      "max_features: 5000 n_gram: (1, 1)  solver: sag  tol: 3  C: 3  accuracy: 0.5865\n",
      "max_features: 5000 n_gram: (1, 1)  solver: sag  tol: 3  C: 10  accuracy: 0.6183333333333333\n",
      "max_features: 5000 n_gram: (1, 1)  solver: saga  tol: 5  C: 0.1  accuracy: 0.64\n",
      "max_features: 5000 n_gram: (1, 1)  solver: saga  tol: 5  C: 0.3  accuracy: 0.68\n",
      "max_features: 5000 n_gram: (1, 1)  solver: saga  tol: 5  C: 3  accuracy: 0.6673333333333333\n",
      "max_features: 5000 n_gram: (1, 1)  solver: saga  tol: 5  C: 10  accuracy: 0.6518333333333334\n",
      "max_features: 5000 n_gram: (1, 1)  solver: saga  tol: 0.3  C: 0.1  accuracy: 0.6376666666666667\n",
      "max_features: 5000 n_gram: (1, 1)  solver: saga  tol: 0.3  C: 0.3  accuracy: 0.6828333333333333\n",
      "max_features: 5000 n_gram: (1, 1)  solver: saga  tol: 0.3  C: 3  accuracy: 0.6838333333333333\n",
      "max_features: 5000 n_gram: (1, 1)  solver: saga  tol: 0.3  C: 10  accuracy: 0.67\n",
      "max_features: 5000 n_gram: (1, 1)  solver: saga  tol: 3  C: 0.1  accuracy: 0.6623333333333333\n",
      "max_features: 5000 n_gram: (1, 1)  solver: saga  tol: 3  C: 0.3  accuracy: 0.6663333333333333\n",
      "max_features: 5000 n_gram: (1, 1)  solver: saga  tol: 3  C: 3  accuracy: 0.634\n",
      "max_features: 5000 n_gram: (1, 1)  solver: saga  tol: 3  C: 10  accuracy: 0.637\n",
      "max_features: 5000 n_gram: (1, 2)  solver: lbfgs  tol: 5  C: 0.1  accuracy: 0.6941666666666667\n",
      "max_features: 5000 n_gram: (1, 2)  solver: lbfgs  tol: 5  C: 0.3  accuracy: 0.7045\n"
     ]
    },
    {
     "name": "stderr",
     "output_type": "stream",
     "text": [
      "C:\\Users\\Stefi\\PycharmProjects\\PMLKaggle\\venv\\lib\\site-packages\\sklearn\\linear_model\\_logistic.py:460: ConvergenceWarning: lbfgs failed to converge (status=1):\n",
      "STOP: TOTAL NO. of ITERATIONS REACHED LIMIT.\n",
      "\n",
      "Increase the number of iterations (max_iter) or scale the data as shown in:\n",
      "    https://scikit-learn.org/stable/modules/preprocessing.html\n",
      "Please also refer to the documentation for alternative solver options:\n",
      "    https://scikit-learn.org/stable/modules/linear_model.html#logistic-regression\n",
      "  n_iter_i = _check_optimize_result(\n"
     ]
    },
    {
     "name": "stdout",
     "output_type": "stream",
     "text": [
      "max_features: 5000 n_gram: (1, 2)  solver: lbfgs  tol: 5  C: 3  accuracy: 0.702\n"
     ]
    },
    {
     "name": "stderr",
     "output_type": "stream",
     "text": [
      "C:\\Users\\Stefi\\PycharmProjects\\PMLKaggle\\venv\\lib\\site-packages\\sklearn\\linear_model\\_logistic.py:460: ConvergenceWarning: lbfgs failed to converge (status=1):\n",
      "STOP: TOTAL NO. of ITERATIONS REACHED LIMIT.\n",
      "\n",
      "Increase the number of iterations (max_iter) or scale the data as shown in:\n",
      "    https://scikit-learn.org/stable/modules/preprocessing.html\n",
      "Please also refer to the documentation for alternative solver options:\n",
      "    https://scikit-learn.org/stable/modules/linear_model.html#logistic-regression\n",
      "  n_iter_i = _check_optimize_result(\n"
     ]
    },
    {
     "name": "stdout",
     "output_type": "stream",
     "text": [
      "max_features: 5000 n_gram: (1, 2)  solver: lbfgs  tol: 5  C: 10  accuracy: 0.6915\n",
      "max_features: 5000 n_gram: (1, 2)  solver: lbfgs  tol: 0.3  C: 0.1  accuracy: 0.6938333333333333\n",
      "max_features: 5000 n_gram: (1, 2)  solver: lbfgs  tol: 0.3  C: 0.3  accuracy: 0.7038333333333333\n"
     ]
    },
    {
     "name": "stderr",
     "output_type": "stream",
     "text": [
      "C:\\Users\\Stefi\\PycharmProjects\\PMLKaggle\\venv\\lib\\site-packages\\sklearn\\linear_model\\_logistic.py:460: ConvergenceWarning: lbfgs failed to converge (status=1):\n",
      "STOP: TOTAL NO. of ITERATIONS REACHED LIMIT.\n",
      "\n",
      "Increase the number of iterations (max_iter) or scale the data as shown in:\n",
      "    https://scikit-learn.org/stable/modules/preprocessing.html\n",
      "Please also refer to the documentation for alternative solver options:\n",
      "    https://scikit-learn.org/stable/modules/linear_model.html#logistic-regression\n",
      "  n_iter_i = _check_optimize_result(\n"
     ]
    },
    {
     "name": "stdout",
     "output_type": "stream",
     "text": [
      "max_features: 5000 n_gram: (1, 2)  solver: lbfgs  tol: 0.3  C: 3  accuracy: 0.702\n"
     ]
    },
    {
     "name": "stderr",
     "output_type": "stream",
     "text": [
      "C:\\Users\\Stefi\\PycharmProjects\\PMLKaggle\\venv\\lib\\site-packages\\sklearn\\linear_model\\_logistic.py:460: ConvergenceWarning: lbfgs failed to converge (status=1):\n",
      "STOP: TOTAL NO. of ITERATIONS REACHED LIMIT.\n",
      "\n",
      "Increase the number of iterations (max_iter) or scale the data as shown in:\n",
      "    https://scikit-learn.org/stable/modules/preprocessing.html\n",
      "Please also refer to the documentation for alternative solver options:\n",
      "    https://scikit-learn.org/stable/modules/linear_model.html#logistic-regression\n",
      "  n_iter_i = _check_optimize_result(\n"
     ]
    },
    {
     "name": "stdout",
     "output_type": "stream",
     "text": [
      "max_features: 5000 n_gram: (1, 2)  solver: lbfgs  tol: 0.3  C: 10  accuracy: 0.6915\n",
      "max_features: 5000 n_gram: (1, 2)  solver: lbfgs  tol: 3  C: 0.1  accuracy: 0.6936666666666667\n",
      "max_features: 5000 n_gram: (1, 2)  solver: lbfgs  tol: 3  C: 0.3  accuracy: 0.7031666666666667\n"
     ]
    },
    {
     "name": "stderr",
     "output_type": "stream",
     "text": [
      "C:\\Users\\Stefi\\PycharmProjects\\PMLKaggle\\venv\\lib\\site-packages\\sklearn\\linear_model\\_logistic.py:460: ConvergenceWarning: lbfgs failed to converge (status=1):\n",
      "STOP: TOTAL NO. of ITERATIONS REACHED LIMIT.\n",
      "\n",
      "Increase the number of iterations (max_iter) or scale the data as shown in:\n",
      "    https://scikit-learn.org/stable/modules/preprocessing.html\n",
      "Please also refer to the documentation for alternative solver options:\n",
      "    https://scikit-learn.org/stable/modules/linear_model.html#logistic-regression\n",
      "  n_iter_i = _check_optimize_result(\n"
     ]
    },
    {
     "name": "stdout",
     "output_type": "stream",
     "text": [
      "max_features: 5000 n_gram: (1, 2)  solver: lbfgs  tol: 3  C: 3  accuracy: 0.702\n"
     ]
    },
    {
     "name": "stderr",
     "output_type": "stream",
     "text": [
      "C:\\Users\\Stefi\\PycharmProjects\\PMLKaggle\\venv\\lib\\site-packages\\sklearn\\linear_model\\_logistic.py:460: ConvergenceWarning: lbfgs failed to converge (status=1):\n",
      "STOP: TOTAL NO. of ITERATIONS REACHED LIMIT.\n",
      "\n",
      "Increase the number of iterations (max_iter) or scale the data as shown in:\n",
      "    https://scikit-learn.org/stable/modules/preprocessing.html\n",
      "Please also refer to the documentation for alternative solver options:\n",
      "    https://scikit-learn.org/stable/modules/linear_model.html#logistic-regression\n",
      "  n_iter_i = _check_optimize_result(\n"
     ]
    },
    {
     "name": "stdout",
     "output_type": "stream",
     "text": [
      "max_features: 5000 n_gram: (1, 2)  solver: lbfgs  tol: 3  C: 10  accuracy: 0.6915\n",
      "max_features: 5000 n_gram: (1, 2)  solver: liblinear  tol: 5  C: 0.1  accuracy: 0.375\n",
      "max_features: 5000 n_gram: (1, 2)  solver: liblinear  tol: 5  C: 0.3  accuracy: 0.375\n",
      "max_features: 5000 n_gram: (1, 2)  solver: liblinear  tol: 5  C: 3  accuracy: 0.375\n",
      "max_features: 5000 n_gram: (1, 2)  solver: liblinear  tol: 5  C: 10  accuracy: 0.375\n",
      "max_features: 5000 n_gram: (1, 2)  solver: liblinear  tol: 0.3  C: 0.1  accuracy: 0.6598333333333334\n",
      "max_features: 5000 n_gram: (1, 2)  solver: liblinear  tol: 0.3  C: 0.3  accuracy: 0.6695\n",
      "max_features: 5000 n_gram: (1, 2)  solver: liblinear  tol: 0.3  C: 3  accuracy: 0.6688333333333333\n",
      "max_features: 5000 n_gram: (1, 2)  solver: liblinear  tol: 0.3  C: 10  accuracy: 0.6675\n",
      "max_features: 5000 n_gram: (1, 2)  solver: liblinear  tol: 3  C: 0.1  accuracy: 0.375\n",
      "max_features: 5000 n_gram: (1, 2)  solver: liblinear  tol: 3  C: 0.3  accuracy: 0.375\n",
      "max_features: 5000 n_gram: (1, 2)  solver: liblinear  tol: 3  C: 3  accuracy: 0.375\n",
      "max_features: 5000 n_gram: (1, 2)  solver: liblinear  tol: 3  C: 10  accuracy: 0.375\n",
      "max_features: 5000 n_gram: (1, 2)  solver: newton-cg  tol: 5  C: 0.1  accuracy: 0.6935\n",
      "max_features: 5000 n_gram: (1, 2)  solver: newton-cg  tol: 5  C: 0.3  accuracy: 0.704\n",
      "max_features: 5000 n_gram: (1, 2)  solver: newton-cg  tol: 5  C: 3  accuracy: 0.7016666666666667\n",
      "max_features: 5000 n_gram: (1, 2)  solver: newton-cg  tol: 5  C: 10  accuracy: 0.6931666666666667\n",
      "max_features: 5000 n_gram: (1, 2)  solver: newton-cg  tol: 0.3  C: 0.1  accuracy: 0.6938333333333333\n",
      "max_features: 5000 n_gram: (1, 2)  solver: newton-cg  tol: 0.3  C: 0.3  accuracy: 0.7038333333333333\n",
      "max_features: 5000 n_gram: (1, 2)  solver: newton-cg  tol: 0.3  C: 3  accuracy: 0.7031666666666667\n",
      "max_features: 5000 n_gram: (1, 2)  solver: newton-cg  tol: 0.3  C: 10  accuracy: 0.6923333333333334\n",
      "max_features: 5000 n_gram: (1, 2)  solver: newton-cg  tol: 3  C: 0.1  accuracy: 0.6935\n",
      "max_features: 5000 n_gram: (1, 2)  solver: newton-cg  tol: 3  C: 0.3  accuracy: 0.704\n",
      "max_features: 5000 n_gram: (1, 2)  solver: newton-cg  tol: 3  C: 3  accuracy: 0.7026666666666667\n",
      "max_features: 5000 n_gram: (1, 2)  solver: newton-cg  tol: 3  C: 10  accuracy: 0.6928333333333333\n",
      "max_features: 5000 n_gram: (1, 2)  solver: newton-cholesky  tol: 5  C: 0.1  accuracy: 0.6913333333333334\n",
      "max_features: 5000 n_gram: (1, 2)  solver: newton-cholesky  tol: 5  C: 0.3  accuracy: 0.7038333333333333\n",
      "max_features: 5000 n_gram: (1, 2)  solver: newton-cholesky  tol: 5  C: 3  accuracy: 0.6998333333333333\n",
      "max_features: 5000 n_gram: (1, 2)  solver: newton-cholesky  tol: 5  C: 10  accuracy: 0.695\n",
      "max_features: 5000 n_gram: (1, 2)  solver: newton-cholesky  tol: 0.3  C: 0.1  accuracy: 0.6913333333333334\n",
      "max_features: 5000 n_gram: (1, 2)  solver: newton-cholesky  tol: 0.3  C: 0.3  accuracy: 0.7038333333333333\n",
      "max_features: 5000 n_gram: (1, 2)  solver: newton-cholesky  tol: 0.3  C: 3  accuracy: 0.6998333333333333\n",
      "max_features: 5000 n_gram: (1, 2)  solver: newton-cholesky  tol: 0.3  C: 10  accuracy: 0.6948333333333333\n",
      "max_features: 5000 n_gram: (1, 2)  solver: newton-cholesky  tol: 3  C: 0.1  accuracy: 0.6913333333333334\n",
      "max_features: 5000 n_gram: (1, 2)  solver: newton-cholesky  tol: 3  C: 0.3  accuracy: 0.7038333333333333\n",
      "max_features: 5000 n_gram: (1, 2)  solver: newton-cholesky  tol: 3  C: 3  accuracy: 0.6998333333333333\n",
      "max_features: 5000 n_gram: (1, 2)  solver: newton-cholesky  tol: 3  C: 10  accuracy: 0.695\n",
      "max_features: 5000 n_gram: (1, 2)  solver: sag  tol: 5  C: 0.1  accuracy: 0.4725\n",
      "max_features: 5000 n_gram: (1, 2)  solver: sag  tol: 5  C: 0.3  accuracy: 0.546\n",
      "max_features: 5000 n_gram: (1, 2)  solver: sag  tol: 5  C: 3  accuracy: 0.6041666666666666\n",
      "max_features: 5000 n_gram: (1, 2)  solver: sag  tol: 5  C: 10  accuracy: 0.6546666666666666\n",
      "max_features: 5000 n_gram: (1, 2)  solver: sag  tol: 0.3  C: 0.1  accuracy: 0.6725\n",
      "max_features: 5000 n_gram: (1, 2)  solver: sag  tol: 0.3  C: 0.3  accuracy: 0.6171666666666666\n",
      "max_features: 5000 n_gram: (1, 2)  solver: sag  tol: 0.3  C: 3  accuracy: 0.6705\n",
      "max_features: 5000 n_gram: (1, 2)  solver: sag  tol: 0.3  C: 10  accuracy: 0.6498333333333334\n",
      "max_features: 5000 n_gram: (1, 2)  solver: sag  tol: 3  C: 0.1  accuracy: 0.3965\n",
      "max_features: 5000 n_gram: (1, 2)  solver: sag  tol: 3  C: 0.3  accuracy: 0.6755\n",
      "max_features: 5000 n_gram: (1, 2)  solver: sag  tol: 3  C: 3  accuracy: 0.6111666666666666\n",
      "max_features: 5000 n_gram: (1, 2)  solver: sag  tol: 3  C: 10  accuracy: 0.6503333333333333\n",
      "max_features: 5000 n_gram: (1, 2)  solver: saga  tol: 5  C: 0.1  accuracy: 0.6771666666666667\n",
      "max_features: 5000 n_gram: (1, 2)  solver: saga  tol: 5  C: 0.3  accuracy: 0.6858333333333333\n",
      "max_features: 5000 n_gram: (1, 2)  solver: saga  tol: 5  C: 3  accuracy: 0.6693333333333333\n",
      "max_features: 5000 n_gram: (1, 2)  solver: saga  tol: 5  C: 10  accuracy: 0.6776666666666666\n",
      "max_features: 5000 n_gram: (1, 2)  solver: saga  tol: 0.3  C: 0.1  accuracy: 0.6841666666666667\n",
      "max_features: 5000 n_gram: (1, 2)  solver: saga  tol: 0.3  C: 0.3  accuracy: 0.6965\n",
      "max_features: 5000 n_gram: (1, 2)  solver: saga  tol: 0.3  C: 3  accuracy: 0.6981666666666667\n",
      "max_features: 5000 n_gram: (1, 2)  solver: saga  tol: 0.3  C: 10  accuracy: 0.6836666666666666\n",
      "max_features: 5000 n_gram: (1, 2)  solver: saga  tol: 3  C: 0.1  accuracy: 0.6801666666666667\n",
      "max_features: 5000 n_gram: (1, 2)  solver: saga  tol: 3  C: 0.3  accuracy: 0.677\n",
      "max_features: 5000 n_gram: (1, 2)  solver: saga  tol: 3  C: 3  accuracy: 0.6853333333333333\n",
      "max_features: 5000 n_gram: (1, 2)  solver: saga  tol: 3  C: 10  accuracy: 0.652\n",
      "max_features: 5000 n_gram: (1, 3)  solver: lbfgs  tol: 5  C: 0.1  accuracy: 0.693\n",
      "max_features: 5000 n_gram: (1, 3)  solver: lbfgs  tol: 5  C: 0.3  accuracy: 0.704\n"
     ]
    },
    {
     "name": "stderr",
     "output_type": "stream",
     "text": [
      "C:\\Users\\Stefi\\PycharmProjects\\PMLKaggle\\venv\\lib\\site-packages\\sklearn\\linear_model\\_logistic.py:460: ConvergenceWarning: lbfgs failed to converge (status=1):\n",
      "STOP: TOTAL NO. of ITERATIONS REACHED LIMIT.\n",
      "\n",
      "Increase the number of iterations (max_iter) or scale the data as shown in:\n",
      "    https://scikit-learn.org/stable/modules/preprocessing.html\n",
      "Please also refer to the documentation for alternative solver options:\n",
      "    https://scikit-learn.org/stable/modules/linear_model.html#logistic-regression\n",
      "  n_iter_i = _check_optimize_result(\n"
     ]
    },
    {
     "name": "stdout",
     "output_type": "stream",
     "text": [
      "max_features: 5000 n_gram: (1, 3)  solver: lbfgs  tol: 5  C: 3  accuracy: 0.7006666666666667\n"
     ]
    },
    {
     "name": "stderr",
     "output_type": "stream",
     "text": [
      "C:\\Users\\Stefi\\PycharmProjects\\PMLKaggle\\venv\\lib\\site-packages\\sklearn\\linear_model\\_logistic.py:460: ConvergenceWarning: lbfgs failed to converge (status=1):\n",
      "STOP: TOTAL NO. of ITERATIONS REACHED LIMIT.\n",
      "\n",
      "Increase the number of iterations (max_iter) or scale the data as shown in:\n",
      "    https://scikit-learn.org/stable/modules/preprocessing.html\n",
      "Please also refer to the documentation for alternative solver options:\n",
      "    https://scikit-learn.org/stable/modules/linear_model.html#logistic-regression\n",
      "  n_iter_i = _check_optimize_result(\n"
     ]
    },
    {
     "name": "stdout",
     "output_type": "stream",
     "text": [
      "max_features: 5000 n_gram: (1, 3)  solver: lbfgs  tol: 5  C: 10  accuracy: 0.6916666666666667\n",
      "max_features: 5000 n_gram: (1, 3)  solver: lbfgs  tol: 0.3  C: 0.1  accuracy: 0.6935\n",
      "max_features: 5000 n_gram: (1, 3)  solver: lbfgs  tol: 0.3  C: 0.3  accuracy: 0.7035\n"
     ]
    },
    {
     "name": "stderr",
     "output_type": "stream",
     "text": [
      "C:\\Users\\Stefi\\PycharmProjects\\PMLKaggle\\venv\\lib\\site-packages\\sklearn\\linear_model\\_logistic.py:460: ConvergenceWarning: lbfgs failed to converge (status=1):\n",
      "STOP: TOTAL NO. of ITERATIONS REACHED LIMIT.\n",
      "\n",
      "Increase the number of iterations (max_iter) or scale the data as shown in:\n",
      "    https://scikit-learn.org/stable/modules/preprocessing.html\n",
      "Please also refer to the documentation for alternative solver options:\n",
      "    https://scikit-learn.org/stable/modules/linear_model.html#logistic-regression\n",
      "  n_iter_i = _check_optimize_result(\n"
     ]
    },
    {
     "name": "stdout",
     "output_type": "stream",
     "text": [
      "max_features: 5000 n_gram: (1, 3)  solver: lbfgs  tol: 0.3  C: 3  accuracy: 0.7006666666666667\n"
     ]
    },
    {
     "name": "stderr",
     "output_type": "stream",
     "text": [
      "C:\\Users\\Stefi\\PycharmProjects\\PMLKaggle\\venv\\lib\\site-packages\\sklearn\\linear_model\\_logistic.py:460: ConvergenceWarning: lbfgs failed to converge (status=1):\n",
      "STOP: TOTAL NO. of ITERATIONS REACHED LIMIT.\n",
      "\n",
      "Increase the number of iterations (max_iter) or scale the data as shown in:\n",
      "    https://scikit-learn.org/stable/modules/preprocessing.html\n",
      "Please also refer to the documentation for alternative solver options:\n",
      "    https://scikit-learn.org/stable/modules/linear_model.html#logistic-regression\n",
      "  n_iter_i = _check_optimize_result(\n"
     ]
    },
    {
     "name": "stdout",
     "output_type": "stream",
     "text": [
      "max_features: 5000 n_gram: (1, 3)  solver: lbfgs  tol: 0.3  C: 10  accuracy: 0.6916666666666667\n",
      "max_features: 5000 n_gram: (1, 3)  solver: lbfgs  tol: 3  C: 0.1  accuracy: 0.6933333333333334\n",
      "max_features: 5000 n_gram: (1, 3)  solver: lbfgs  tol: 3  C: 0.3  accuracy: 0.7038333333333333\n"
     ]
    },
    {
     "name": "stderr",
     "output_type": "stream",
     "text": [
      "C:\\Users\\Stefi\\PycharmProjects\\PMLKaggle\\venv\\lib\\site-packages\\sklearn\\linear_model\\_logistic.py:460: ConvergenceWarning: lbfgs failed to converge (status=1):\n",
      "STOP: TOTAL NO. of ITERATIONS REACHED LIMIT.\n",
      "\n",
      "Increase the number of iterations (max_iter) or scale the data as shown in:\n",
      "    https://scikit-learn.org/stable/modules/preprocessing.html\n",
      "Please also refer to the documentation for alternative solver options:\n",
      "    https://scikit-learn.org/stable/modules/linear_model.html#logistic-regression\n",
      "  n_iter_i = _check_optimize_result(\n"
     ]
    },
    {
     "name": "stdout",
     "output_type": "stream",
     "text": [
      "max_features: 5000 n_gram: (1, 3)  solver: lbfgs  tol: 3  C: 3  accuracy: 0.7006666666666667\n"
     ]
    },
    {
     "name": "stderr",
     "output_type": "stream",
     "text": [
      "C:\\Users\\Stefi\\PycharmProjects\\PMLKaggle\\venv\\lib\\site-packages\\sklearn\\linear_model\\_logistic.py:460: ConvergenceWarning: lbfgs failed to converge (status=1):\n",
      "STOP: TOTAL NO. of ITERATIONS REACHED LIMIT.\n",
      "\n",
      "Increase the number of iterations (max_iter) or scale the data as shown in:\n",
      "    https://scikit-learn.org/stable/modules/preprocessing.html\n",
      "Please also refer to the documentation for alternative solver options:\n",
      "    https://scikit-learn.org/stable/modules/linear_model.html#logistic-regression\n",
      "  n_iter_i = _check_optimize_result(\n"
     ]
    },
    {
     "name": "stdout",
     "output_type": "stream",
     "text": [
      "max_features: 5000 n_gram: (1, 3)  solver: lbfgs  tol: 3  C: 10  accuracy: 0.6916666666666667\n",
      "max_features: 5000 n_gram: (1, 3)  solver: liblinear  tol: 5  C: 0.1  accuracy: 0.375\n",
      "max_features: 5000 n_gram: (1, 3)  solver: liblinear  tol: 5  C: 0.3  accuracy: 0.375\n",
      "max_features: 5000 n_gram: (1, 3)  solver: liblinear  tol: 5  C: 3  accuracy: 0.375\n",
      "max_features: 5000 n_gram: (1, 3)  solver: liblinear  tol: 5  C: 10  accuracy: 0.375\n",
      "max_features: 5000 n_gram: (1, 3)  solver: liblinear  tol: 0.3  C: 0.1  accuracy: 0.66\n",
      "max_features: 5000 n_gram: (1, 3)  solver: liblinear  tol: 0.3  C: 0.3  accuracy: 0.6703333333333333\n",
      "max_features: 5000 n_gram: (1, 3)  solver: liblinear  tol: 0.3  C: 3  accuracy: 0.669\n",
      "max_features: 5000 n_gram: (1, 3)  solver: liblinear  tol: 0.3  C: 10  accuracy: 0.6666666666666666\n",
      "max_features: 5000 n_gram: (1, 3)  solver: liblinear  tol: 3  C: 0.1  accuracy: 0.375\n",
      "max_features: 5000 n_gram: (1, 3)  solver: liblinear  tol: 3  C: 0.3  accuracy: 0.375\n",
      "max_features: 5000 n_gram: (1, 3)  solver: liblinear  tol: 3  C: 3  accuracy: 0.375\n",
      "max_features: 5000 n_gram: (1, 3)  solver: liblinear  tol: 3  C: 10  accuracy: 0.375\n",
      "max_features: 5000 n_gram: (1, 3)  solver: newton-cg  tol: 5  C: 0.1  accuracy: 0.6935\n",
      "max_features: 5000 n_gram: (1, 3)  solver: newton-cg  tol: 5  C: 0.3  accuracy: 0.7028333333333333\n",
      "max_features: 5000 n_gram: (1, 3)  solver: newton-cg  tol: 5  C: 3  accuracy: 0.7013333333333334\n",
      "max_features: 5000 n_gram: (1, 3)  solver: newton-cg  tol: 5  C: 10  accuracy: 0.6888333333333333\n",
      "max_features: 5000 n_gram: (1, 3)  solver: newton-cg  tol: 0.3  C: 0.1  accuracy: 0.6935\n",
      "max_features: 5000 n_gram: (1, 3)  solver: newton-cg  tol: 0.3  C: 0.3  accuracy: 0.7033333333333334\n",
      "max_features: 5000 n_gram: (1, 3)  solver: newton-cg  tol: 0.3  C: 3  accuracy: 0.7016666666666667\n",
      "max_features: 5000 n_gram: (1, 3)  solver: newton-cg  tol: 0.3  C: 10  accuracy: 0.6883333333333334\n",
      "max_features: 5000 n_gram: (1, 3)  solver: newton-cg  tol: 3  C: 0.1  accuracy: 0.6935\n",
      "max_features: 5000 n_gram: (1, 3)  solver: newton-cg  tol: 3  C: 0.3  accuracy: 0.7028333333333333\n",
      "max_features: 5000 n_gram: (1, 3)  solver: newton-cg  tol: 3  C: 3  accuracy: 0.7015\n",
      "max_features: 5000 n_gram: (1, 3)  solver: newton-cg  tol: 3  C: 10  accuracy: 0.6888333333333333\n",
      "max_features: 5000 n_gram: (1, 3)  solver: newton-cholesky  tol: 5  C: 0.1  accuracy: 0.691\n",
      "max_features: 5000 n_gram: (1, 3)  solver: newton-cholesky  tol: 5  C: 0.3  accuracy: 0.7031666666666667\n",
      "max_features: 5000 n_gram: (1, 3)  solver: newton-cholesky  tol: 5  C: 3  accuracy: 0.6998333333333333\n",
      "max_features: 5000 n_gram: (1, 3)  solver: newton-cholesky  tol: 5  C: 10  accuracy: 0.6945\n",
      "max_features: 5000 n_gram: (1, 3)  solver: newton-cholesky  tol: 0.3  C: 0.1  accuracy: 0.691\n",
      "max_features: 5000 n_gram: (1, 3)  solver: newton-cholesky  tol: 0.3  C: 0.3  accuracy: 0.7031666666666667\n",
      "max_features: 5000 n_gram: (1, 3)  solver: newton-cholesky  tol: 0.3  C: 3  accuracy: 0.6998333333333333\n",
      "max_features: 5000 n_gram: (1, 3)  solver: newton-cholesky  tol: 0.3  C: 10  accuracy: 0.6931666666666667\n",
      "max_features: 5000 n_gram: (1, 3)  solver: newton-cholesky  tol: 3  C: 0.1  accuracy: 0.691\n",
      "max_features: 5000 n_gram: (1, 3)  solver: newton-cholesky  tol: 3  C: 0.3  accuracy: 0.7031666666666667\n",
      "max_features: 5000 n_gram: (1, 3)  solver: newton-cholesky  tol: 3  C: 3  accuracy: 0.6998333333333333\n",
      "max_features: 5000 n_gram: (1, 3)  solver: newton-cholesky  tol: 3  C: 10  accuracy: 0.6945\n",
      "max_features: 5000 n_gram: (1, 3)  solver: sag  tol: 5  C: 0.1  accuracy: 0.6621666666666667\n",
      "max_features: 5000 n_gram: (1, 3)  solver: sag  tol: 5  C: 0.3  accuracy: 0.6426666666666667\n",
      "max_features: 5000 n_gram: (1, 3)  solver: sag  tol: 5  C: 3  accuracy: 0.5621666666666667\n",
      "max_features: 5000 n_gram: (1, 3)  solver: sag  tol: 5  C: 10  accuracy: 0.6471666666666667\n",
      "max_features: 5000 n_gram: (1, 3)  solver: sag  tol: 0.3  C: 0.1  accuracy: 0.6663333333333333\n",
      "max_features: 5000 n_gram: (1, 3)  solver: sag  tol: 0.3  C: 0.3  accuracy: 0.6313333333333333\n",
      "max_features: 5000 n_gram: (1, 3)  solver: sag  tol: 0.3  C: 3  accuracy: 0.6665\n",
      "max_features: 5000 n_gram: (1, 3)  solver: sag  tol: 0.3  C: 10  accuracy: 0.6755\n",
      "max_features: 5000 n_gram: (1, 3)  solver: sag  tol: 3  C: 0.1  accuracy: 0.5411666666666667\n",
      "max_features: 5000 n_gram: (1, 3)  solver: sag  tol: 3  C: 0.3  accuracy: 0.6833333333333333\n",
      "max_features: 5000 n_gram: (1, 3)  solver: sag  tol: 3  C: 3  accuracy: 0.5643333333333334\n",
      "max_features: 5000 n_gram: (1, 3)  solver: sag  tol: 3  C: 10  accuracy: 0.6371666666666667\n",
      "max_features: 5000 n_gram: (1, 3)  solver: saga  tol: 5  C: 0.1  accuracy: 0.6738333333333333\n",
      "max_features: 5000 n_gram: (1, 3)  solver: saga  tol: 5  C: 0.3  accuracy: 0.6995\n",
      "max_features: 5000 n_gram: (1, 3)  solver: saga  tol: 5  C: 3  accuracy: 0.6835\n",
      "max_features: 5000 n_gram: (1, 3)  solver: saga  tol: 5  C: 10  accuracy: 0.6693333333333333\n",
      "max_features: 5000 n_gram: (1, 3)  solver: saga  tol: 0.3  C: 0.1  accuracy: 0.69\n",
      "max_features: 5000 n_gram: (1, 3)  solver: saga  tol: 0.3  C: 0.3  accuracy: 0.6843333333333333\n",
      "max_features: 5000 n_gram: (1, 3)  solver: saga  tol: 0.3  C: 3  accuracy: 0.6955\n",
      "max_features: 5000 n_gram: (1, 3)  solver: saga  tol: 0.3  C: 10  accuracy: 0.6593333333333333\n",
      "max_features: 5000 n_gram: (1, 3)  solver: saga  tol: 3  C: 0.1  accuracy: 0.6841666666666667\n",
      "max_features: 5000 n_gram: (1, 3)  solver: saga  tol: 3  C: 0.3  accuracy: 0.6555\n",
      "max_features: 5000 n_gram: (1, 3)  solver: saga  tol: 3  C: 3  accuracy: 0.638\n",
      "max_features: 5000 n_gram: (1, 3)  solver: saga  tol: 3  C: 10  accuracy: 0.673\n",
      "0.7045\n",
      "{'max_features': 3000, 'solver': 'lbfgs', 'tol': 3, 'C': 0.3, 'n_gram': (1, 3)}\n"
     ]
    }
   ],
   "source": [
    "#hiperparametrization\n",
    "i = 0\n",
    "best_accuracy = 0\n",
    "chosen_parameters = {}\n",
    "data = []\n",
    "for max_features in [3000, 5000]:\n",
    "  for n_gram in [(1,1),(1,2),(1,3)]:\n",
    "\n",
    "    #initiate the TfidfVectorizer\n",
    "    tfidf = TfidfVectorizer(max_features=max_features, ngram_range = n_gram)\n",
    "\n",
    "    #convert the training and validation data to tf-idf indexes\n",
    "    X_train_tfidf = tfidf.fit_transform(preprocessed_train_data[\"text\"]).toarray()\n",
    "    X_test_tfidf = tfidf.transform(preprocessed_test_data[\"text\"]).toarray()\n",
    "\n",
    "    for solver in ['lbfgs', 'liblinear', 'newton-cg', 'newton-cholesky', 'sag', 'saga']:\n",
    "      for tol in [ 5, 0.3, 3]:\n",
    "        for C in [ 0.1, 0.3, 3, 10]:\n",
    "\n",
    "          model = LogisticRegression(solver=solver, tol=tol, C=C)\n",
    "\n",
    "          model.fit(X_train_tfidf, train_labels['label'])\n",
    "          predictions = model.predict(X_test_tfidf)\n",
    "\n",
    "          score = accuracy_score(test_labels['label'],predictions)\n",
    "\n",
    "          print('max_features: {} n_gram: {}  solver: {}  tol: {}  C: {}  accuracy: {}'.format(max_features,n_gram, solver, tol, C, score))\n",
    "\n",
    "          if score > best_accuracy:\n",
    "            best_accuracy = score\n",
    "            chosen_parameters[\"max_features\"] = max_features\n",
    "            chosen_parameters[\"solver\"] = solver\n",
    "            chosen_parameters[\"tol\"] = tol\n",
    "            chosen_parameters[\"C\"] = C\n",
    "            chosen_parameters[\"n_gram\"] = n_gram\n",
    "          data.append({\n",
    "            \"max_features\": max_features,\n",
    "            \"solver\": solver,\n",
    "            \"tol\": tol,\n",
    "            \"C\": C,\n",
    "            \"n_gram\": n_gram,\n",
    "            \"accuracy\": score\n",
    "        })          \n",
    "\n",
    "print(best_accuracy)\n",
    "print(chosen_parameters)\n",
    "# print(data) "
   ]
  },
  {
   "cell_type": "code",
   "execution_count": 9,
   "id": "54f2b62890505da3",
   "metadata": {
    "ExecuteTime": {
     "end_time": "2023-12-27T23:54:18.124368700Z",
     "start_time": "2023-12-27T23:54:08.242072900Z"
    }
   },
   "outputs": [],
   "source": [
    "#model = make_pipeline(TfidfVectorizer(max_features=chosen_parameters['max_features'], ngram_range= chosen_parameters['n_gram']), LogisticRegression(solver=chosen_parameters['solver'], tol=chosen_parameters['tol'], C=chosen_parameters['C']))\n",
    "\n",
    "#model.fit(preprocessed_train_data['text'], train_labels['label'])  \n",
    "\n",
    "#predictions = model.predict(preprocessed_test_data['text'])\n",
    "tfidf = TfidfVectorizer(max_features=3000, ngram_range = (1, 3))\n",
    "\n",
    "X_train_tfidf = tfidf.fit_transform(preprocessed_train_data[\"text\"]).toarray()\n",
    "X_test_tfidf = tfidf.transform(preprocessed_test_data[\"text\"]).toarray()\n",
    "model = LogisticRegression(solver=\"lbfgs\", tol=3, C=0.3)\n",
    "\n",
    "model.fit(X_train_tfidf, train_labels['label'])\n",
    "predictions = model.predict(X_test_tfidf)"
   ]
  },
  {
   "cell_type": "code",
   "execution_count": 10,
   "id": "b91a7ac80583f36e",
   "metadata": {
    "ExecuteTime": {
     "end_time": "2023-12-27T23:54:23.226865700Z",
     "start_time": "2023-12-27T23:54:23.016863300Z"
    }
   },
   "outputs": [
    {
     "name": "stdout",
     "output_type": "stream",
     "text": [
      "Accuracy: 0.7045\n",
      "              precision    recall  f1-score   support\n",
      "\n",
      "    negative       0.70      0.82      0.75      2250\n",
      "     neutral       0.54      0.34      0.42      1500\n",
      "    positive       0.77      0.83      0.80      2250\n",
      "\n",
      "    accuracy                           0.70      6000\n",
      "   macro avg       0.67      0.66      0.66      6000\n",
      "weighted avg       0.69      0.70      0.69      6000\n",
      "\n"
     ]
    }
   ],
   "source": [
    "accuracy = accuracy_score(test_labels['label'], predictions)\n",
    "from sklearn.metrics import classification_report\n",
    "\n",
    "print(\"Accuracy:\", accuracy)\n",
    "print(classification_report(test_labels['label'], predictions))"
   ]
  },
  {
   "cell_type": "code",
   "execution_count": 11,
   "id": "82aa3ae02a39f443",
   "metadata": {
    "ExecuteTime": {
     "end_time": "2023-12-27T23:54:30.418670900Z",
     "start_time": "2023-12-27T23:54:29.508669800Z"
    }
   },
   "outputs": [
    {
     "data": {
      "image/png": "[encoded data removed]",
      "text/plain": [
       "<Figure size 800x600 with 2 Axes>"
      ]
     },
     "metadata": {},
     "output_type": "display_data"
    }
   ],
   "source": [
    "# !pip install seaborn\n",
    "import seaborn as sns\n",
    "from sklearn.metrics import confusion_matrix\n",
    "\n",
    "conf_matrix = confusion_matrix(test_labels['label'], predictions)\n",
    "\n",
    "plt.figure(figsize=(8, 6))\n",
    "sns.heatmap(conf_matrix, annot=True, fmt='d', cmap='Purples', xticklabels = ['negative', 'neutral', 'positive'], yticklabels = ['negative', 'neutral', 'positive'])\n",
    "plt.xlabel('Predicted Labels')\n",
    "plt.ylabel('True Labels')\n",
    "plt.title('Confusion Matrix')\n",
    "plt.show()"
   ]
  },
  {
   "cell_type": "code",
   "execution_count": 21,
   "id": "468aae207c97ad4a",
   "metadata": {
    "ExecuteTime": {
     "end_time": "2023-12-27T23:52:24.057582700Z",
     "start_time": "2023-12-27T23:52:06.284323300Z"
    }
   },
   "outputs": [],
   "source": [
    "doc = docx.Document() \n",
    "  \n",
    "doc.add_heading('Hiperparametrization', 0) \n",
    "  \n",
    "# Table data in a form of list \n",
    "# data = ( \n",
    "#     (1, 'Geek 1'), \n",
    "#     (2, 'Geek 2'), \n",
    "#     (3, 'Geek 3') \n",
    "# ) \n",
    "  \n",
    "# Creating a table object \n",
    "table = doc.add_table(rows=1, cols=6) \n",
    "  \n",
    "# Adding heading in the 1st row of the table \n",
    "row = table.rows[0].cells \n",
    "row[0].text = 'max_features'\n",
    "row[1].text = 'n_gram'\n",
    "row[2].text = 'solver'\n",
    "row[3].text = 'tol'\n",
    "row[4].text = 'C'\n",
    "row[5].text = 'accuracy'\n",
    "  \n",
    "# Adding data from the list to the table \n",
    "for elem in data: \n",
    "    # Adding a row and then adding data in it. \n",
    "    row = table.add_row().cells \n",
    "    # Converting id to string as table can only take string input \n",
    "    row[0].text = str(elem['max_features']) \n",
    "    row[1].text = str(elem['n_gram'])\n",
    "    row[2].text = str(elem['solver'])\n",
    "    row[3].text = str(elem['tol'])\n",
    "    row[4].text = str(elem['C'])\n",
    "    row[5].text = str(round(elem['accuracy'],4))\n",
    "    # \n",
    "# Now save the document to a location \n",
    "doc.save('gfg.docx') "
   ]
  },
  {
   "cell_type": "code",
   "execution_count": 6,
   "id": "b062fea098484fa0",
   "metadata": {},
   "outputs": [
    {
     "data": {
      "image/png": "[encoded data removed]",
      "text/plain": [
       "<Figure size 1500x400 with 1 Axes>"
      ]
     },
     "metadata": {},
     "output_type": "display_data"
    }
   ],
   "source": [
    "#plot the acc by C/solver\n",
    "values = [0.6958, 0.7045, 0.7032, 0.7010]\n",
    "C = [0.1, 0.3, 3, 10]\n",
    "plt.figure(figsize = (15, 4))\n",
    "plt.plot(C, values, marker = 'o', linestyle = '-', color = 'orange')\n",
    "plt.xlabel('C')\n",
    "plt.ylabel('Accuracy')\n",
    "plt.title('Accuracy by C')\n",
    "plt.xticks(C)\n",
    "plt.show()"
   ]
  },
  {
   "cell_type": "code",
   "execution_count": 7,
   "id": "96c56ef7",
   "metadata": {},
   "outputs": [
    {
     "data": {
      "image/png": "[encoded data removed]",
      "text/plain": [
       "<Figure size 1300x400 with 1 Axes>"
      ]
     },
     "metadata": {},
     "output_type": "display_data"
    }
   ],
   "source": [
    "values = [0.7045, 0.6703, 0.7040, 0.7038, 0.6925, 0.6945]\n",
    "solver = [\"lbfgs\", \"liblinear\", \"newton-cg\", \"newton-cholesky\", \"sag\", \"saga\"]\n",
    "plt.figure(figsize = (13, 4))\n",
    "plt.plot(solver, values, marker = 'o', linestyle = '-', color = 'pink')\n",
    "plt.xlabel('Solver')\n",
    "plt.ylabel('Accuracy')\n",
    "plt.title('Accuracy by solver')\n",
    "plt.show()"
   ]
  },
  {
   "cell_type": "code",
   "execution_count": null,
   "id": "f2fec77f",
   "metadata": {},
   "outputs": [],
   "source": []
  }
 ],
 "metadata": {
  "kernelspec": {
   "display_name": "Python 3 (ipykernel)",
   "language": "python",
   "name": "python3"
  },
  "language_info": {
   "codemirror_mode": {
    "name": "ipython",
    "version": 3
   },
   "file_extension": ".py",
   "mimetype": "text/x-python",
   "name": "python",
   "nbconvert_exporter": "python",
   "pygments_lexer": "ipython3",
   "version": "3.11.5"
  }
 },
 "nbformat": 4,
 "nbformat_minor": 5
}
