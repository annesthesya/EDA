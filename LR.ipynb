{
 "cells": [
  {
   "cell_type": "code",
   "execution_count": 140,
   "id": "db8a1675",
   "metadata": {
    "ExecuteTime": {
     "end_time": "2023-12-03T14:12:58.333354600Z",
     "start_time": "2023-12-03T14:12:57.862760400Z"
    }
   },
   "outputs": [],
   "source": [
    "# !pip install scikit-learn\n",
    "# !pip install pandas\n",
    "# !pip install emoji\n",
    "# !pip install num2words\n",
    "# !pip install nltk\n",
    "# !pip install matplotlib\n",
    "# !pip install wordcloud"
   ]
  },
  {
   "cell_type": "code",
   "execution_count": 9,
   "id": "9b2289f8",
   "metadata": {
    "ExecuteTime": {
     "end_time": "2023-12-03T15:02:14.610825300Z",
     "start_time": "2023-12-03T15:02:14.345958700Z"
    }
   },
   "outputs": [
    {
     "name": "stderr",
     "output_type": "stream",
     "text": [
      "[nltk_data] Downloading package stopwords to\n",
      "[nltk_data]     C:\\Users\\Stefi\\AppData\\Roaming\\nltk_data...\n",
      "[nltk_data]   Package stopwords is already up-to-date!\n",
      "[nltk_data] Downloading package wordnet to\n",
      "[nltk_data]     C:\\Users\\Stefi\\AppData\\Roaming\\nltk_data...\n",
      "[nltk_data]   Package wordnet is already up-to-date!\n"
     ]
    }
   ],
   "source": [
    "import json\n",
    "import pandas as pd\n",
    "from sklearn.model_selection import train_test_split\n",
    "import re\n",
    "import emoji\n",
    "from num2words import num2words\n",
    "import nltk\n",
    "from nltk.corpus import stopwords\n",
    "from nltk.stem import WordNetLemmatizer\n",
    "from nltk.stem import PorterStemmer\n",
    "from sklearn.feature_extraction.text import TfidfVectorizer\n",
    "from sklearn.linear_model import LogisticRegression\n",
    "from sklearn.pipeline import make_pipeline\n",
    "from sklearn.metrics import accuracy_score, classification_report\n",
    "nltk.download('stopwords')\n",
    "nltk.download('wordnet')\n",
    "import numpy as np\n",
    "import matplotlib.pyplot as plt\n",
    "from collections import defaultdict\n",
    "from collections import Counter\n",
    "from matplotlib import colors\n",
    "from wordcloud import WordCloud"
   ]
  },
  {
   "cell_type": "code",
   "execution_count": 2,
   "id": "8d17c3a4",
   "metadata": {
    "ExecuteTime": {
     "end_time": "2023-12-03T15:00:17.228762700Z",
     "start_time": "2023-12-03T15:00:16.322137100Z"
    }
   },
   "outputs": [
    {
     "name": "stderr",
     "output_type": "stream",
     "text": [
      "[nltk_data] Downloading package stopwords to\n",
      "[nltk_data]     C:\\Users\\Stefi\\AppData\\Roaming\\nltk_data...\n",
      "[nltk_data]   Package stopwords is already up-to-date!\n",
      "[nltk_data] Downloading package wordnet to\n",
      "[nltk_data]     C:\\Users\\Stefi\\AppData\\Roaming\\nltk_data...\n",
      "[nltk_data]   Package wordnet is already up-to-date!\n"
     ]
    }
   ],
   "source": [
    "#!pip install ipynb \n",
    "from ipynb.fs.full.preprocessor_class import Preprocessor"
   ]
  },
  {
   "cell_type": "code",
   "execution_count": 3,
   "id": "497679b4",
   "metadata": {
    "ExecuteTime": {
     "end_time": "2023-12-03T15:00:20.432087900Z",
     "start_time": "2023-12-03T15:00:18.794747Z"
    }
   },
   "outputs": [
    {
     "data": {
      "text/plain": "(45000, 1)"
     },
     "execution_count": 3,
     "metadata": {},
     "output_type": "execute_result"
    }
   ],
   "source": [
    "train_data = pd.read_csv('data/shuffled_train_data.csv',index_col=None)\n",
    "train_labels = pd.read_csv('data/shuffled_train_labels.csv',index_col=None)\n",
    "\n",
    "test_data = pd.read_csv('data/test_data.csv',index_col=None)\n",
    "test_labels = pd.read_csv('data/test_labels.csv',index_col=None)\n",
    "\n",
    "train_data_plot = pd.read_csv('data/train_data_plot.csv',index_col=None)\n",
    "test_data_plot = pd.read_csv('data/test_data_plot.csv',index_col=None)\n",
    "\n",
    "train_data.shape"
   ]
  },
  {
   "cell_type": "code",
   "execution_count": 4,
   "id": "8b40ae40",
   "metadata": {
    "ExecuteTime": {
     "end_time": "2023-12-03T15:00:35.613740600Z",
     "start_time": "2023-12-03T15:00:20.639331900Z"
    }
   },
   "outputs": [],
   "source": [
    "preprocessor = Preprocessor(set(stopwords.words('english')), WordNetLemmatizer(), PorterStemmer(), True, True, True, True, True, False, True, True, True, False)\n",
    "\n",
    "preprocessed_train_data = pd.DataFrame(columns=['text'])\n",
    "preprocessed_test_data = pd.DataFrame(columns=['text'])\n",
    "\n",
    "preprocessed_train_data['text'] = train_data.apply(lambda row: preprocessor.preprocess(row.iloc[0]), axis = 1)\n",
    "preprocessed_test_data['text'] = test_data.apply(lambda row: preprocessor.preprocess(row.iloc[0]), axis = 1)\n"
   ]
  },
  {
   "cell_type": "code",
   "execution_count": 5,
   "outputs": [
    {
     "data": {
      "text/plain": "                                                text\n0  [levi, changed, fit, without, telling, anyone,...\n1                        [fitted, small, niece, fix]\n2  [best, quality, tweezer, able, grab, smallest,...\n3  [finally, received, reply, invicta, customer, ...\n4  [perfect, fit, easy, care, dress, smashing, fi...\n5                                  [cute, way, snug]\n6  [buy, wear, underwear, pant, fall, designed, w...\n7  [ball, fall, easly, price, many, get, bad, che...\n8  [fabric, expected, looking, typical, sport, su...\n9  [soscene, great, service, plug, nice, exactly,...",
      "text/html": "<div>\n<style scoped>\n    .dataframe tbody tr th:only-of-type {\n        vertical-align: middle;\n    }\n\n    .dataframe tbody tr th {\n        vertical-align: top;\n    }\n\n    .dataframe thead th {\n        text-align: right;\n    }\n</style>\n<table border=\"1\" class=\"dataframe\">\n  <thead>\n    <tr style=\"text-align: right;\">\n      <th></th>\n      <th>text</th>\n    </tr>\n  </thead>\n  <tbody>\n    <tr>\n      <th>0</th>\n      <td>[levi, changed, fit, without, telling, anyone,...</td>\n    </tr>\n    <tr>\n      <th>1</th>\n      <td>[fitted, small, niece, fix]</td>\n    </tr>\n    <tr>\n      <th>2</th>\n      <td>[best, quality, tweezer, able, grab, smallest,...</td>\n    </tr>\n    <tr>\n      <th>3</th>\n      <td>[finally, received, reply, invicta, customer, ...</td>\n    </tr>\n    <tr>\n      <th>4</th>\n      <td>[perfect, fit, easy, care, dress, smashing, fi...</td>\n    </tr>\n    <tr>\n      <th>5</th>\n      <td>[cute, way, snug]</td>\n    </tr>\n    <tr>\n      <th>6</th>\n      <td>[buy, wear, underwear, pant, fall, designed, w...</td>\n    </tr>\n    <tr>\n      <th>7</th>\n      <td>[ball, fall, easly, price, many, get, bad, che...</td>\n    </tr>\n    <tr>\n      <th>8</th>\n      <td>[fabric, expected, looking, typical, sport, su...</td>\n    </tr>\n    <tr>\n      <th>9</th>\n      <td>[soscene, great, service, plug, nice, exactly,...</td>\n    </tr>\n  </tbody>\n</table>\n</div>"
     },
     "execution_count": 5,
     "metadata": {},
     "output_type": "execute_result"
    }
   ],
   "source": [
    "preprocessed_train_data.head(10)"
   ],
   "metadata": {
    "collapsed": false,
    "ExecuteTime": {
     "end_time": "2023-12-03T15:00:57.072210Z",
     "start_time": "2023-12-03T15:00:56.917242600Z"
    }
   },
   "id": "634cb4d9d1e05c58"
  },
  {
   "cell_type": "code",
   "execution_count": 6,
   "outputs": [
    {
     "data": {
      "text/plain": "                                                text\n0                  [poorly, made, shrink, fit, well]\n1  [playing, santa, year, authentic, high, qualit...\n2  [bought, two, one, better, shipping, schedule,...\n3  [came, box, scratch, one, lense, know, inexpen...\n4  [okay, kind, hard, explain, really, liked, ski...\n5  [illustration, even, close, care, color, recei...\n6  [size, way, regularly, wear, size, least, inch...\n7  [chris, kyle, frog, american, sniper, legend, ...\n8  [x, fit, small, usually, wear, x, material, th...\n9  [ordered, watch, silver, loved, decided, order...",
      "text/html": "<div>\n<style scoped>\n    .dataframe tbody tr th:only-of-type {\n        vertical-align: middle;\n    }\n\n    .dataframe tbody tr th {\n        vertical-align: top;\n    }\n\n    .dataframe thead th {\n        text-align: right;\n    }\n</style>\n<table border=\"1\" class=\"dataframe\">\n  <thead>\n    <tr style=\"text-align: right;\">\n      <th></th>\n      <th>text</th>\n    </tr>\n  </thead>\n  <tbody>\n    <tr>\n      <th>0</th>\n      <td>[poorly, made, shrink, fit, well]</td>\n    </tr>\n    <tr>\n      <th>1</th>\n      <td>[playing, santa, year, authentic, high, qualit...</td>\n    </tr>\n    <tr>\n      <th>2</th>\n      <td>[bought, two, one, better, shipping, schedule,...</td>\n    </tr>\n    <tr>\n      <th>3</th>\n      <td>[came, box, scratch, one, lense, know, inexpen...</td>\n    </tr>\n    <tr>\n      <th>4</th>\n      <td>[okay, kind, hard, explain, really, liked, ski...</td>\n    </tr>\n    <tr>\n      <th>5</th>\n      <td>[illustration, even, close, care, color, recei...</td>\n    </tr>\n    <tr>\n      <th>6</th>\n      <td>[size, way, regularly, wear, size, least, inch...</td>\n    </tr>\n    <tr>\n      <th>7</th>\n      <td>[chris, kyle, frog, american, sniper, legend, ...</td>\n    </tr>\n    <tr>\n      <th>8</th>\n      <td>[x, fit, small, usually, wear, x, material, th...</td>\n    </tr>\n    <tr>\n      <th>9</th>\n      <td>[ordered, watch, silver, loved, decided, order...</td>\n    </tr>\n  </tbody>\n</table>\n</div>"
     },
     "execution_count": 6,
     "metadata": {},
     "output_type": "execute_result"
    }
   ],
   "source": [
    "preprocessed_test_data.head(10)"
   ],
   "metadata": {
    "collapsed": false,
    "ExecuteTime": {
     "end_time": "2023-12-03T15:00:58.487847400Z",
     "start_time": "2023-12-03T15:00:58.363395800Z"
    }
   },
   "id": "b9d87689ed9737d9"
  },
  {
   "cell_type": "code",
   "execution_count": 7,
   "id": "80ed5e82",
   "metadata": {
    "ExecuteTime": {
     "end_time": "2023-12-03T15:01:00.172053900Z",
     "start_time": "2023-12-03T15:01:00.028623700Z"
    }
   },
   "outputs": [
    {
     "name": "stdout",
     "output_type": "stream",
     "text": [
      "0        levi,changed,fit,without,telling,anyone,change...\n",
      "1                                   fitted,small,niece,fix\n",
      "2        best,quality,tweezer,able,grab,smallest,splint...\n",
      "3        finally,received,reply,invicta,customer,servic...\n",
      "4        perfect,fit,easy,care,dress,smashing,find,wipe...\n",
      "                               ...                        \n",
      "44995                love,style,came,hole,crotch,stitching\n",
      "44996          turtleneck,fit,perfect,good,feel,purchasing\n",
      "44997    ring,look,great,husband,hand,look,like,quality...\n",
      "44998    odd,shoe,arch,inside,flyer,say,take,time,get,u...\n",
      "44999             nice,look,poorly,made,sleeve,short,small\n",
      "Name: text, Length: 45000, dtype: object\n",
      "0                             poorly,made,shrink,fit,well\n",
      "1       playing,santa,year,authentic,high,quality,sant...\n",
      "2       bought,two,one,better,shipping,schedule,second...\n",
      "3       came,box,scratch,one,lense,know,inexpensive,un...\n",
      "4       okay,kind,hard,explain,really,liked,skirt,know...\n",
      "                              ...                        \n",
      "5995    cute,versatile,great,fit,comfortable,high,heel...\n",
      "5996    really,like,fit,flattering,tall,people,large,m...\n",
      "5997    attractive,solidly,constructed,little,narrow,t...\n",
      "5998    napoleon,cameo,appearance,theatre,production,o...\n",
      "5999                great,light,weight,beach,workout,tank\n",
      "Name: text, Length: 6000, dtype: object\n"
     ]
    }
   ],
   "source": [
    "preprocessed_train_data[\"text\"] = preprocessed_train_data[\"text\"].apply(lambda x: \",\".join(x) if isinstance(x, list) else x)\n",
    "print(preprocessed_train_data[\"text\"])\n",
    "\n",
    "preprocessed_test_data[\"text\"] = preprocessed_test_data[\"text\"].apply(lambda x: \",\".join(x) if isinstance(x, list) else x)\n",
    "print(preprocessed_test_data[\"text\"])\n"
   ]
  },
  {
   "cell_type": "code",
   "execution_count": 17,
   "outputs": [
    {
     "name": "stdout",
     "output_type": "stream",
     "text": [
      "max_features: 3000  penalty: l2  tol: 5  C: 0.1  accuracy: 0.666\n",
      "max_features: 3000  penalty: l2  tol: 5  C: 0.3  accuracy: 0.6691666666666667\n"
     ]
    },
    {
     "name": "stderr",
     "output_type": "stream",
     "text": [
      "C:\\Users\\Stefi\\PycharmProjects\\PMLKaggle\\venv\\lib\\site-packages\\sklearn\\linear_model\\_logistic.py:460: ConvergenceWarning: lbfgs failed to converge (status=1):\n",
      "STOP: TOTAL NO. of ITERATIONS REACHED LIMIT.\n",
      "\n",
      "Increase the number of iterations (max_iter) or scale the data as shown in:\n",
      "    https://scikit-learn.org/stable/modules/preprocessing.html\n",
      "Please also refer to the documentation for alternative solver options:\n",
      "    https://scikit-learn.org/stable/modules/linear_model.html#logistic-regression\n",
      "  n_iter_i = _check_optimize_result(\n"
     ]
    },
    {
     "name": "stdout",
     "output_type": "stream",
     "text": [
      "max_features: 3000  penalty: l2  tol: 5  C: 3  accuracy: 0.6631666666666667\n",
      "max_features: 3000  penalty: l2  tol: 0.3  C: 0.1  accuracy: 0.6663333333333333\n"
     ]
    },
    {
     "name": "stderr",
     "output_type": "stream",
     "text": [
      "C:\\Users\\Stefi\\PycharmProjects\\PMLKaggle\\venv\\lib\\site-packages\\sklearn\\linear_model\\_logistic.py:460: ConvergenceWarning: lbfgs failed to converge (status=1):\n",
      "STOP: TOTAL NO. of ITERATIONS REACHED LIMIT.\n",
      "\n",
      "Increase the number of iterations (max_iter) or scale the data as shown in:\n",
      "    https://scikit-learn.org/stable/modules/preprocessing.html\n",
      "Please also refer to the documentation for alternative solver options:\n",
      "    https://scikit-learn.org/stable/modules/linear_model.html#logistic-regression\n",
      "  n_iter_i = _check_optimize_result(\n"
     ]
    },
    {
     "name": "stdout",
     "output_type": "stream",
     "text": [
      "max_features: 3000  penalty: l2  tol: 0.3  C: 0.3  accuracy: 0.669\n"
     ]
    },
    {
     "name": "stderr",
     "output_type": "stream",
     "text": [
      "C:\\Users\\Stefi\\PycharmProjects\\PMLKaggle\\venv\\lib\\site-packages\\sklearn\\linear_model\\_logistic.py:460: ConvergenceWarning: lbfgs failed to converge (status=1):\n",
      "STOP: TOTAL NO. of ITERATIONS REACHED LIMIT.\n",
      "\n",
      "Increase the number of iterations (max_iter) or scale the data as shown in:\n",
      "    https://scikit-learn.org/stable/modules/preprocessing.html\n",
      "Please also refer to the documentation for alternative solver options:\n",
      "    https://scikit-learn.org/stable/modules/linear_model.html#logistic-regression\n",
      "  n_iter_i = _check_optimize_result(\n"
     ]
    },
    {
     "name": "stdout",
     "output_type": "stream",
     "text": [
      "max_features: 3000  penalty: l2  tol: 0.3  C: 3  accuracy: 0.6631666666666667\n",
      "max_features: 3000  penalty: l2  tol: 3  C: 0.1  accuracy: 0.6653333333333333\n",
      "max_features: 3000  penalty: l2  tol: 3  C: 0.3  accuracy: 0.6696666666666666\n"
     ]
    },
    {
     "name": "stderr",
     "output_type": "stream",
     "text": [
      "C:\\Users\\Stefi\\PycharmProjects\\PMLKaggle\\venv\\lib\\site-packages\\sklearn\\linear_model\\_logistic.py:460: ConvergenceWarning: lbfgs failed to converge (status=1):\n",
      "STOP: TOTAL NO. of ITERATIONS REACHED LIMIT.\n",
      "\n",
      "Increase the number of iterations (max_iter) or scale the data as shown in:\n",
      "    https://scikit-learn.org/stable/modules/preprocessing.html\n",
      "Please also refer to the documentation for alternative solver options:\n",
      "    https://scikit-learn.org/stable/modules/linear_model.html#logistic-regression\n",
      "  n_iter_i = _check_optimize_result(\n"
     ]
    },
    {
     "name": "stdout",
     "output_type": "stream",
     "text": [
      "max_features: 3000  penalty: l2  tol: 3  C: 3  accuracy: 0.6631666666666667\n",
      "max_features: 5000  penalty: l2  tol: 5  C: 0.1  accuracy: 0.6661666666666667\n",
      "max_features: 5000  penalty: l2  tol: 5  C: 0.3  accuracy: 0.6711666666666667\n"
     ]
    },
    {
     "name": "stderr",
     "output_type": "stream",
     "text": [
      "C:\\Users\\Stefi\\PycharmProjects\\PMLKaggle\\venv\\lib\\site-packages\\sklearn\\linear_model\\_logistic.py:460: ConvergenceWarning: lbfgs failed to converge (status=1):\n",
      "STOP: TOTAL NO. of ITERATIONS REACHED LIMIT.\n",
      "\n",
      "Increase the number of iterations (max_iter) or scale the data as shown in:\n",
      "    https://scikit-learn.org/stable/modules/preprocessing.html\n",
      "Please also refer to the documentation for alternative solver options:\n",
      "    https://scikit-learn.org/stable/modules/linear_model.html#logistic-regression\n",
      "  n_iter_i = _check_optimize_result(\n"
     ]
    },
    {
     "name": "stdout",
     "output_type": "stream",
     "text": [
      "max_features: 5000  penalty: l2  tol: 5  C: 3  accuracy: 0.662\n",
      "max_features: 5000  penalty: l2  tol: 0.3  C: 0.1  accuracy: 0.6668333333333333\n"
     ]
    },
    {
     "name": "stderr",
     "output_type": "stream",
     "text": [
      "C:\\Users\\Stefi\\PycharmProjects\\PMLKaggle\\venv\\lib\\site-packages\\sklearn\\linear_model\\_logistic.py:460: ConvergenceWarning: lbfgs failed to converge (status=1):\n",
      "STOP: TOTAL NO. of ITERATIONS REACHED LIMIT.\n",
      "\n",
      "Increase the number of iterations (max_iter) or scale the data as shown in:\n",
      "    https://scikit-learn.org/stable/modules/preprocessing.html\n",
      "Please also refer to the documentation for alternative solver options:\n",
      "    https://scikit-learn.org/stable/modules/linear_model.html#logistic-regression\n",
      "  n_iter_i = _check_optimize_result(\n"
     ]
    },
    {
     "name": "stdout",
     "output_type": "stream",
     "text": [
      "max_features: 5000  penalty: l2  tol: 0.3  C: 0.3  accuracy: 0.6715\n"
     ]
    },
    {
     "name": "stderr",
     "output_type": "stream",
     "text": [
      "C:\\Users\\Stefi\\PycharmProjects\\PMLKaggle\\venv\\lib\\site-packages\\sklearn\\linear_model\\_logistic.py:460: ConvergenceWarning: lbfgs failed to converge (status=1):\n",
      "STOP: TOTAL NO. of ITERATIONS REACHED LIMIT.\n",
      "\n",
      "Increase the number of iterations (max_iter) or scale the data as shown in:\n",
      "    https://scikit-learn.org/stable/modules/preprocessing.html\n",
      "Please also refer to the documentation for alternative solver options:\n",
      "    https://scikit-learn.org/stable/modules/linear_model.html#logistic-regression\n",
      "  n_iter_i = _check_optimize_result(\n"
     ]
    },
    {
     "name": "stdout",
     "output_type": "stream",
     "text": [
      "max_features: 5000  penalty: l2  tol: 0.3  C: 3  accuracy: 0.662\n",
      "max_features: 5000  penalty: l2  tol: 3  C: 0.1  accuracy: 0.6668333333333333\n",
      "max_features: 5000  penalty: l2  tol: 3  C: 0.3  accuracy: 0.671\n",
      "max_features: 5000  penalty: l2  tol: 3  C: 3  accuracy: 0.662\n",
      "0.6715\n",
      "{'max_features': 5000, 'penalty': 'l2', 'tol': 0.3, 'C': 0.3}\n"
     ]
    },
    {
     "name": "stderr",
     "output_type": "stream",
     "text": [
      "C:\\Users\\Stefi\\PycharmProjects\\PMLKaggle\\venv\\lib\\site-packages\\sklearn\\linear_model\\_logistic.py:460: ConvergenceWarning: lbfgs failed to converge (status=1):\n",
      "STOP: TOTAL NO. of ITERATIONS REACHED LIMIT.\n",
      "\n",
      "Increase the number of iterations (max_iter) or scale the data as shown in:\n",
      "    https://scikit-learn.org/stable/modules/preprocessing.html\n",
      "Please also refer to the documentation for alternative solver options:\n",
      "    https://scikit-learn.org/stable/modules/linear_model.html#logistic-regression\n",
      "  n_iter_i = _check_optimize_result(\n"
     ]
    }
   ],
   "source": [
    "#hiperparametrization\n",
    "\n",
    "best_accuracy = 0\n",
    "chosen_parameters = {}\n",
    "\n",
    "for max_features in [3000, 5000]:\n",
    "\n",
    "  #initiate the TfidfVectorizer\n",
    "  tfidf = TfidfVectorizer(max_features=max_features)\n",
    "\n",
    "  #convert the training and validation data to tf-idf indexes\n",
    "  X_train_tfidf = tfidf.fit_transform(preprocessed_train_data[\"text\"]).toarray()\n",
    "  X_test_tfidf = tfidf.transform(preprocessed_test_data[\"text\"]).toarray()\n",
    "\n",
    "  for penalty in ['l2']:\n",
    "    for tol in [ 5, 0.3, 3]:\n",
    "      for C in [ 0.1, 0.3, 3]:\n",
    "\n",
    "        model = LogisticRegression(penalty=penalty, tol=tol, C=C)\n",
    "\n",
    "        model.fit(X_train_tfidf, train_labels['label'])\n",
    "        predictions = model.predict(X_test_tfidf)\n",
    "\n",
    "        score = accuracy_score(test_labels['label'],predictions)\n",
    "\n",
    "        print('max_features: {}  penalty: {}  tol: {}  C: {}  accuracy: {}'.format(max_features, penalty, tol, C, score))\n",
    "\n",
    "        if score > best_accuracy:\n",
    "          best_accuracy = score\n",
    "          chosen_parameters[\"max_features\"] = max_features\n",
    "          chosen_parameters[\"penalty\"] = penalty\n",
    "          chosen_parameters[\"tol\"] = tol\n",
    "          chosen_parameters[\"C\"] = C\n",
    "\n",
    "print(best_accuracy)\n",
    "print(chosen_parameters)\n",
    "  "
   ],
   "metadata": {
    "collapsed": false,
    "ExecuteTime": {
     "end_time": "2023-12-03T15:46:35.492039800Z",
     "start_time": "2023-12-03T15:35:19.420895900Z"
    }
   },
   "id": "59432de62001645b"
  },
  {
   "cell_type": "code",
   "execution_count": 18,
   "id": "54f2b62890505da3",
   "metadata": {
    "collapsed": false,
    "ExecuteTime": {
     "end_time": "2023-12-03T15:46:59.338328Z",
     "start_time": "2023-12-03T15:46:56.310712Z"
    }
   },
   "outputs": [],
   "source": [
    "model = make_pipeline(TfidfVectorizer(max_features=chosen_parameters['max_features']), LogisticRegression(penalty=chosen_parameters['penalty'], tol=chosen_parameters['tol'], C=chosen_parameters['C']))\n",
    "\n",
    "model.fit(preprocessed_train_data['text'], train_labels['label'])  \n",
    "\n",
    "predictions = model.predict(preprocessed_test_data['text'])\n"
   ]
  },
  {
   "cell_type": "code",
   "execution_count": 19,
   "outputs": [
    {
     "name": "stdout",
     "output_type": "stream",
     "text": [
      "Accuracy: 0.6713333333333333\n",
      "              precision    recall  f1-score   support\n",
      "\n",
      "    negative       0.67      0.69      0.68      2000\n",
      "     neutral       0.58      0.55      0.56      2000\n",
      "    positive       0.77      0.77      0.77      2000\n",
      "\n",
      "    accuracy                           0.67      6000\n",
      "   macro avg       0.67      0.67      0.67      6000\n",
      "weighted avg       0.67      0.67      0.67      6000\n"
     ]
    }
   ],
   "source": [
    "accuracy = accuracy_score(test_labels['label'], predictions)\n",
    "from sklearn.metrics import classification_report\n",
    "\n",
    "print(\"Accuracy:\", accuracy)\n",
    "print(classification_report(test_labels['label'], predictions))"
   ],
   "metadata": {
    "collapsed": false,
    "ExecuteTime": {
     "end_time": "2023-12-03T15:47:01.125118100Z",
     "start_time": "2023-12-03T15:47:00.921395100Z"
    }
   },
   "id": "b91a7ac80583f36e"
  },
  {
   "cell_type": "code",
   "execution_count": 20,
   "id": "82aa3ae02a39f443",
   "metadata": {
    "collapsed": false,
    "ExecuteTime": {
     "end_time": "2023-12-03T15:47:03.948066900Z",
     "start_time": "2023-12-03T15:47:03.554777700Z"
    }
   },
   "outputs": [
    {
     "data": {
      "text/plain": "<Figure size 800x600 with 2 Axes>",
      "image/png": "[encoded data removed]"
     },
     "metadata": {},
     "output_type": "display_data"
    }
   ],
   "source": [
    "# !pip install seaborn\n",
    "import seaborn as sns\n",
    "from sklearn.metrics import confusion_matrix\n",
    "\n",
    "conf_matrix = confusion_matrix(test_labels['label'], predictions)\n",
    "\n",
    "plt.figure(figsize=(8, 6))\n",
    "sns.heatmap(conf_matrix, annot=True, fmt='d', cmap='Purples')\n",
    "plt.xlabel('Predicted Labels')\n",
    "plt.ylabel('True Labels')\n",
    "plt.title('Confusion Matrix')\n",
    "plt.show()"
   ]
  },
  {
   "cell_type": "code",
   "execution_count": null,
   "outputs": [],
   "source": [],
   "metadata": {
    "collapsed": false
   },
   "id": "468aae207c97ad4a"
  }
 ],
 "metadata": {
  "kernelspec": {
   "display_name": "Python 3 (ipykernel)",
   "language": "python",
   "name": "python3"
  },
  "language_info": {
   "codemirror_mode": {
    "name": "ipython",
    "version": 3
   },
   "file_extension": ".py",
   "mimetype": "text/x-python",
   "name": "python",
   "nbconvert_exporter": "python",
   "pygments_lexer": "ipython3",
   "version": "3.10.11"
  }
 },
 "nbformat": 4,
 "nbformat_minor": 5
}
