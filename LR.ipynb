{
 "cells": [
  {
   "cell_type": "code",
   "execution_count": null,
   "id": "db8a1675",
   "metadata": {},
   "outputs": [],
   "source": [
    "# !pip install scikit-learn\n",
    "# !pip install pandas\n",
    "# !pip install emoji\n",
    "# !pip install num2words\n",
    "# !pip install nltk\n",
    "# !pip install matplotlib\n",
    "# !pip install wordcloud\n",
    "# !pip install python-docx\n"
   ]
  },
  {
   "cell_type": "code",
   "execution_count": 1,
   "id": "9b2289f8",
   "metadata": {
    "ExecuteTime": {
     "end_time": "2023-12-27T18:30:01.044649500Z",
     "start_time": "2023-12-27T18:29:45.947621300Z"
    }
   },
   "outputs": [
    {
     "name": "stderr",
     "output_type": "stream",
     "text": [
      "[nltk_data] Downloading package stopwords to\n",
      "[nltk_data]     C:\\Users\\Stefi\\AppData\\Roaming\\nltk_data...\n",
      "[nltk_data]   Package stopwords is already up-to-date!\n",
      "[nltk_data] Downloading package wordnet to\n",
      "[nltk_data]     C:\\Users\\Stefi\\AppData\\Roaming\\nltk_data...\n",
      "[nltk_data]   Package wordnet is already up-to-date!\n"
     ]
    }
   ],
   "source": [
    "import json\n",
    "import pandas as pd\n",
    "from sklearn.model_selection import train_test_split\n",
    "import re\n",
    "import emoji\n",
    "from num2words import num2words\n",
    "import nltk\n",
    "from nltk.corpus import stopwords\n",
    "from nltk.stem import WordNetLemmatizer\n",
    "from nltk.stem import PorterStemmer\n",
    "from sklearn.feature_extraction.text import TfidfVectorizer\n",
    "from sklearn.linear_model import LogisticRegression\n",
    "from sklearn.pipeline import make_pipeline\n",
    "from sklearn.metrics import accuracy_score, classification_report\n",
    "nltk.download('stopwords')\n",
    "nltk.download('wordnet')\n",
    "import numpy as np\n",
    "import matplotlib.pyplot as plt\n",
    "from collections import defaultdict\n",
    "from collections import Counter\n",
    "from matplotlib import colors\n",
    "from wordcloud import WordCloud\n",
    "import docx "
   ]
  },
  {
   "cell_type": "code",
   "execution_count": 2,
   "id": "8d17c3a4",
   "metadata": {
    "ExecuteTime": {
     "end_time": "2023-12-27T18:30:06.427504200Z",
     "start_time": "2023-12-27T18:30:06.267375300Z"
    }
   },
   "outputs": [
    {
     "name": "stderr",
     "output_type": "stream",
     "text": [
      "[nltk_data] Downloading package stopwords to\n",
      "[nltk_data]     C:\\Users\\Stefi\\AppData\\Roaming\\nltk_data...\n",
      "[nltk_data]   Package stopwords is already up-to-date!\n",
      "[nltk_data] Downloading package wordnet to\n",
      "[nltk_data]     C:\\Users\\Stefi\\AppData\\Roaming\\nltk_data...\n",
      "[nltk_data]   Package wordnet is already up-to-date!\n"
     ]
    }
   ],
   "source": [
    "#!pip install ipynb \n",
    "from ipynb.fs.full.preprocessor_class import Preprocessor"
   ]
  },
  {
   "cell_type": "code",
   "execution_count": 3,
   "id": "497679b4",
   "metadata": {
    "ExecuteTime": {
     "end_time": "2023-12-27T18:30:12.104802300Z",
     "start_time": "2023-12-27T18:30:10.355996400Z"
    }
   },
   "outputs": [
    {
     "data": {
      "text/plain": "(45000, 1)"
     },
     "execution_count": 3,
     "metadata": {},
     "output_type": "execute_result"
    }
   ],
   "source": [
    "train_data = pd.read_csv('data/shuffled_train_data.csv',index_col=None)\n",
    "train_labels = pd.read_csv('data/shuffled_train_labels.csv',index_col=None)\n",
    "\n",
    "test_data = pd.read_csv('data/test_data.csv',index_col=None)\n",
    "test_labels = pd.read_csv('data/test_labels.csv',index_col=None)\n",
    "\n",
    "train_data_plot = pd.read_csv('data/train_data_plot.csv',index_col=None)\n",
    "test_data_plot = pd.read_csv('data/test_data_plot.csv',index_col=None)\n",
    "\n",
    "train_data.shape"
   ]
  },
  {
   "cell_type": "code",
   "execution_count": 4,
   "id": "8b40ae40",
   "metadata": {
    "ExecuteTime": {
     "end_time": "2023-12-27T18:30:32.060680Z",
     "start_time": "2023-12-27T18:30:14.926336Z"
    }
   },
   "outputs": [],
   "source": [
    "preprocessor = Preprocessor(set(stopwords.words('english')), WordNetLemmatizer(), PorterStemmer(), True, True, True, True, True, False, True, True, True, False)\n",
    "\n",
    "preprocessed_train_data = pd.DataFrame(columns=['text'])\n",
    "preprocessed_test_data = pd.DataFrame(columns=['text'])\n",
    "\n",
    "preprocessed_train_data['text'] = train_data.apply(lambda row: preprocessor.preprocess(row.iloc[0]), axis = 1)\n",
    "preprocessed_test_data['text'] = test_data.apply(lambda row: preprocessor.preprocess(row.iloc[0]), axis = 1)\n"
   ]
  },
  {
   "cell_type": "code",
   "execution_count": 5,
   "outputs": [
    {
     "data": {
      "text/plain": "                                                text\n0                         [love, super, comfortable]\n1  [shave, cremes, need, lather, feeling, fullnes...\n2  [love, bright, color, dress, fabric, nice, fee...\n3     [see, small, got, curve, get, fit, like, size]\n4  [sister, love, wolf, go, wrong, cute, comfy, w...\n5                                [like, style, back]\n6                  [return, large, like, shoe, look]\n7                                      [broke, hour]\n8                                  [like, everybody]\n9  [wallet, rfid, blocking, property, credit, car...",
      "text/html": "<div>\n<style scoped>\n    .dataframe tbody tr th:only-of-type {\n        vertical-align: middle;\n    }\n\n    .dataframe tbody tr th {\n        vertical-align: top;\n    }\n\n    .dataframe thead th {\n        text-align: right;\n    }\n</style>\n<table border=\"1\" class=\"dataframe\">\n  <thead>\n    <tr style=\"text-align: right;\">\n      <th></th>\n      <th>text</th>\n    </tr>\n  </thead>\n  <tbody>\n    <tr>\n      <th>0</th>\n      <td>[love, super, comfortable]</td>\n    </tr>\n    <tr>\n      <th>1</th>\n      <td>[shave, cremes, need, lather, feeling, fullnes...</td>\n    </tr>\n    <tr>\n      <th>2</th>\n      <td>[love, bright, color, dress, fabric, nice, fee...</td>\n    </tr>\n    <tr>\n      <th>3</th>\n      <td>[see, small, got, curve, get, fit, like, size]</td>\n    </tr>\n    <tr>\n      <th>4</th>\n      <td>[sister, love, wolf, go, wrong, cute, comfy, w...</td>\n    </tr>\n    <tr>\n      <th>5</th>\n      <td>[like, style, back]</td>\n    </tr>\n    <tr>\n      <th>6</th>\n      <td>[return, large, like, shoe, look]</td>\n    </tr>\n    <tr>\n      <th>7</th>\n      <td>[broke, hour]</td>\n    </tr>\n    <tr>\n      <th>8</th>\n      <td>[like, everybody]</td>\n    </tr>\n    <tr>\n      <th>9</th>\n      <td>[wallet, rfid, blocking, property, credit, car...</td>\n    </tr>\n  </tbody>\n</table>\n</div>"
     },
     "execution_count": 5,
     "metadata": {},
     "output_type": "execute_result"
    }
   ],
   "source": [
    "preprocessed_train_data.head(10)"
   ],
   "metadata": {
    "collapsed": false,
    "ExecuteTime": {
     "end_time": "2023-12-27T18:30:37.431659500Z",
     "start_time": "2023-12-27T18:30:37.341539100Z"
    }
   },
   "id": "634cb4d9d1e05c58"
  },
  {
   "cell_type": "code",
   "execution_count": 6,
   "outputs": [
    {
     "data": {
      "text/plain": "                                                text\n0                  [poorly, made, shrink, fit, well]\n1  [playing, santa, year, authentic, high, qualit...\n2  [bought, two, one, better, shipping, schedule,...\n3  [came, box, scratch, one, lense, know, inexpen...\n4  [okay, kind, hard, explain, really, liked, ski...\n5  [illustration, even, close, care, color, recei...\n6  [size, way, regularly, wear, size, least, inch...\n7  [chris, kyle, frog, american, sniper, legend, ...\n8  [x, fit, small, usually, wear, x, material, th...\n9  [ordered, watch, silver, loved, decided, order...",
      "text/html": "<div>\n<style scoped>\n    .dataframe tbody tr th:only-of-type {\n        vertical-align: middle;\n    }\n\n    .dataframe tbody tr th {\n        vertical-align: top;\n    }\n\n    .dataframe thead th {\n        text-align: right;\n    }\n</style>\n<table border=\"1\" class=\"dataframe\">\n  <thead>\n    <tr style=\"text-align: right;\">\n      <th></th>\n      <th>text</th>\n    </tr>\n  </thead>\n  <tbody>\n    <tr>\n      <th>0</th>\n      <td>[poorly, made, shrink, fit, well]</td>\n    </tr>\n    <tr>\n      <th>1</th>\n      <td>[playing, santa, year, authentic, high, qualit...</td>\n    </tr>\n    <tr>\n      <th>2</th>\n      <td>[bought, two, one, better, shipping, schedule,...</td>\n    </tr>\n    <tr>\n      <th>3</th>\n      <td>[came, box, scratch, one, lense, know, inexpen...</td>\n    </tr>\n    <tr>\n      <th>4</th>\n      <td>[okay, kind, hard, explain, really, liked, ski...</td>\n    </tr>\n    <tr>\n      <th>5</th>\n      <td>[illustration, even, close, care, color, recei...</td>\n    </tr>\n    <tr>\n      <th>6</th>\n      <td>[size, way, regularly, wear, size, least, inch...</td>\n    </tr>\n    <tr>\n      <th>7</th>\n      <td>[chris, kyle, frog, american, sniper, legend, ...</td>\n    </tr>\n    <tr>\n      <th>8</th>\n      <td>[x, fit, small, usually, wear, x, material, th...</td>\n    </tr>\n    <tr>\n      <th>9</th>\n      <td>[ordered, watch, silver, loved, decided, order...</td>\n    </tr>\n  </tbody>\n</table>\n</div>"
     },
     "execution_count": 6,
     "metadata": {},
     "output_type": "execute_result"
    }
   ],
   "source": [
    "preprocessed_test_data.head(10)"
   ],
   "metadata": {
    "collapsed": false,
    "ExecuteTime": {
     "end_time": "2023-12-27T18:30:42.839998200Z",
     "start_time": "2023-12-27T18:30:42.777104200Z"
    }
   },
   "id": "b9d87689ed9737d9"
  },
  {
   "cell_type": "code",
   "execution_count": 7,
   "id": "80ed5e82",
   "metadata": {
    "ExecuteTime": {
     "end_time": "2023-12-27T18:30:48.107368500Z",
     "start_time": "2023-12-27T18:30:47.931818400Z"
    }
   },
   "outputs": [
    {
     "name": "stdout",
     "output_type": "stream",
     "text": [
      "0                                   love,super,comfortable\n",
      "1        shave,cremes,need,lather,feeling,fullness,rich...\n",
      "2        love,bright,color,dress,fabric,nice,feel,reall...\n",
      "3                    see,small,got,curve,get,fit,like,size\n",
      "4              sister,love,wolf,go,wrong,cute,comfy,wolfie\n",
      "                               ...                        \n",
      "44995    sandal,poorly,constructed,base,shoe,fitting,ex...\n",
      "44996    wow,shirt,comfortable,fit,hug,body,softness,fr...\n",
      "44997    problem,heel,pain,pf,looking,good,walking,shoe...\n",
      "44998    keep,spotting,hand,everything,blue,ink,even,le...\n",
      "44999                   light,died,right,away,poor,quality\n",
      "Name: text, Length: 45000, dtype: object\n",
      "0                             poorly,made,shrink,fit,well\n",
      "1       playing,santa,year,authentic,high,quality,sant...\n",
      "2       bought,two,one,better,shipping,schedule,second...\n",
      "3       came,box,scratch,one,lense,know,inexpensive,un...\n",
      "4       okay,kind,hard,explain,really,liked,skirt,know...\n",
      "                              ...                        \n",
      "5995    christmas,gift,boyfriend,nice,wallet,appears,l...\n",
      "5996                 better,expected,pleasantly,surprised\n",
      "5997    skirt,awsome,arrived,real,quick,lb,skirt,fit,l...\n",
      "5998    excellent,piece,elegant,sturdy,design,love,fac...\n",
      "5999                                wonderful,beach,shirt\n",
      "Name: text, Length: 6000, dtype: object\n"
     ]
    }
   ],
   "source": [
    "preprocessed_train_data[\"text\"] = preprocessed_train_data[\"text\"].apply(lambda x: \",\".join(x) if isinstance(x, list) else x)\n",
    "print(preprocessed_train_data[\"text\"])\n",
    "\n",
    "preprocessed_test_data[\"text\"] = preprocessed_test_data[\"text\"].apply(lambda x: \",\".join(x) if isinstance(x, list) else x)\n",
    "print(preprocessed_test_data[\"text\"])\n"
   ]
  },
  {
   "cell_type": "code",
   "execution_count": 15,
   "outputs": [
    {
     "name": "stderr",
     "output_type": "stream",
     "text": [
      "C:\\Users\\Stefi\\PycharmProjects\\PMLKaggle\\venv\\lib\\site-packages\\sklearn\\linear_model\\_logistic.py:460: ConvergenceWarning: lbfgs failed to converge (status=1):\n",
      "STOP: TOTAL NO. of ITERATIONS REACHED LIMIT.\n",
      "\n",
      "Increase the number of iterations (max_iter) or scale the data as shown in:\n",
      "    https://scikit-learn.org/stable/modules/preprocessing.html\n",
      "Please also refer to the documentation for alternative solver options:\n",
      "    https://scikit-learn.org/stable/modules/linear_model.html#logistic-regression\n",
      "  n_iter_i = _check_optimize_result(\n",
      "C:\\Users\\Stefi\\PycharmProjects\\PMLKaggle\\venv\\lib\\site-packages\\sklearn\\linear_model\\_logistic.py:460: ConvergenceWarning: lbfgs failed to converge (status=1):\n",
      "STOP: TOTAL NO. of ITERATIONS REACHED LIMIT.\n",
      "\n",
      "Increase the number of iterations (max_iter) or scale the data as shown in:\n",
      "    https://scikit-learn.org/stable/modules/preprocessing.html\n",
      "Please also refer to the documentation for alternative solver options:\n",
      "    https://scikit-learn.org/stable/modules/linear_model.html#logistic-regression\n",
      "  n_iter_i = _check_optimize_result(\n",
      "C:\\Users\\Stefi\\PycharmProjects\\PMLKaggle\\venv\\lib\\site-packages\\sklearn\\linear_model\\_logistic.py:460: ConvergenceWarning: lbfgs failed to converge (status=1):\n",
      "STOP: TOTAL NO. of ITERATIONS REACHED LIMIT.\n",
      "\n",
      "Increase the number of iterations (max_iter) or scale the data as shown in:\n",
      "    https://scikit-learn.org/stable/modules/preprocessing.html\n",
      "Please also refer to the documentation for alternative solver options:\n",
      "    https://scikit-learn.org/stable/modules/linear_model.html#logistic-regression\n",
      "  n_iter_i = _check_optimize_result(\n",
      "C:\\Users\\Stefi\\PycharmProjects\\PMLKaggle\\venv\\lib\\site-packages\\sklearn\\linear_model\\_logistic.py:460: ConvergenceWarning: lbfgs failed to converge (status=1):\n",
      "STOP: TOTAL NO. of ITERATIONS REACHED LIMIT.\n",
      "\n",
      "Increase the number of iterations (max_iter) or scale the data as shown in:\n",
      "    https://scikit-learn.org/stable/modules/preprocessing.html\n",
      "Please also refer to the documentation for alternative solver options:\n",
      "    https://scikit-learn.org/stable/modules/linear_model.html#logistic-regression\n",
      "  n_iter_i = _check_optimize_result(\n",
      "C:\\Users\\Stefi\\PycharmProjects\\PMLKaggle\\venv\\lib\\site-packages\\sklearn\\linear_model\\_logistic.py:460: ConvergenceWarning: lbfgs failed to converge (status=1):\n",
      "STOP: TOTAL NO. of ITERATIONS REACHED LIMIT.\n",
      "\n",
      "Increase the number of iterations (max_iter) or scale the data as shown in:\n",
      "    https://scikit-learn.org/stable/modules/preprocessing.html\n",
      "Please also refer to the documentation for alternative solver options:\n",
      "    https://scikit-learn.org/stable/modules/linear_model.html#logistic-regression\n",
      "  n_iter_i = _check_optimize_result(\n",
      "C:\\Users\\Stefi\\PycharmProjects\\PMLKaggle\\venv\\lib\\site-packages\\sklearn\\linear_model\\_logistic.py:460: ConvergenceWarning: lbfgs failed to converge (status=1):\n",
      "STOP: TOTAL NO. of ITERATIONS REACHED LIMIT.\n",
      "\n",
      "Increase the number of iterations (max_iter) or scale the data as shown in:\n",
      "    https://scikit-learn.org/stable/modules/preprocessing.html\n",
      "Please also refer to the documentation for alternative solver options:\n",
      "    https://scikit-learn.org/stable/modules/linear_model.html#logistic-regression\n",
      "  n_iter_i = _check_optimize_result(\n",
      "C:\\Users\\Stefi\\PycharmProjects\\PMLKaggle\\venv\\lib\\site-packages\\sklearn\\linear_model\\_logistic.py:460: ConvergenceWarning: lbfgs failed to converge (status=1):\n",
      "STOP: TOTAL NO. of ITERATIONS REACHED LIMIT.\n",
      "\n",
      "Increase the number of iterations (max_iter) or scale the data as shown in:\n",
      "    https://scikit-learn.org/stable/modules/preprocessing.html\n",
      "Please also refer to the documentation for alternative solver options:\n",
      "    https://scikit-learn.org/stable/modules/linear_model.html#logistic-regression\n",
      "  n_iter_i = _check_optimize_result(\n",
      "C:\\Users\\Stefi\\PycharmProjects\\PMLKaggle\\venv\\lib\\site-packages\\sklearn\\linear_model\\_logistic.py:460: ConvergenceWarning: lbfgs failed to converge (status=1):\n",
      "STOP: TOTAL NO. of ITERATIONS REACHED LIMIT.\n",
      "\n",
      "Increase the number of iterations (max_iter) or scale the data as shown in:\n",
      "    https://scikit-learn.org/stable/modules/preprocessing.html\n",
      "Please also refer to the documentation for alternative solver options:\n",
      "    https://scikit-learn.org/stable/modules/linear_model.html#logistic-regression\n",
      "  n_iter_i = _check_optimize_result(\n",
      "C:\\Users\\Stefi\\PycharmProjects\\PMLKaggle\\venv\\lib\\site-packages\\sklearn\\linear_model\\_logistic.py:460: ConvergenceWarning: lbfgs failed to converge (status=1):\n",
      "STOP: TOTAL NO. of ITERATIONS REACHED LIMIT.\n",
      "\n",
      "Increase the number of iterations (max_iter) or scale the data as shown in:\n",
      "    https://scikit-learn.org/stable/modules/preprocessing.html\n",
      "Please also refer to the documentation for alternative solver options:\n",
      "    https://scikit-learn.org/stable/modules/linear_model.html#logistic-regression\n",
      "  n_iter_i = _check_optimize_result(\n",
      "C:\\Users\\Stefi\\PycharmProjects\\PMLKaggle\\venv\\lib\\site-packages\\sklearn\\linear_model\\_logistic.py:460: ConvergenceWarning: lbfgs failed to converge (status=1):\n",
      "STOP: TOTAL NO. of ITERATIONS REACHED LIMIT.\n",
      "\n",
      "Increase the number of iterations (max_iter) or scale the data as shown in:\n",
      "    https://scikit-learn.org/stable/modules/preprocessing.html\n",
      "Please also refer to the documentation for alternative solver options:\n",
      "    https://scikit-learn.org/stable/modules/linear_model.html#logistic-regression\n",
      "  n_iter_i = _check_optimize_result(\n",
      "C:\\Users\\Stefi\\PycharmProjects\\PMLKaggle\\venv\\lib\\site-packages\\sklearn\\linear_model\\_logistic.py:460: ConvergenceWarning: lbfgs failed to converge (status=1):\n",
      "STOP: TOTAL NO. of ITERATIONS REACHED LIMIT.\n",
      "\n",
      "Increase the number of iterations (max_iter) or scale the data as shown in:\n",
      "    https://scikit-learn.org/stable/modules/preprocessing.html\n",
      "Please also refer to the documentation for alternative solver options:\n",
      "    https://scikit-learn.org/stable/modules/linear_model.html#logistic-regression\n",
      "  n_iter_i = _check_optimize_result(\n",
      "C:\\Users\\Stefi\\PycharmProjects\\PMLKaggle\\venv\\lib\\site-packages\\sklearn\\linear_model\\_logistic.py:460: ConvergenceWarning: lbfgs failed to converge (status=1):\n",
      "STOP: TOTAL NO. of ITERATIONS REACHED LIMIT.\n",
      "\n",
      "Increase the number of iterations (max_iter) or scale the data as shown in:\n",
      "    https://scikit-learn.org/stable/modules/preprocessing.html\n",
      "Please also refer to the documentation for alternative solver options:\n",
      "    https://scikit-learn.org/stable/modules/linear_model.html#logistic-regression\n",
      "  n_iter_i = _check_optimize_result(\n",
      "C:\\Users\\Stefi\\PycharmProjects\\PMLKaggle\\venv\\lib\\site-packages\\sklearn\\linear_model\\_logistic.py:460: ConvergenceWarning: lbfgs failed to converge (status=1):\n",
      "STOP: TOTAL NO. of ITERATIONS REACHED LIMIT.\n",
      "\n",
      "Increase the number of iterations (max_iter) or scale the data as shown in:\n",
      "    https://scikit-learn.org/stable/modules/preprocessing.html\n",
      "Please also refer to the documentation for alternative solver options:\n",
      "    https://scikit-learn.org/stable/modules/linear_model.html#logistic-regression\n",
      "  n_iter_i = _check_optimize_result(\n",
      "C:\\Users\\Stefi\\PycharmProjects\\PMLKaggle\\venv\\lib\\site-packages\\sklearn\\linear_model\\_logistic.py:460: ConvergenceWarning: lbfgs failed to converge (status=1):\n",
      "STOP: TOTAL NO. of ITERATIONS REACHED LIMIT.\n",
      "\n",
      "Increase the number of iterations (max_iter) or scale the data as shown in:\n",
      "    https://scikit-learn.org/stable/modules/preprocessing.html\n",
      "Please also refer to the documentation for alternative solver options:\n",
      "    https://scikit-learn.org/stable/modules/linear_model.html#logistic-regression\n",
      "  n_iter_i = _check_optimize_result(\n",
      "C:\\Users\\Stefi\\PycharmProjects\\PMLKaggle\\venv\\lib\\site-packages\\sklearn\\linear_model\\_logistic.py:460: ConvergenceWarning: lbfgs failed to converge (status=1):\n",
      "STOP: TOTAL NO. of ITERATIONS REACHED LIMIT.\n",
      "\n",
      "Increase the number of iterations (max_iter) or scale the data as shown in:\n",
      "    https://scikit-learn.org/stable/modules/preprocessing.html\n",
      "Please also refer to the documentation for alternative solver options:\n",
      "    https://scikit-learn.org/stable/modules/linear_model.html#logistic-regression\n",
      "  n_iter_i = _check_optimize_result(\n",
      "C:\\Users\\Stefi\\PycharmProjects\\PMLKaggle\\venv\\lib\\site-packages\\sklearn\\linear_model\\_logistic.py:460: ConvergenceWarning: lbfgs failed to converge (status=1):\n",
      "STOP: TOTAL NO. of ITERATIONS REACHED LIMIT.\n",
      "\n",
      "Increase the number of iterations (max_iter) or scale the data as shown in:\n",
      "    https://scikit-learn.org/stable/modules/preprocessing.html\n",
      "Please also refer to the documentation for alternative solver options:\n",
      "    https://scikit-learn.org/stable/modules/linear_model.html#logistic-regression\n",
      "  n_iter_i = _check_optimize_result(\n",
      "C:\\Users\\Stefi\\PycharmProjects\\PMLKaggle\\venv\\lib\\site-packages\\sklearn\\linear_model\\_logistic.py:460: ConvergenceWarning: lbfgs failed to converge (status=1):\n",
      "STOP: TOTAL NO. of ITERATIONS REACHED LIMIT.\n",
      "\n",
      "Increase the number of iterations (max_iter) or scale the data as shown in:\n",
      "    https://scikit-learn.org/stable/modules/preprocessing.html\n",
      "Please also refer to the documentation for alternative solver options:\n",
      "    https://scikit-learn.org/stable/modules/linear_model.html#logistic-regression\n",
      "  n_iter_i = _check_optimize_result(\n",
      "C:\\Users\\Stefi\\PycharmProjects\\PMLKaggle\\venv\\lib\\site-packages\\sklearn\\linear_model\\_logistic.py:460: ConvergenceWarning: lbfgs failed to converge (status=1):\n",
      "STOP: TOTAL NO. of ITERATIONS REACHED LIMIT.\n",
      "\n",
      "Increase the number of iterations (max_iter) or scale the data as shown in:\n",
      "    https://scikit-learn.org/stable/modules/preprocessing.html\n",
      "Please also refer to the documentation for alternative solver options:\n",
      "    https://scikit-learn.org/stable/modules/linear_model.html#logistic-regression\n",
      "  n_iter_i = _check_optimize_result(\n",
      "C:\\Users\\Stefi\\PycharmProjects\\PMLKaggle\\venv\\lib\\site-packages\\sklearn\\linear_model\\_logistic.py:460: ConvergenceWarning: lbfgs failed to converge (status=1):\n",
      "STOP: TOTAL NO. of ITERATIONS REACHED LIMIT.\n",
      "\n",
      "Increase the number of iterations (max_iter) or scale the data as shown in:\n",
      "    https://scikit-learn.org/stable/modules/preprocessing.html\n",
      "Please also refer to the documentation for alternative solver options:\n",
      "    https://scikit-learn.org/stable/modules/linear_model.html#logistic-regression\n",
      "  n_iter_i = _check_optimize_result(\n",
      "C:\\Users\\Stefi\\PycharmProjects\\PMLKaggle\\venv\\lib\\site-packages\\sklearn\\linear_model\\_logistic.py:460: ConvergenceWarning: lbfgs failed to converge (status=1):\n",
      "STOP: TOTAL NO. of ITERATIONS REACHED LIMIT.\n",
      "\n",
      "Increase the number of iterations (max_iter) or scale the data as shown in:\n",
      "    https://scikit-learn.org/stable/modules/preprocessing.html\n",
      "Please also refer to the documentation for alternative solver options:\n",
      "    https://scikit-learn.org/stable/modules/linear_model.html#logistic-regression\n",
      "  n_iter_i = _check_optimize_result(\n",
      "C:\\Users\\Stefi\\PycharmProjects\\PMLKaggle\\venv\\lib\\site-packages\\sklearn\\linear_model\\_logistic.py:460: ConvergenceWarning: lbfgs failed to converge (status=1):\n",
      "STOP: TOTAL NO. of ITERATIONS REACHED LIMIT.\n",
      "\n",
      "Increase the number of iterations (max_iter) or scale the data as shown in:\n",
      "    https://scikit-learn.org/stable/modules/preprocessing.html\n",
      "Please also refer to the documentation for alternative solver options:\n",
      "    https://scikit-learn.org/stable/modules/linear_model.html#logistic-regression\n",
      "  n_iter_i = _check_optimize_result(\n",
      "C:\\Users\\Stefi\\PycharmProjects\\PMLKaggle\\venv\\lib\\site-packages\\sklearn\\linear_model\\_logistic.py:460: ConvergenceWarning: lbfgs failed to converge (status=1):\n",
      "STOP: TOTAL NO. of ITERATIONS REACHED LIMIT.\n",
      "\n",
      "Increase the number of iterations (max_iter) or scale the data as shown in:\n",
      "    https://scikit-learn.org/stable/modules/preprocessing.html\n",
      "Please also refer to the documentation for alternative solver options:\n",
      "    https://scikit-learn.org/stable/modules/linear_model.html#logistic-regression\n",
      "  n_iter_i = _check_optimize_result(\n",
      "C:\\Users\\Stefi\\PycharmProjects\\PMLKaggle\\venv\\lib\\site-packages\\sklearn\\linear_model\\_logistic.py:460: ConvergenceWarning: lbfgs failed to converge (status=1):\n",
      "STOP: TOTAL NO. of ITERATIONS REACHED LIMIT.\n",
      "\n",
      "Increase the number of iterations (max_iter) or scale the data as shown in:\n",
      "    https://scikit-learn.org/stable/modules/preprocessing.html\n",
      "Please also refer to the documentation for alternative solver options:\n",
      "    https://scikit-learn.org/stable/modules/linear_model.html#logistic-regression\n",
      "  n_iter_i = _check_optimize_result(\n",
      "C:\\Users\\Stefi\\PycharmProjects\\PMLKaggle\\venv\\lib\\site-packages\\sklearn\\linear_model\\_logistic.py:460: ConvergenceWarning: lbfgs failed to converge (status=1):\n",
      "STOP: TOTAL NO. of ITERATIONS REACHED LIMIT.\n",
      "\n",
      "Increase the number of iterations (max_iter) or scale the data as shown in:\n",
      "    https://scikit-learn.org/stable/modules/preprocessing.html\n",
      "Please also refer to the documentation for alternative solver options:\n",
      "    https://scikit-learn.org/stable/modules/linear_model.html#logistic-regression\n",
      "  n_iter_i = _check_optimize_result(\n",
      "C:\\Users\\Stefi\\PycharmProjects\\PMLKaggle\\venv\\lib\\site-packages\\sklearn\\linear_model\\_logistic.py:460: ConvergenceWarning: lbfgs failed to converge (status=1):\n",
      "STOP: TOTAL NO. of ITERATIONS REACHED LIMIT.\n",
      "\n",
      "Increase the number of iterations (max_iter) or scale the data as shown in:\n",
      "    https://scikit-learn.org/stable/modules/preprocessing.html\n",
      "Please also refer to the documentation for alternative solver options:\n",
      "    https://scikit-learn.org/stable/modules/linear_model.html#logistic-regression\n",
      "  n_iter_i = _check_optimize_result(\n",
      "C:\\Users\\Stefi\\PycharmProjects\\PMLKaggle\\venv\\lib\\site-packages\\sklearn\\linear_model\\_logistic.py:460: ConvergenceWarning: lbfgs failed to converge (status=1):\n",
      "STOP: TOTAL NO. of ITERATIONS REACHED LIMIT.\n",
      "\n",
      "Increase the number of iterations (max_iter) or scale the data as shown in:\n",
      "    https://scikit-learn.org/stable/modules/preprocessing.html\n",
      "Please also refer to the documentation for alternative solver options:\n",
      "    https://scikit-learn.org/stable/modules/linear_model.html#logistic-regression\n",
      "  n_iter_i = _check_optimize_result(\n",
      "C:\\Users\\Stefi\\PycharmProjects\\PMLKaggle\\venv\\lib\\site-packages\\sklearn\\linear_model\\_logistic.py:460: ConvergenceWarning: lbfgs failed to converge (status=1):\n",
      "STOP: TOTAL NO. of ITERATIONS REACHED LIMIT.\n",
      "\n",
      "Increase the number of iterations (max_iter) or scale the data as shown in:\n",
      "    https://scikit-learn.org/stable/modules/preprocessing.html\n",
      "Please also refer to the documentation for alternative solver options:\n",
      "    https://scikit-learn.org/stable/modules/linear_model.html#logistic-regression\n",
      "  n_iter_i = _check_optimize_result(\n",
      "C:\\Users\\Stefi\\PycharmProjects\\PMLKaggle\\venv\\lib\\site-packages\\sklearn\\linear_model\\_logistic.py:460: ConvergenceWarning: lbfgs failed to converge (status=1):\n",
      "STOP: TOTAL NO. of ITERATIONS REACHED LIMIT.\n",
      "\n",
      "Increase the number of iterations (max_iter) or scale the data as shown in:\n",
      "    https://scikit-learn.org/stable/modules/preprocessing.html\n",
      "Please also refer to the documentation for alternative solver options:\n",
      "    https://scikit-learn.org/stable/modules/linear_model.html#logistic-regression\n",
      "  n_iter_i = _check_optimize_result(\n",
      "C:\\Users\\Stefi\\PycharmProjects\\PMLKaggle\\venv\\lib\\site-packages\\sklearn\\linear_model\\_logistic.py:460: ConvergenceWarning: lbfgs failed to converge (status=1):\n",
      "STOP: TOTAL NO. of ITERATIONS REACHED LIMIT.\n",
      "\n",
      "Increase the number of iterations (max_iter) or scale the data as shown in:\n",
      "    https://scikit-learn.org/stable/modules/preprocessing.html\n",
      "Please also refer to the documentation for alternative solver options:\n",
      "    https://scikit-learn.org/stable/modules/linear_model.html#logistic-regression\n",
      "  n_iter_i = _check_optimize_result(\n",
      "C:\\Users\\Stefi\\PycharmProjects\\PMLKaggle\\venv\\lib\\site-packages\\sklearn\\linear_model\\_logistic.py:460: ConvergenceWarning: lbfgs failed to converge (status=1):\n",
      "STOP: TOTAL NO. of ITERATIONS REACHED LIMIT.\n",
      "\n",
      "Increase the number of iterations (max_iter) or scale the data as shown in:\n",
      "    https://scikit-learn.org/stable/modules/preprocessing.html\n",
      "Please also refer to the documentation for alternative solver options:\n",
      "    https://scikit-learn.org/stable/modules/linear_model.html#logistic-regression\n",
      "  n_iter_i = _check_optimize_result(\n",
      "C:\\Users\\Stefi\\PycharmProjects\\PMLKaggle\\venv\\lib\\site-packages\\sklearn\\linear_model\\_logistic.py:460: ConvergenceWarning: lbfgs failed to converge (status=1):\n",
      "STOP: TOTAL NO. of ITERATIONS REACHED LIMIT.\n",
      "\n",
      "Increase the number of iterations (max_iter) or scale the data as shown in:\n",
      "    https://scikit-learn.org/stable/modules/preprocessing.html\n",
      "Please also refer to the documentation for alternative solver options:\n",
      "    https://scikit-learn.org/stable/modules/linear_model.html#logistic-regression\n",
      "  n_iter_i = _check_optimize_result(\n",
      "C:\\Users\\Stefi\\PycharmProjects\\PMLKaggle\\venv\\lib\\site-packages\\sklearn\\linear_model\\_logistic.py:460: ConvergenceWarning: lbfgs failed to converge (status=1):\n",
      "STOP: TOTAL NO. of ITERATIONS REACHED LIMIT.\n",
      "\n",
      "Increase the number of iterations (max_iter) or scale the data as shown in:\n",
      "    https://scikit-learn.org/stable/modules/preprocessing.html\n",
      "Please also refer to the documentation for alternative solver options:\n",
      "    https://scikit-learn.org/stable/modules/linear_model.html#logistic-regression\n",
      "  n_iter_i = _check_optimize_result(\n",
      "C:\\Users\\Stefi\\PycharmProjects\\PMLKaggle\\venv\\lib\\site-packages\\sklearn\\linear_model\\_logistic.py:460: ConvergenceWarning: lbfgs failed to converge (status=1):\n",
      "STOP: TOTAL NO. of ITERATIONS REACHED LIMIT.\n",
      "\n",
      "Increase the number of iterations (max_iter) or scale the data as shown in:\n",
      "    https://scikit-learn.org/stable/modules/preprocessing.html\n",
      "Please also refer to the documentation for alternative solver options:\n",
      "    https://scikit-learn.org/stable/modules/linear_model.html#logistic-regression\n",
      "  n_iter_i = _check_optimize_result(\n",
      "C:\\Users\\Stefi\\PycharmProjects\\PMLKaggle\\venv\\lib\\site-packages\\sklearn\\linear_model\\_logistic.py:460: ConvergenceWarning: lbfgs failed to converge (status=1):\n",
      "STOP: TOTAL NO. of ITERATIONS REACHED LIMIT.\n",
      "\n",
      "Increase the number of iterations (max_iter) or scale the data as shown in:\n",
      "    https://scikit-learn.org/stable/modules/preprocessing.html\n",
      "Please also refer to the documentation for alternative solver options:\n",
      "    https://scikit-learn.org/stable/modules/linear_model.html#logistic-regression\n",
      "  n_iter_i = _check_optimize_result(\n",
      "C:\\Users\\Stefi\\PycharmProjects\\PMLKaggle\\venv\\lib\\site-packages\\sklearn\\linear_model\\_logistic.py:460: ConvergenceWarning: lbfgs failed to converge (status=1):\n",
      "STOP: TOTAL NO. of ITERATIONS REACHED LIMIT.\n",
      "\n",
      "Increase the number of iterations (max_iter) or scale the data as shown in:\n",
      "    https://scikit-learn.org/stable/modules/preprocessing.html\n",
      "Please also refer to the documentation for alternative solver options:\n",
      "    https://scikit-learn.org/stable/modules/linear_model.html#logistic-regression\n",
      "  n_iter_i = _check_optimize_result(\n"
     ]
    },
    {
     "name": "stdout",
     "output_type": "stream",
     "text": [
      "0.7045\n",
      "{'max_features': 3000, 'solver': 'lbfgs', 'tol': 3, 'C': 0.3, 'n_gram': (1, 3)}\n",
      "[{'max_features': 3000, 'solver': 'lbfgs', 'tol': 5, 'C': 0.1, 'n_gram': (1, 1), 'accuracy': 0.691}, {'max_features': 3000, 'solver': 'lbfgs', 'tol': 5, 'C': 0.3, 'n_gram': (1, 1), 'accuracy': 0.6958333333333333}, {'max_features': 3000, 'solver': 'lbfgs', 'tol': 5, 'C': 3, 'n_gram': (1, 1), 'accuracy': 0.6936666666666667}, {'max_features': 3000, 'solver': 'lbfgs', 'tol': 5, 'C': 10, 'n_gram': (1, 1), 'accuracy': 0.6905}, {'max_features': 3000, 'solver': 'lbfgs', 'tol': 0.3, 'C': 0.1, 'n_gram': (1, 1), 'accuracy': 0.6906666666666667}, {'max_features': 3000, 'solver': 'lbfgs', 'tol': 0.3, 'C': 0.3, 'n_gram': (1, 1), 'accuracy': 0.6958333333333333}, {'max_features': 3000, 'solver': 'lbfgs', 'tol': 0.3, 'C': 3, 'n_gram': (1, 1), 'accuracy': 0.6936666666666667}, {'max_features': 3000, 'solver': 'lbfgs', 'tol': 0.3, 'C': 10, 'n_gram': (1, 1), 'accuracy': 0.6905}, {'max_features': 3000, 'solver': 'lbfgs', 'tol': 3, 'C': 0.1, 'n_gram': (1, 1), 'accuracy': 0.691}, {'max_features': 3000, 'solver': 'lbfgs', 'tol': 3, 'C': 0.3, 'n_gram': (1, 1), 'accuracy': 0.6951666666666667}, {'max_features': 3000, 'solver': 'lbfgs', 'tol': 3, 'C': 3, 'n_gram': (1, 1), 'accuracy': 0.6936666666666667}, {'max_features': 3000, 'solver': 'lbfgs', 'tol': 3, 'C': 10, 'n_gram': (1, 1), 'accuracy': 0.6905}, {'max_features': 3000, 'solver': 'liblinear', 'tol': 5, 'C': 0.1, 'n_gram': (1, 1), 'accuracy': 0.375}, {'max_features': 3000, 'solver': 'liblinear', 'tol': 5, 'C': 0.3, 'n_gram': (1, 1), 'accuracy': 0.375}, {'max_features': 3000, 'solver': 'liblinear', 'tol': 5, 'C': 3, 'n_gram': (1, 1), 'accuracy': 0.375}, {'max_features': 3000, 'solver': 'liblinear', 'tol': 5, 'C': 10, 'n_gram': (1, 1), 'accuracy': 0.375}, {'max_features': 3000, 'solver': 'liblinear', 'tol': 0.3, 'C': 0.1, 'n_gram': (1, 1), 'accuracy': 0.6473333333333333}, {'max_features': 3000, 'solver': 'liblinear', 'tol': 0.3, 'C': 0.3, 'n_gram': (1, 1), 'accuracy': 0.6623333333333333}, {'max_features': 3000, 'solver': 'liblinear', 'tol': 0.3, 'C': 3, 'n_gram': (1, 1), 'accuracy': 0.6598333333333334}, {'max_features': 3000, 'solver': 'liblinear', 'tol': 0.3, 'C': 10, 'n_gram': (1, 1), 'accuracy': 0.659}, {'max_features': 3000, 'solver': 'liblinear', 'tol': 3, 'C': 0.1, 'n_gram': (1, 1), 'accuracy': 0.375}, {'max_features': 3000, 'solver': 'liblinear', 'tol': 3, 'C': 0.3, 'n_gram': (1, 1), 'accuracy': 0.375}, {'max_features': 3000, 'solver': 'liblinear', 'tol': 3, 'C': 3, 'n_gram': (1, 1), 'accuracy': 0.375}, {'max_features': 3000, 'solver': 'liblinear', 'tol': 3, 'C': 10, 'n_gram': (1, 1), 'accuracy': 0.375}, {'max_features': 3000, 'solver': 'newton-cg', 'tol': 5, 'C': 0.1, 'n_gram': (1, 1), 'accuracy': 0.6913333333333334}, {'max_features': 3000, 'solver': 'newton-cg', 'tol': 5, 'C': 0.3, 'n_gram': (1, 1), 'accuracy': 0.6956666666666667}, {'max_features': 3000, 'solver': 'newton-cg', 'tol': 5, 'C': 3, 'n_gram': (1, 1), 'accuracy': 0.6955}, {'max_features': 3000, 'solver': 'newton-cg', 'tol': 5, 'C': 10, 'n_gram': (1, 1), 'accuracy': 0.6925}, {'max_features': 3000, 'solver': 'newton-cg', 'tol': 0.3, 'C': 0.1, 'n_gram': (1, 1), 'accuracy': 0.6906666666666667}, {'max_features': 3000, 'solver': 'newton-cg', 'tol': 0.3, 'C': 0.3, 'n_gram': (1, 1), 'accuracy': 0.696}, {'max_features': 3000, 'solver': 'newton-cg', 'tol': 0.3, 'C': 3, 'n_gram': (1, 1), 'accuracy': 0.6931666666666667}, {'max_features': 3000, 'solver': 'newton-cg', 'tol': 0.3, 'C': 10, 'n_gram': (1, 1), 'accuracy': 0.6918333333333333}, {'max_features': 3000, 'solver': 'newton-cg', 'tol': 3, 'C': 0.1, 'n_gram': (1, 1), 'accuracy': 0.6913333333333334}, {'max_features': 3000, 'solver': 'newton-cg', 'tol': 3, 'C': 0.3, 'n_gram': (1, 1), 'accuracy': 0.6963333333333334}, {'max_features': 3000, 'solver': 'newton-cg', 'tol': 3, 'C': 3, 'n_gram': (1, 1), 'accuracy': 0.695}, {'max_features': 3000, 'solver': 'newton-cg', 'tol': 3, 'C': 10, 'n_gram': (1, 1), 'accuracy': 0.6925}, {'max_features': 3000, 'solver': 'newton-cholesky', 'tol': 5, 'C': 0.1, 'n_gram': (1, 1), 'accuracy': 0.686}, {'max_features': 3000, 'solver': 'newton-cholesky', 'tol': 5, 'C': 0.3, 'n_gram': (1, 1), 'accuracy': 0.696}, {'max_features': 3000, 'solver': 'newton-cholesky', 'tol': 5, 'C': 3, 'n_gram': (1, 1), 'accuracy': 0.694}, {'max_features': 3000, 'solver': 'newton-cholesky', 'tol': 5, 'C': 10, 'n_gram': (1, 1), 'accuracy': 0.6873333333333334}, {'max_features': 3000, 'solver': 'newton-cholesky', 'tol': 0.3, 'C': 0.1, 'n_gram': (1, 1), 'accuracy': 0.686}, {'max_features': 3000, 'solver': 'newton-cholesky', 'tol': 0.3, 'C': 0.3, 'n_gram': (1, 1), 'accuracy': 0.696}, {'max_features': 3000, 'solver': 'newton-cholesky', 'tol': 0.3, 'C': 3, 'n_gram': (1, 1), 'accuracy': 0.694}, {'max_features': 3000, 'solver': 'newton-cholesky', 'tol': 0.3, 'C': 10, 'n_gram': (1, 1), 'accuracy': 0.6873333333333334}, {'max_features': 3000, 'solver': 'newton-cholesky', 'tol': 3, 'C': 0.1, 'n_gram': (1, 1), 'accuracy': 0.686}, {'max_features': 3000, 'solver': 'newton-cholesky', 'tol': 3, 'C': 0.3, 'n_gram': (1, 1), 'accuracy': 0.696}, {'max_features': 3000, 'solver': 'newton-cholesky', 'tol': 3, 'C': 3, 'n_gram': (1, 1), 'accuracy': 0.694}, {'max_features': 3000, 'solver': 'newton-cholesky', 'tol': 3, 'C': 10, 'n_gram': (1, 1), 'accuracy': 0.6873333333333334}, {'max_features': 3000, 'solver': 'sag', 'tol': 5, 'C': 0.1, 'n_gram': (1, 1), 'accuracy': 0.5693333333333334}, {'max_features': 3000, 'solver': 'sag', 'tol': 5, 'C': 0.3, 'n_gram': (1, 1), 'accuracy': 0.47}, {'max_features': 3000, 'solver': 'sag', 'tol': 5, 'C': 3, 'n_gram': (1, 1), 'accuracy': 0.6108333333333333}, {'max_features': 3000, 'solver': 'sag', 'tol': 5, 'C': 10, 'n_gram': (1, 1), 'accuracy': 0.6086666666666667}, {'max_features': 3000, 'solver': 'sag', 'tol': 0.3, 'C': 0.1, 'n_gram': (1, 1), 'accuracy': 0.6745}, {'max_features': 3000, 'solver': 'sag', 'tol': 0.3, 'C': 0.3, 'n_gram': (1, 1), 'accuracy': 0.6356666666666667}, {'max_features': 3000, 'solver': 'sag', 'tol': 0.3, 'C': 3, 'n_gram': (1, 1), 'accuracy': 0.6896666666666667}, {'max_features': 3000, 'solver': 'sag', 'tol': 0.3, 'C': 10, 'n_gram': (1, 1), 'accuracy': 0.675}, {'max_features': 3000, 'solver': 'sag', 'tol': 3, 'C': 0.1, 'n_gram': (1, 1), 'accuracy': 0.41183333333333333}, {'max_features': 3000, 'solver': 'sag', 'tol': 3, 'C': 0.3, 'n_gram': (1, 1), 'accuracy': 0.6145}, {'max_features': 3000, 'solver': 'sag', 'tol': 3, 'C': 3, 'n_gram': (1, 1), 'accuracy': 0.5996666666666667}, {'max_features': 3000, 'solver': 'sag', 'tol': 3, 'C': 10, 'n_gram': (1, 1), 'accuracy': 0.6025}, {'max_features': 3000, 'solver': 'saga', 'tol': 5, 'C': 0.1, 'n_gram': (1, 1), 'accuracy': 0.6498333333333334}, {'max_features': 3000, 'solver': 'saga', 'tol': 5, 'C': 0.3, 'n_gram': (1, 1), 'accuracy': 0.6546666666666666}, {'max_features': 3000, 'solver': 'saga', 'tol': 5, 'C': 3, 'n_gram': (1, 1), 'accuracy': 0.6776666666666666}, {'max_features': 3000, 'solver': 'saga', 'tol': 5, 'C': 10, 'n_gram': (1, 1), 'accuracy': 0.6743333333333333}, {'max_features': 3000, 'solver': 'saga', 'tol': 0.3, 'C': 0.1, 'n_gram': (1, 1), 'accuracy': 0.6533333333333333}, {'max_features': 3000, 'solver': 'saga', 'tol': 0.3, 'C': 0.3, 'n_gram': (1, 1), 'accuracy': 0.6928333333333333}, {'max_features': 3000, 'solver': 'saga', 'tol': 0.3, 'C': 3, 'n_gram': (1, 1), 'accuracy': 0.6835}, {'max_features': 3000, 'solver': 'saga', 'tol': 0.3, 'C': 10, 'n_gram': (1, 1), 'accuracy': 0.6828333333333333}, {'max_features': 3000, 'solver': 'saga', 'tol': 3, 'C': 0.1, 'n_gram': (1, 1), 'accuracy': 0.6816666666666666}, {'max_features': 3000, 'solver': 'saga', 'tol': 3, 'C': 0.3, 'n_gram': (1, 1), 'accuracy': 0.6596666666666666}, {'max_features': 3000, 'solver': 'saga', 'tol': 3, 'C': 3, 'n_gram': (1, 1), 'accuracy': 0.6806666666666666}, {'max_features': 3000, 'solver': 'saga', 'tol': 3, 'C': 10, 'n_gram': (1, 1), 'accuracy': 0.6705}, {'max_features': 3000, 'solver': 'lbfgs', 'tol': 5, 'C': 0.1, 'n_gram': (1, 2), 'accuracy': 0.6931666666666667}, {'max_features': 3000, 'solver': 'lbfgs', 'tol': 5, 'C': 0.3, 'n_gram': (1, 2), 'accuracy': 0.7035}, {'max_features': 3000, 'solver': 'lbfgs', 'tol': 5, 'C': 3, 'n_gram': (1, 2), 'accuracy': 0.7021666666666667}, {'max_features': 3000, 'solver': 'lbfgs', 'tol': 5, 'C': 10, 'n_gram': (1, 2), 'accuracy': 0.701}, {'max_features': 3000, 'solver': 'lbfgs', 'tol': 0.3, 'C': 0.1, 'n_gram': (1, 2), 'accuracy': 0.6933333333333334}, {'max_features': 3000, 'solver': 'lbfgs', 'tol': 0.3, 'C': 0.3, 'n_gram': (1, 2), 'accuracy': 0.703}, {'max_features': 3000, 'solver': 'lbfgs', 'tol': 0.3, 'C': 3, 'n_gram': (1, 2), 'accuracy': 0.7015}, {'max_features': 3000, 'solver': 'lbfgs', 'tol': 0.3, 'C': 10, 'n_gram': (1, 2), 'accuracy': 0.701}, {'max_features': 3000, 'solver': 'lbfgs', 'tol': 3, 'C': 0.1, 'n_gram': (1, 2), 'accuracy': 0.6931666666666667}, {'max_features': 3000, 'solver': 'lbfgs', 'tol': 3, 'C': 0.3, 'n_gram': (1, 2), 'accuracy': 0.7036666666666667}, {'max_features': 3000, 'solver': 'lbfgs', 'tol': 3, 'C': 3, 'n_gram': (1, 2), 'accuracy': 0.7021666666666667}, {'max_features': 3000, 'solver': 'lbfgs', 'tol': 3, 'C': 10, 'n_gram': (1, 2), 'accuracy': 0.701}, {'max_features': 3000, 'solver': 'liblinear', 'tol': 5, 'C': 0.1, 'n_gram': (1, 2), 'accuracy': 0.375}, {'max_features': 3000, 'solver': 'liblinear', 'tol': 5, 'C': 0.3, 'n_gram': (1, 2), 'accuracy': 0.375}, {'max_features': 3000, 'solver': 'liblinear', 'tol': 5, 'C': 3, 'n_gram': (1, 2), 'accuracy': 0.375}, {'max_features': 3000, 'solver': 'liblinear', 'tol': 5, 'C': 10, 'n_gram': (1, 2), 'accuracy': 0.375}, {'max_features': 3000, 'solver': 'liblinear', 'tol': 0.3, 'C': 0.1, 'n_gram': (1, 2), 'accuracy': 0.6605}, {'max_features': 3000, 'solver': 'liblinear', 'tol': 0.3, 'C': 0.3, 'n_gram': (1, 2), 'accuracy': 0.6693333333333333}, {'max_features': 3000, 'solver': 'liblinear', 'tol': 0.3, 'C': 3, 'n_gram': (1, 2), 'accuracy': 0.6676666666666666}, {'max_features': 3000, 'solver': 'liblinear', 'tol': 0.3, 'C': 10, 'n_gram': (1, 2), 'accuracy': 0.6676666666666666}, {'max_features': 3000, 'solver': 'liblinear', 'tol': 3, 'C': 0.1, 'n_gram': (1, 2), 'accuracy': 0.375}, {'max_features': 3000, 'solver': 'liblinear', 'tol': 3, 'C': 0.3, 'n_gram': (1, 2), 'accuracy': 0.375}, {'max_features': 3000, 'solver': 'liblinear', 'tol': 3, 'C': 3, 'n_gram': (1, 2), 'accuracy': 0.375}, {'max_features': 3000, 'solver': 'liblinear', 'tol': 3, 'C': 10, 'n_gram': (1, 2), 'accuracy': 0.375}, {'max_features': 3000, 'solver': 'newton-cg', 'tol': 5, 'C': 0.1, 'n_gram': (1, 2), 'accuracy': 0.6921666666666667}, {'max_features': 3000, 'solver': 'newton-cg', 'tol': 5, 'C': 0.3, 'n_gram': (1, 2), 'accuracy': 0.7035}, {'max_features': 3000, 'solver': 'newton-cg', 'tol': 5, 'C': 3, 'n_gram': (1, 2), 'accuracy': 0.7016666666666667}, {'max_features': 3000, 'solver': 'newton-cg', 'tol': 5, 'C': 10, 'n_gram': (1, 2), 'accuracy': 0.699}, {'max_features': 3000, 'solver': 'newton-cg', 'tol': 0.3, 'C': 0.1, 'n_gram': (1, 2), 'accuracy': 0.6931666666666667}, {'max_features': 3000, 'solver': 'newton-cg', 'tol': 0.3, 'C': 0.3, 'n_gram': (1, 2), 'accuracy': 0.703}, {'max_features': 3000, 'solver': 'newton-cg', 'tol': 0.3, 'C': 3, 'n_gram': (1, 2), 'accuracy': 0.702}, {'max_features': 3000, 'solver': 'newton-cg', 'tol': 0.3, 'C': 10, 'n_gram': (1, 2), 'accuracy': 0.6996666666666667}, {'max_features': 3000, 'solver': 'newton-cg', 'tol': 3, 'C': 0.1, 'n_gram': (1, 2), 'accuracy': 0.6935}, {'max_features': 3000, 'solver': 'newton-cg', 'tol': 3, 'C': 0.3, 'n_gram': (1, 2), 'accuracy': 0.7035}, {'max_features': 3000, 'solver': 'newton-cg', 'tol': 3, 'C': 3, 'n_gram': (1, 2), 'accuracy': 0.7016666666666667}, {'max_features': 3000, 'solver': 'newton-cg', 'tol': 3, 'C': 10, 'n_gram': (1, 2), 'accuracy': 0.6996666666666667}, {'max_features': 3000, 'solver': 'newton-cholesky', 'tol': 5, 'C': 0.1, 'n_gram': (1, 2), 'accuracy': 0.6895}, {'max_features': 3000, 'solver': 'newton-cholesky', 'tol': 5, 'C': 0.3, 'n_gram': (1, 2), 'accuracy': 0.7025}, {'max_features': 3000, 'solver': 'newton-cholesky', 'tol': 5, 'C': 3, 'n_gram': (1, 2), 'accuracy': 0.7031666666666667}, {'max_features': 3000, 'solver': 'newton-cholesky', 'tol': 5, 'C': 10, 'n_gram': (1, 2), 'accuracy': 0.7001666666666667}, {'max_features': 3000, 'solver': 'newton-cholesky', 'tol': 0.3, 'C': 0.1, 'n_gram': (1, 2), 'accuracy': 0.6895}, {'max_features': 3000, 'solver': 'newton-cholesky', 'tol': 0.3, 'C': 0.3, 'n_gram': (1, 2), 'accuracy': 0.7025}, {'max_features': 3000, 'solver': 'newton-cholesky', 'tol': 0.3, 'C': 3, 'n_gram': (1, 2), 'accuracy': 0.7031666666666667}, {'max_features': 3000, 'solver': 'newton-cholesky', 'tol': 0.3, 'C': 10, 'n_gram': (1, 2), 'accuracy': 0.7001666666666667}, {'max_features': 3000, 'solver': 'newton-cholesky', 'tol': 3, 'C': 0.1, 'n_gram': (1, 2), 'accuracy': 0.6895}, {'max_features': 3000, 'solver': 'newton-cholesky', 'tol': 3, 'C': 0.3, 'n_gram': (1, 2), 'accuracy': 0.7025}, {'max_features': 3000, 'solver': 'newton-cholesky', 'tol': 3, 'C': 3, 'n_gram': (1, 2), 'accuracy': 0.7031666666666667}, {'max_features': 3000, 'solver': 'newton-cholesky', 'tol': 3, 'C': 10, 'n_gram': (1, 2), 'accuracy': 0.7001666666666667}, {'max_features': 3000, 'solver': 'sag', 'tol': 5, 'C': 0.1, 'n_gram': (1, 2), 'accuracy': 0.5418333333333333}, {'max_features': 3000, 'solver': 'sag', 'tol': 5, 'C': 0.3, 'n_gram': (1, 2), 'accuracy': 0.5413333333333333}, {'max_features': 3000, 'solver': 'sag', 'tol': 5, 'C': 3, 'n_gram': (1, 2), 'accuracy': 0.6208333333333333}, {'max_features': 3000, 'solver': 'sag', 'tol': 5, 'C': 10, 'n_gram': (1, 2), 'accuracy': 0.6395}, {'max_features': 3000, 'solver': 'sag', 'tol': 0.3, 'C': 0.1, 'n_gram': (1, 2), 'accuracy': 0.6598333333333334}, {'max_features': 3000, 'solver': 'sag', 'tol': 0.3, 'C': 0.3, 'n_gram': (1, 2), 'accuracy': 0.5915}, {'max_features': 3000, 'solver': 'sag', 'tol': 0.3, 'C': 3, 'n_gram': (1, 2), 'accuracy': 0.6436666666666667}, {'max_features': 3000, 'solver': 'sag', 'tol': 0.3, 'C': 10, 'n_gram': (1, 2), 'accuracy': 0.6496666666666666}, {'max_features': 3000, 'solver': 'sag', 'tol': 3, 'C': 0.1, 'n_gram': (1, 2), 'accuracy': 0.5268333333333334}, {'max_features': 3000, 'solver': 'sag', 'tol': 3, 'C': 0.3, 'n_gram': (1, 2), 'accuracy': 0.673}, {'max_features': 3000, 'solver': 'sag', 'tol': 3, 'C': 3, 'n_gram': (1, 2), 'accuracy': 0.5716666666666667}, {'max_features': 3000, 'solver': 'sag', 'tol': 3, 'C': 10, 'n_gram': (1, 2), 'accuracy': 0.635}, {'max_features': 3000, 'solver': 'saga', 'tol': 5, 'C': 0.1, 'n_gram': (1, 2), 'accuracy': 0.6713333333333333}, {'max_features': 3000, 'solver': 'saga', 'tol': 5, 'C': 0.3, 'n_gram': (1, 2), 'accuracy': 0.6876666666666666}, {'max_features': 3000, 'solver': 'saga', 'tol': 5, 'C': 3, 'n_gram': (1, 2), 'accuracy': 0.6631666666666667}, {'max_features': 3000, 'solver': 'saga', 'tol': 5, 'C': 10, 'n_gram': (1, 2), 'accuracy': 0.6511666666666667}, {'max_features': 3000, 'solver': 'saga', 'tol': 0.3, 'C': 0.1, 'n_gram': (1, 2), 'accuracy': 0.6738333333333333}, {'max_features': 3000, 'solver': 'saga', 'tol': 0.3, 'C': 0.3, 'n_gram': (1, 2), 'accuracy': 0.691}, {'max_features': 3000, 'solver': 'saga', 'tol': 0.3, 'C': 3, 'n_gram': (1, 2), 'accuracy': 0.649}, {'max_features': 3000, 'solver': 'saga', 'tol': 0.3, 'C': 10, 'n_gram': (1, 2), 'accuracy': 0.679}, {'max_features': 3000, 'solver': 'saga', 'tol': 3, 'C': 0.1, 'n_gram': (1, 2), 'accuracy': 0.6736666666666666}, {'max_features': 3000, 'solver': 'saga', 'tol': 3, 'C': 0.3, 'n_gram': (1, 2), 'accuracy': 0.68}, {'max_features': 3000, 'solver': 'saga', 'tol': 3, 'C': 3, 'n_gram': (1, 2), 'accuracy': 0.68}, {'max_features': 3000, 'solver': 'saga', 'tol': 3, 'C': 10, 'n_gram': (1, 2), 'accuracy': 0.68}, {'max_features': 3000, 'solver': 'lbfgs', 'tol': 5, 'C': 0.1, 'n_gram': (1, 3), 'accuracy': 0.6935}, {'max_features': 3000, 'solver': 'lbfgs', 'tol': 5, 'C': 0.3, 'n_gram': (1, 3), 'accuracy': 0.7043333333333334}, {'max_features': 3000, 'solver': 'lbfgs', 'tol': 5, 'C': 3, 'n_gram': (1, 3), 'accuracy': 0.7016666666666667}, {'max_features': 3000, 'solver': 'lbfgs', 'tol': 5, 'C': 10, 'n_gram': (1, 3), 'accuracy': 0.7003333333333334}, {'max_features': 3000, 'solver': 'lbfgs', 'tol': 0.3, 'C': 0.1, 'n_gram': (1, 3), 'accuracy': 0.6936666666666667}, {'max_features': 3000, 'solver': 'lbfgs', 'tol': 0.3, 'C': 0.3, 'n_gram': (1, 3), 'accuracy': 0.7038333333333333}, {'max_features': 3000, 'solver': 'lbfgs', 'tol': 0.3, 'C': 3, 'n_gram': (1, 3), 'accuracy': 0.7016666666666667}, {'max_features': 3000, 'solver': 'lbfgs', 'tol': 0.3, 'C': 10, 'n_gram': (1, 3), 'accuracy': 0.7003333333333334}, {'max_features': 3000, 'solver': 'lbfgs', 'tol': 3, 'C': 0.1, 'n_gram': (1, 3), 'accuracy': 0.693}, {'max_features': 3000, 'solver': 'lbfgs', 'tol': 3, 'C': 0.3, 'n_gram': (1, 3), 'accuracy': 0.7045}, {'max_features': 3000, 'solver': 'lbfgs', 'tol': 3, 'C': 3, 'n_gram': (1, 3), 'accuracy': 0.7016666666666667}, {'max_features': 3000, 'solver': 'lbfgs', 'tol': 3, 'C': 10, 'n_gram': (1, 3), 'accuracy': 0.7003333333333334}, {'max_features': 3000, 'solver': 'liblinear', 'tol': 5, 'C': 0.1, 'n_gram': (1, 3), 'accuracy': 0.375}, {'max_features': 3000, 'solver': 'liblinear', 'tol': 5, 'C': 0.3, 'n_gram': (1, 3), 'accuracy': 0.375}, {'max_features': 3000, 'solver': 'liblinear', 'tol': 5, 'C': 3, 'n_gram': (1, 3), 'accuracy': 0.375}, {'max_features': 3000, 'solver': 'liblinear', 'tol': 5, 'C': 10, 'n_gram': (1, 3), 'accuracy': 0.375}, {'max_features': 3000, 'solver': 'liblinear', 'tol': 0.3, 'C': 0.1, 'n_gram': (1, 3), 'accuracy': 0.6598333333333334}, {'max_features': 3000, 'solver': 'liblinear', 'tol': 0.3, 'C': 0.3, 'n_gram': (1, 3), 'accuracy': 0.6685}, {'max_features': 3000, 'solver': 'liblinear', 'tol': 0.3, 'C': 3, 'n_gram': (1, 3), 'accuracy': 0.6681666666666667}, {'max_features': 3000, 'solver': 'liblinear', 'tol': 0.3, 'C': 10, 'n_gram': (1, 3), 'accuracy': 0.6678333333333333}, {'max_features': 3000, 'solver': 'liblinear', 'tol': 3, 'C': 0.1, 'n_gram': (1, 3), 'accuracy': 0.375}, {'max_features': 3000, 'solver': 'liblinear', 'tol': 3, 'C': 0.3, 'n_gram': (1, 3), 'accuracy': 0.375}, {'max_features': 3000, 'solver': 'liblinear', 'tol': 3, 'C': 3, 'n_gram': (1, 3), 'accuracy': 0.375}, {'max_features': 3000, 'solver': 'liblinear', 'tol': 3, 'C': 10, 'n_gram': (1, 3), 'accuracy': 0.375}, {'max_features': 3000, 'solver': 'newton-cg', 'tol': 5, 'C': 0.1, 'n_gram': (1, 3), 'accuracy': 0.6925}, {'max_features': 3000, 'solver': 'newton-cg', 'tol': 5, 'C': 0.3, 'n_gram': (1, 3), 'accuracy': 0.7036666666666667}, {'max_features': 3000, 'solver': 'newton-cg', 'tol': 5, 'C': 3, 'n_gram': (1, 3), 'accuracy': 0.7018333333333333}, {'max_features': 3000, 'solver': 'newton-cg', 'tol': 5, 'C': 10, 'n_gram': (1, 3), 'accuracy': 0.6985}, {'max_features': 3000, 'solver': 'newton-cg', 'tol': 0.3, 'C': 0.1, 'n_gram': (1, 3), 'accuracy': 0.6935}, {'max_features': 3000, 'solver': 'newton-cg', 'tol': 0.3, 'C': 0.3, 'n_gram': (1, 3), 'accuracy': 0.704}, {'max_features': 3000, 'solver': 'newton-cg', 'tol': 0.3, 'C': 3, 'n_gram': (1, 3), 'accuracy': 0.7025}, {'max_features': 3000, 'solver': 'newton-cg', 'tol': 0.3, 'C': 10, 'n_gram': (1, 3), 'accuracy': 0.6991666666666667}, {'max_features': 3000, 'solver': 'newton-cg', 'tol': 3, 'C': 0.1, 'n_gram': (1, 3), 'accuracy': 0.6933333333333334}, {'max_features': 3000, 'solver': 'newton-cg', 'tol': 3, 'C': 0.3, 'n_gram': (1, 3), 'accuracy': 0.7036666666666667}, {'max_features': 3000, 'solver': 'newton-cg', 'tol': 3, 'C': 3, 'n_gram': (1, 3), 'accuracy': 0.7011666666666667}, {'max_features': 3000, 'solver': 'newton-cg', 'tol': 3, 'C': 10, 'n_gram': (1, 3), 'accuracy': 0.7}, {'max_features': 3000, 'solver': 'newton-cholesky', 'tol': 5, 'C': 0.1, 'n_gram': (1, 3), 'accuracy': 0.689}, {'max_features': 3000, 'solver': 'newton-cholesky', 'tol': 5, 'C': 0.3, 'n_gram': (1, 3), 'accuracy': 0.7021666666666667}, {'max_features': 3000, 'solver': 'newton-cholesky', 'tol': 5, 'C': 3, 'n_gram': (1, 3), 'accuracy': 0.7028333333333333}, {'max_features': 3000, 'solver': 'newton-cholesky', 'tol': 5, 'C': 10, 'n_gram': (1, 3), 'accuracy': 0.6996666666666667}, {'max_features': 3000, 'solver': 'newton-cholesky', 'tol': 0.3, 'C': 0.1, 'n_gram': (1, 3), 'accuracy': 0.689}, {'max_features': 3000, 'solver': 'newton-cholesky', 'tol': 0.3, 'C': 0.3, 'n_gram': (1, 3), 'accuracy': 0.7021666666666667}, {'max_features': 3000, 'solver': 'newton-cholesky', 'tol': 0.3, 'C': 3, 'n_gram': (1, 3), 'accuracy': 0.7028333333333333}, {'max_features': 3000, 'solver': 'newton-cholesky', 'tol': 0.3, 'C': 10, 'n_gram': (1, 3), 'accuracy': 0.6996666666666667}, {'max_features': 3000, 'solver': 'newton-cholesky', 'tol': 3, 'C': 0.1, 'n_gram': (1, 3), 'accuracy': 0.689}, {'max_features': 3000, 'solver': 'newton-cholesky', 'tol': 3, 'C': 0.3, 'n_gram': (1, 3), 'accuracy': 0.7021666666666667}, {'max_features': 3000, 'solver': 'newton-cholesky', 'tol': 3, 'C': 3, 'n_gram': (1, 3), 'accuracy': 0.7028333333333333}, {'max_features': 3000, 'solver': 'newton-cholesky', 'tol': 3, 'C': 10, 'n_gram': (1, 3), 'accuracy': 0.6996666666666667}, {'max_features': 3000, 'solver': 'sag', 'tol': 5, 'C': 0.1, 'n_gram': (1, 3), 'accuracy': 0.5751666666666667}, {'max_features': 3000, 'solver': 'sag', 'tol': 5, 'C': 0.3, 'n_gram': (1, 3), 'accuracy': 0.47683333333333333}, {'max_features': 3000, 'solver': 'sag', 'tol': 5, 'C': 3, 'n_gram': (1, 3), 'accuracy': 0.6325}, {'max_features': 3000, 'solver': 'sag', 'tol': 5, 'C': 10, 'n_gram': (1, 3), 'accuracy': 0.6476666666666666}, {'max_features': 3000, 'solver': 'sag', 'tol': 0.3, 'C': 0.1, 'n_gram': (1, 3), 'accuracy': 0.39466666666666667}, {'max_features': 3000, 'solver': 'sag', 'tol': 0.3, 'C': 0.3, 'n_gram': (1, 3), 'accuracy': 0.6531666666666667}, {'max_features': 3000, 'solver': 'sag', 'tol': 0.3, 'C': 3, 'n_gram': (1, 3), 'accuracy': 0.6045}, {'max_features': 3000, 'solver': 'sag', 'tol': 0.3, 'C': 10, 'n_gram': (1, 3), 'accuracy': 0.6805}, {'max_features': 3000, 'solver': 'sag', 'tol': 3, 'C': 0.1, 'n_gram': (1, 3), 'accuracy': 0.4761666666666667}, {'max_features': 3000, 'solver': 'sag', 'tol': 3, 'C': 0.3, 'n_gram': (1, 3), 'accuracy': 0.567}, {'max_features': 3000, 'solver': 'sag', 'tol': 3, 'C': 3, 'n_gram': (1, 3), 'accuracy': 0.6476666666666666}, {'max_features': 3000, 'solver': 'sag', 'tol': 3, 'C': 10, 'n_gram': (1, 3), 'accuracy': 0.5318333333333334}, {'max_features': 3000, 'solver': 'saga', 'tol': 5, 'C': 0.1, 'n_gram': (1, 3), 'accuracy': 0.684}, {'max_features': 3000, 'solver': 'saga', 'tol': 5, 'C': 0.3, 'n_gram': (1, 3), 'accuracy': 0.6776666666666666}, {'max_features': 3000, 'solver': 'saga', 'tol': 5, 'C': 3, 'n_gram': (1, 3), 'accuracy': 0.6708333333333333}, {'max_features': 3000, 'solver': 'saga', 'tol': 5, 'C': 10, 'n_gram': (1, 3), 'accuracy': 0.648}, {'max_features': 3000, 'solver': 'saga', 'tol': 0.3, 'C': 0.1, 'n_gram': (1, 3), 'accuracy': 0.6958333333333333}, {'max_features': 3000, 'solver': 'saga', 'tol': 0.3, 'C': 0.3, 'n_gram': (1, 3), 'accuracy': 0.6953333333333334}, {'max_features': 3000, 'solver': 'saga', 'tol': 0.3, 'C': 3, 'n_gram': (1, 3), 'accuracy': 0.6945}, {'max_features': 3000, 'solver': 'saga', 'tol': 0.3, 'C': 10, 'n_gram': (1, 3), 'accuracy': 0.6836666666666666}, {'max_features': 3000, 'solver': 'saga', 'tol': 3, 'C': 0.1, 'n_gram': (1, 3), 'accuracy': 0.6873333333333334}, {'max_features': 3000, 'solver': 'saga', 'tol': 3, 'C': 0.3, 'n_gram': (1, 3), 'accuracy': 0.6645}, {'max_features': 3000, 'solver': 'saga', 'tol': 3, 'C': 3, 'n_gram': (1, 3), 'accuracy': 0.6703333333333333}, {'max_features': 3000, 'solver': 'saga', 'tol': 3, 'C': 10, 'n_gram': (1, 3), 'accuracy': 0.6593333333333333}, {'max_features': 5000, 'solver': 'lbfgs', 'tol': 5, 'C': 0.1, 'n_gram': (1, 1), 'accuracy': 0.69}, {'max_features': 5000, 'solver': 'lbfgs', 'tol': 5, 'C': 0.3, 'n_gram': (1, 1), 'accuracy': 0.6958333333333333}, {'max_features': 5000, 'solver': 'lbfgs', 'tol': 5, 'C': 3, 'n_gram': (1, 1), 'accuracy': 0.6925}, {'max_features': 5000, 'solver': 'lbfgs', 'tol': 5, 'C': 10, 'n_gram': (1, 1), 'accuracy': 0.6856666666666666}, {'max_features': 5000, 'solver': 'lbfgs', 'tol': 0.3, 'C': 0.1, 'n_gram': (1, 1), 'accuracy': 0.6898333333333333}, {'max_features': 5000, 'solver': 'lbfgs', 'tol': 0.3, 'C': 0.3, 'n_gram': (1, 1), 'accuracy': 0.6961666666666667}, {'max_features': 5000, 'solver': 'lbfgs', 'tol': 0.3, 'C': 3, 'n_gram': (1, 1), 'accuracy': 0.6925}, {'max_features': 5000, 'solver': 'lbfgs', 'tol': 0.3, 'C': 10, 'n_gram': (1, 1), 'accuracy': 0.6856666666666666}, {'max_features': 5000, 'solver': 'lbfgs', 'tol': 3, 'C': 0.1, 'n_gram': (1, 1), 'accuracy': 0.69}, {'max_features': 5000, 'solver': 'lbfgs', 'tol': 3, 'C': 0.3, 'n_gram': (1, 1), 'accuracy': 0.6961666666666667}, {'max_features': 5000, 'solver': 'lbfgs', 'tol': 3, 'C': 3, 'n_gram': (1, 1), 'accuracy': 0.6925}, {'max_features': 5000, 'solver': 'lbfgs', 'tol': 3, 'C': 10, 'n_gram': (1, 1), 'accuracy': 0.6856666666666666}, {'max_features': 5000, 'solver': 'liblinear', 'tol': 5, 'C': 0.1, 'n_gram': (1, 1), 'accuracy': 0.375}, {'max_features': 5000, 'solver': 'liblinear', 'tol': 5, 'C': 0.3, 'n_gram': (1, 1), 'accuracy': 0.375}, {'max_features': 5000, 'solver': 'liblinear', 'tol': 5, 'C': 3, 'n_gram': (1, 1), 'accuracy': 0.375}, {'max_features': 5000, 'solver': 'liblinear', 'tol': 5, 'C': 10, 'n_gram': (1, 1), 'accuracy': 0.375}, {'max_features': 5000, 'solver': 'liblinear', 'tol': 0.3, 'C': 0.1, 'n_gram': (1, 1), 'accuracy': 0.6461666666666667}, {'max_features': 5000, 'solver': 'liblinear', 'tol': 0.3, 'C': 0.3, 'n_gram': (1, 1), 'accuracy': 0.6628333333333334}, {'max_features': 5000, 'solver': 'liblinear', 'tol': 0.3, 'C': 3, 'n_gram': (1, 1), 'accuracy': 0.6595}, {'max_features': 5000, 'solver': 'liblinear', 'tol': 0.3, 'C': 10, 'n_gram': (1, 1), 'accuracy': 0.6591666666666667}, {'max_features': 5000, 'solver': 'liblinear', 'tol': 3, 'C': 0.1, 'n_gram': (1, 1), 'accuracy': 0.375}, {'max_features': 5000, 'solver': 'liblinear', 'tol': 3, 'C': 0.3, 'n_gram': (1, 1), 'accuracy': 0.375}, {'max_features': 5000, 'solver': 'liblinear', 'tol': 3, 'C': 3, 'n_gram': (1, 1), 'accuracy': 0.375}, {'max_features': 5000, 'solver': 'liblinear', 'tol': 3, 'C': 10, 'n_gram': (1, 1), 'accuracy': 0.375}, {'max_features': 5000, 'solver': 'newton-cg', 'tol': 5, 'C': 0.1, 'n_gram': (1, 1), 'accuracy': 0.6901666666666667}, {'max_features': 5000, 'solver': 'newton-cg', 'tol': 5, 'C': 0.3, 'n_gram': (1, 1), 'accuracy': 0.6963333333333334}, {'max_features': 5000, 'solver': 'newton-cg', 'tol': 5, 'C': 3, 'n_gram': (1, 1), 'accuracy': 0.6938333333333333}, {'max_features': 5000, 'solver': 'newton-cg', 'tol': 5, 'C': 10, 'n_gram': (1, 1), 'accuracy': 0.6845}, {'max_features': 5000, 'solver': 'newton-cg', 'tol': 0.3, 'C': 0.1, 'n_gram': (1, 1), 'accuracy': 0.69}, {'max_features': 5000, 'solver': 'newton-cg', 'tol': 0.3, 'C': 0.3, 'n_gram': (1, 1), 'accuracy': 0.6963333333333334}, {'max_features': 5000, 'solver': 'newton-cg', 'tol': 0.3, 'C': 3, 'n_gram': (1, 1), 'accuracy': 0.6928333333333333}, {'max_features': 5000, 'solver': 'newton-cg', 'tol': 0.3, 'C': 10, 'n_gram': (1, 1), 'accuracy': 0.6845}, {'max_features': 5000, 'solver': 'newton-cg', 'tol': 3, 'C': 0.1, 'n_gram': (1, 1), 'accuracy': 0.6901666666666667}, {'max_features': 5000, 'solver': 'newton-cg', 'tol': 3, 'C': 0.3, 'n_gram': (1, 1), 'accuracy': 0.6963333333333334}, {'max_features': 5000, 'solver': 'newton-cg', 'tol': 3, 'C': 3, 'n_gram': (1, 1), 'accuracy': 0.6938333333333333}, {'max_features': 5000, 'solver': 'newton-cg', 'tol': 3, 'C': 10, 'n_gram': (1, 1), 'accuracy': 0.685}, {'max_features': 5000, 'solver': 'newton-cholesky', 'tol': 5, 'C': 0.1, 'n_gram': (1, 1), 'accuracy': 0.6865}, {'max_features': 5000, 'solver': 'newton-cholesky', 'tol': 5, 'C': 0.3, 'n_gram': (1, 1), 'accuracy': 0.6956666666666667}, {'max_features': 5000, 'solver': 'newton-cholesky', 'tol': 5, 'C': 3, 'n_gram': (1, 1), 'accuracy': 0.6888333333333333}, {'max_features': 5000, 'solver': 'newton-cholesky', 'tol': 5, 'C': 10, 'n_gram': (1, 1), 'accuracy': 0.679}, {'max_features': 5000, 'solver': 'newton-cholesky', 'tol': 0.3, 'C': 0.1, 'n_gram': (1, 1), 'accuracy': 0.6865}, {'max_features': 5000, 'solver': 'newton-cholesky', 'tol': 0.3, 'C': 0.3, 'n_gram': (1, 1), 'accuracy': 0.6956666666666667}, {'max_features': 5000, 'solver': 'newton-cholesky', 'tol': 0.3, 'C': 3, 'n_gram': (1, 1), 'accuracy': 0.6888333333333333}, {'max_features': 5000, 'solver': 'newton-cholesky', 'tol': 0.3, 'C': 10, 'n_gram': (1, 1), 'accuracy': 0.679}, {'max_features': 5000, 'solver': 'newton-cholesky', 'tol': 3, 'C': 0.1, 'n_gram': (1, 1), 'accuracy': 0.6865}, {'max_features': 5000, 'solver': 'newton-cholesky', 'tol': 3, 'C': 0.3, 'n_gram': (1, 1), 'accuracy': 0.6956666666666667}, {'max_features': 5000, 'solver': 'newton-cholesky', 'tol': 3, 'C': 3, 'n_gram': (1, 1), 'accuracy': 0.6888333333333333}, {'max_features': 5000, 'solver': 'newton-cholesky', 'tol': 3, 'C': 10, 'n_gram': (1, 1), 'accuracy': 0.679}, {'max_features': 5000, 'solver': 'sag', 'tol': 5, 'C': 0.1, 'n_gram': (1, 1), 'accuracy': 0.539}, {'max_features': 5000, 'solver': 'sag', 'tol': 5, 'C': 0.3, 'n_gram': (1, 1), 'accuracy': 0.5265}, {'max_features': 5000, 'solver': 'sag', 'tol': 5, 'C': 3, 'n_gram': (1, 1), 'accuracy': 0.5681666666666667}, {'max_features': 5000, 'solver': 'sag', 'tol': 5, 'C': 10, 'n_gram': (1, 1), 'accuracy': 0.618}, {'max_features': 5000, 'solver': 'sag', 'tol': 0.3, 'C': 0.1, 'n_gram': (1, 1), 'accuracy': 0.6561666666666667}, {'max_features': 5000, 'solver': 'sag', 'tol': 0.3, 'C': 0.3, 'n_gram': (1, 1), 'accuracy': 0.643}, {'max_features': 5000, 'solver': 'sag', 'tol': 0.3, 'C': 3, 'n_gram': (1, 1), 'accuracy': 0.6725}, {'max_features': 5000, 'solver': 'sag', 'tol': 0.3, 'C': 10, 'n_gram': (1, 1), 'accuracy': 0.6705}, {'max_features': 5000, 'solver': 'sag', 'tol': 3, 'C': 0.1, 'n_gram': (1, 1), 'accuracy': 0.5693333333333334}, {'max_features': 5000, 'solver': 'sag', 'tol': 3, 'C': 0.3, 'n_gram': (1, 1), 'accuracy': 0.582}, {'max_features': 5000, 'solver': 'sag', 'tol': 3, 'C': 3, 'n_gram': (1, 1), 'accuracy': 0.653}, {'max_features': 5000, 'solver': 'sag', 'tol': 3, 'C': 10, 'n_gram': (1, 1), 'accuracy': 0.6406666666666667}, {'max_features': 5000, 'solver': 'saga', 'tol': 5, 'C': 0.1, 'n_gram': (1, 1), 'accuracy': 0.677}, {'max_features': 5000, 'solver': 'saga', 'tol': 5, 'C': 0.3, 'n_gram': (1, 1), 'accuracy': 0.676}, {'max_features': 5000, 'solver': 'saga', 'tol': 5, 'C': 3, 'n_gram': (1, 1), 'accuracy': 0.6695}, {'max_features': 5000, 'solver': 'saga', 'tol': 5, 'C': 10, 'n_gram': (1, 1), 'accuracy': 0.6545}, {'max_features': 5000, 'solver': 'saga', 'tol': 0.3, 'C': 0.1, 'n_gram': (1, 1), 'accuracy': 0.6468333333333334}, {'max_features': 5000, 'solver': 'saga', 'tol': 0.3, 'C': 0.3, 'n_gram': (1, 1), 'accuracy': 0.6806666666666666}, {'max_features': 5000, 'solver': 'saga', 'tol': 0.3, 'C': 3, 'n_gram': (1, 1), 'accuracy': 0.6906666666666667}, {'max_features': 5000, 'solver': 'saga', 'tol': 0.3, 'C': 10, 'n_gram': (1, 1), 'accuracy': 0.684}, {'max_features': 5000, 'solver': 'saga', 'tol': 3, 'C': 0.1, 'n_gram': (1, 1), 'accuracy': 0.6306666666666667}, {'max_features': 5000, 'solver': 'saga', 'tol': 3, 'C': 0.3, 'n_gram': (1, 1), 'accuracy': 0.6708333333333333}, {'max_features': 5000, 'solver': 'saga', 'tol': 3, 'C': 3, 'n_gram': (1, 1), 'accuracy': 0.679}, {'max_features': 5000, 'solver': 'saga', 'tol': 3, 'C': 10, 'n_gram': (1, 1), 'accuracy': 0.6625}, {'max_features': 5000, 'solver': 'lbfgs', 'tol': 5, 'C': 0.1, 'n_gram': (1, 2), 'accuracy': 0.6941666666666667}, {'max_features': 5000, 'solver': 'lbfgs', 'tol': 5, 'C': 0.3, 'n_gram': (1, 2), 'accuracy': 0.7045}, {'max_features': 5000, 'solver': 'lbfgs', 'tol': 5, 'C': 3, 'n_gram': (1, 2), 'accuracy': 0.702}, {'max_features': 5000, 'solver': 'lbfgs', 'tol': 5, 'C': 10, 'n_gram': (1, 2), 'accuracy': 0.6915}, {'max_features': 5000, 'solver': 'lbfgs', 'tol': 0.3, 'C': 0.1, 'n_gram': (1, 2), 'accuracy': 0.6938333333333333}, {'max_features': 5000, 'solver': 'lbfgs', 'tol': 0.3, 'C': 0.3, 'n_gram': (1, 2), 'accuracy': 0.7038333333333333}, {'max_features': 5000, 'solver': 'lbfgs', 'tol': 0.3, 'C': 3, 'n_gram': (1, 2), 'accuracy': 0.702}, {'max_features': 5000, 'solver': 'lbfgs', 'tol': 0.3, 'C': 10, 'n_gram': (1, 2), 'accuracy': 0.6915}, {'max_features': 5000, 'solver': 'lbfgs', 'tol': 3, 'C': 0.1, 'n_gram': (1, 2), 'accuracy': 0.6936666666666667}, {'max_features': 5000, 'solver': 'lbfgs', 'tol': 3, 'C': 0.3, 'n_gram': (1, 2), 'accuracy': 0.7031666666666667}, {'max_features': 5000, 'solver': 'lbfgs', 'tol': 3, 'C': 3, 'n_gram': (1, 2), 'accuracy': 0.702}, {'max_features': 5000, 'solver': 'lbfgs', 'tol': 3, 'C': 10, 'n_gram': (1, 2), 'accuracy': 0.6915}, {'max_features': 5000, 'solver': 'liblinear', 'tol': 5, 'C': 0.1, 'n_gram': (1, 2), 'accuracy': 0.375}, {'max_features': 5000, 'solver': 'liblinear', 'tol': 5, 'C': 0.3, 'n_gram': (1, 2), 'accuracy': 0.375}, {'max_features': 5000, 'solver': 'liblinear', 'tol': 5, 'C': 3, 'n_gram': (1, 2), 'accuracy': 0.375}, {'max_features': 5000, 'solver': 'liblinear', 'tol': 5, 'C': 10, 'n_gram': (1, 2), 'accuracy': 0.375}, {'max_features': 5000, 'solver': 'liblinear', 'tol': 0.3, 'C': 0.1, 'n_gram': (1, 2), 'accuracy': 0.6598333333333334}, {'max_features': 5000, 'solver': 'liblinear', 'tol': 0.3, 'C': 0.3, 'n_gram': (1, 2), 'accuracy': 0.6695}, {'max_features': 5000, 'solver': 'liblinear', 'tol': 0.3, 'C': 3, 'n_gram': (1, 2), 'accuracy': 0.6688333333333333}, {'max_features': 5000, 'solver': 'liblinear', 'tol': 0.3, 'C': 10, 'n_gram': (1, 2), 'accuracy': 0.6675}, {'max_features': 5000, 'solver': 'liblinear', 'tol': 3, 'C': 0.1, 'n_gram': (1, 2), 'accuracy': 0.375}, {'max_features': 5000, 'solver': 'liblinear', 'tol': 3, 'C': 0.3, 'n_gram': (1, 2), 'accuracy': 0.375}, {'max_features': 5000, 'solver': 'liblinear', 'tol': 3, 'C': 3, 'n_gram': (1, 2), 'accuracy': 0.375}, {'max_features': 5000, 'solver': 'liblinear', 'tol': 3, 'C': 10, 'n_gram': (1, 2), 'accuracy': 0.375}, {'max_features': 5000, 'solver': 'newton-cg', 'tol': 5, 'C': 0.1, 'n_gram': (1, 2), 'accuracy': 0.6935}, {'max_features': 5000, 'solver': 'newton-cg', 'tol': 5, 'C': 0.3, 'n_gram': (1, 2), 'accuracy': 0.704}, {'max_features': 5000, 'solver': 'newton-cg', 'tol': 5, 'C': 3, 'n_gram': (1, 2), 'accuracy': 0.7016666666666667}, {'max_features': 5000, 'solver': 'newton-cg', 'tol': 5, 'C': 10, 'n_gram': (1, 2), 'accuracy': 0.6931666666666667}, {'max_features': 5000, 'solver': 'newton-cg', 'tol': 0.3, 'C': 0.1, 'n_gram': (1, 2), 'accuracy': 0.6938333333333333}, {'max_features': 5000, 'solver': 'newton-cg', 'tol': 0.3, 'C': 0.3, 'n_gram': (1, 2), 'accuracy': 0.7038333333333333}, {'max_features': 5000, 'solver': 'newton-cg', 'tol': 0.3, 'C': 3, 'n_gram': (1, 2), 'accuracy': 0.7031666666666667}, {'max_features': 5000, 'solver': 'newton-cg', 'tol': 0.3, 'C': 10, 'n_gram': (1, 2), 'accuracy': 0.6923333333333334}, {'max_features': 5000, 'solver': 'newton-cg', 'tol': 3, 'C': 0.1, 'n_gram': (1, 2), 'accuracy': 0.6935}, {'max_features': 5000, 'solver': 'newton-cg', 'tol': 3, 'C': 0.3, 'n_gram': (1, 2), 'accuracy': 0.704}, {'max_features': 5000, 'solver': 'newton-cg', 'tol': 3, 'C': 3, 'n_gram': (1, 2), 'accuracy': 0.7026666666666667}, {'max_features': 5000, 'solver': 'newton-cg', 'tol': 3, 'C': 10, 'n_gram': (1, 2), 'accuracy': 0.6928333333333333}, {'max_features': 5000, 'solver': 'newton-cholesky', 'tol': 5, 'C': 0.1, 'n_gram': (1, 2), 'accuracy': 0.6913333333333334}, {'max_features': 5000, 'solver': 'newton-cholesky', 'tol': 5, 'C': 0.3, 'n_gram': (1, 2), 'accuracy': 0.7038333333333333}, {'max_features': 5000, 'solver': 'newton-cholesky', 'tol': 5, 'C': 3, 'n_gram': (1, 2), 'accuracy': 0.6998333333333333}, {'max_features': 5000, 'solver': 'newton-cholesky', 'tol': 5, 'C': 10, 'n_gram': (1, 2), 'accuracy': 0.695}, {'max_features': 5000, 'solver': 'newton-cholesky', 'tol': 0.3, 'C': 0.1, 'n_gram': (1, 2), 'accuracy': 0.6913333333333334}, {'max_features': 5000, 'solver': 'newton-cholesky', 'tol': 0.3, 'C': 0.3, 'n_gram': (1, 2), 'accuracy': 0.7038333333333333}, {'max_features': 5000, 'solver': 'newton-cholesky', 'tol': 0.3, 'C': 3, 'n_gram': (1, 2), 'accuracy': 0.6998333333333333}, {'max_features': 5000, 'solver': 'newton-cholesky', 'tol': 0.3, 'C': 10, 'n_gram': (1, 2), 'accuracy': 0.6948333333333333}, {'max_features': 5000, 'solver': 'newton-cholesky', 'tol': 3, 'C': 0.1, 'n_gram': (1, 2), 'accuracy': 0.6913333333333334}, {'max_features': 5000, 'solver': 'newton-cholesky', 'tol': 3, 'C': 0.3, 'n_gram': (1, 2), 'accuracy': 0.7038333333333333}, {'max_features': 5000, 'solver': 'newton-cholesky', 'tol': 3, 'C': 3, 'n_gram': (1, 2), 'accuracy': 0.6998333333333333}, {'max_features': 5000, 'solver': 'newton-cholesky', 'tol': 3, 'C': 10, 'n_gram': (1, 2), 'accuracy': 0.695}, {'max_features': 5000, 'solver': 'sag', 'tol': 5, 'C': 0.1, 'n_gram': (1, 2), 'accuracy': 0.506}, {'max_features': 5000, 'solver': 'sag', 'tol': 5, 'C': 0.3, 'n_gram': (1, 2), 'accuracy': 0.661}, {'max_features': 5000, 'solver': 'sag', 'tol': 5, 'C': 3, 'n_gram': (1, 2), 'accuracy': 0.6281666666666667}, {'max_features': 5000, 'solver': 'sag', 'tol': 5, 'C': 10, 'n_gram': (1, 2), 'accuracy': 0.6266666666666667}, {'max_features': 5000, 'solver': 'sag', 'tol': 0.3, 'C': 0.1, 'n_gram': (1, 2), 'accuracy': 0.617}, {'max_features': 5000, 'solver': 'sag', 'tol': 0.3, 'C': 0.3, 'n_gram': (1, 2), 'accuracy': 0.6403333333333333}, {'max_features': 5000, 'solver': 'sag', 'tol': 0.3, 'C': 3, 'n_gram': (1, 2), 'accuracy': 0.6925}, {'max_features': 5000, 'solver': 'sag', 'tol': 0.3, 'C': 10, 'n_gram': (1, 2), 'accuracy': 0.6818333333333333}, {'max_features': 5000, 'solver': 'sag', 'tol': 3, 'C': 0.1, 'n_gram': (1, 2), 'accuracy': 0.6833333333333333}, {'max_features': 5000, 'solver': 'sag', 'tol': 3, 'C': 0.3, 'n_gram': (1, 2), 'accuracy': 0.4508333333333333}, {'max_features': 5000, 'solver': 'sag', 'tol': 3, 'C': 3, 'n_gram': (1, 2), 'accuracy': 0.648}, {'max_features': 5000, 'solver': 'sag', 'tol': 3, 'C': 10, 'n_gram': (1, 2), 'accuracy': 0.5913333333333334}, {'max_features': 5000, 'solver': 'saga', 'tol': 5, 'C': 0.1, 'n_gram': (1, 2), 'accuracy': 0.6586666666666666}, {'max_features': 5000, 'solver': 'saga', 'tol': 5, 'C': 0.3, 'n_gram': (1, 2), 'accuracy': 0.6921666666666667}, {'max_features': 5000, 'solver': 'saga', 'tol': 5, 'C': 3, 'n_gram': (1, 2), 'accuracy': 0.6876666666666666}, {'max_features': 5000, 'solver': 'saga', 'tol': 5, 'C': 10, 'n_gram': (1, 2), 'accuracy': 0.663}, {'max_features': 5000, 'solver': 'saga', 'tol': 0.3, 'C': 0.1, 'n_gram': (1, 2), 'accuracy': 0.6921666666666667}, {'max_features': 5000, 'solver': 'saga', 'tol': 0.3, 'C': 0.3, 'n_gram': (1, 2), 'accuracy': 0.7033333333333334}, {'max_features': 5000, 'solver': 'saga', 'tol': 0.3, 'C': 3, 'n_gram': (1, 2), 'accuracy': 0.6878333333333333}, {'max_features': 5000, 'solver': 'saga', 'tol': 0.3, 'C': 10, 'n_gram': (1, 2), 'accuracy': 0.6873333333333334}, {'max_features': 5000, 'solver': 'saga', 'tol': 3, 'C': 0.1, 'n_gram': (1, 2), 'accuracy': 0.6658333333333334}, {'max_features': 5000, 'solver': 'saga', 'tol': 3, 'C': 0.3, 'n_gram': (1, 2), 'accuracy': 0.6798333333333333}, {'max_features': 5000, 'solver': 'saga', 'tol': 3, 'C': 3, 'n_gram': (1, 2), 'accuracy': 0.6765}, {'max_features': 5000, 'solver': 'saga', 'tol': 3, 'C': 10, 'n_gram': (1, 2), 'accuracy': 0.63}, {'max_features': 5000, 'solver': 'lbfgs', 'tol': 5, 'C': 0.1, 'n_gram': (1, 3), 'accuracy': 0.693}, {'max_features': 5000, 'solver': 'lbfgs', 'tol': 5, 'C': 0.3, 'n_gram': (1, 3), 'accuracy': 0.704}, {'max_features': 5000, 'solver': 'lbfgs', 'tol': 5, 'C': 3, 'n_gram': (1, 3), 'accuracy': 0.7006666666666667}, {'max_features': 5000, 'solver': 'lbfgs', 'tol': 5, 'C': 10, 'n_gram': (1, 3), 'accuracy': 0.6916666666666667}, {'max_features': 5000, 'solver': 'lbfgs', 'tol': 0.3, 'C': 0.1, 'n_gram': (1, 3), 'accuracy': 0.6935}, {'max_features': 5000, 'solver': 'lbfgs', 'tol': 0.3, 'C': 0.3, 'n_gram': (1, 3), 'accuracy': 0.7035}, {'max_features': 5000, 'solver': 'lbfgs', 'tol': 0.3, 'C': 3, 'n_gram': (1, 3), 'accuracy': 0.7006666666666667}, {'max_features': 5000, 'solver': 'lbfgs', 'tol': 0.3, 'C': 10, 'n_gram': (1, 3), 'accuracy': 0.6916666666666667}, {'max_features': 5000, 'solver': 'lbfgs', 'tol': 3, 'C': 0.1, 'n_gram': (1, 3), 'accuracy': 0.6933333333333334}, {'max_features': 5000, 'solver': 'lbfgs', 'tol': 3, 'C': 0.3, 'n_gram': (1, 3), 'accuracy': 0.7038333333333333}, {'max_features': 5000, 'solver': 'lbfgs', 'tol': 3, 'C': 3, 'n_gram': (1, 3), 'accuracy': 0.7006666666666667}, {'max_features': 5000, 'solver': 'lbfgs', 'tol': 3, 'C': 10, 'n_gram': (1, 3), 'accuracy': 0.6916666666666667}, {'max_features': 5000, 'solver': 'liblinear', 'tol': 5, 'C': 0.1, 'n_gram': (1, 3), 'accuracy': 0.375}, {'max_features': 5000, 'solver': 'liblinear', 'tol': 5, 'C': 0.3, 'n_gram': (1, 3), 'accuracy': 0.375}, {'max_features': 5000, 'solver': 'liblinear', 'tol': 5, 'C': 3, 'n_gram': (1, 3), 'accuracy': 0.375}, {'max_features': 5000, 'solver': 'liblinear', 'tol': 5, 'C': 10, 'n_gram': (1, 3), 'accuracy': 0.375}, {'max_features': 5000, 'solver': 'liblinear', 'tol': 0.3, 'C': 0.1, 'n_gram': (1, 3), 'accuracy': 0.66}, {'max_features': 5000, 'solver': 'liblinear', 'tol': 0.3, 'C': 0.3, 'n_gram': (1, 3), 'accuracy': 0.6703333333333333}, {'max_features': 5000, 'solver': 'liblinear', 'tol': 0.3, 'C': 3, 'n_gram': (1, 3), 'accuracy': 0.669}, {'max_features': 5000, 'solver': 'liblinear', 'tol': 0.3, 'C': 10, 'n_gram': (1, 3), 'accuracy': 0.6666666666666666}, {'max_features': 5000, 'solver': 'liblinear', 'tol': 3, 'C': 0.1, 'n_gram': (1, 3), 'accuracy': 0.375}, {'max_features': 5000, 'solver': 'liblinear', 'tol': 3, 'C': 0.3, 'n_gram': (1, 3), 'accuracy': 0.375}, {'max_features': 5000, 'solver': 'liblinear', 'tol': 3, 'C': 3, 'n_gram': (1, 3), 'accuracy': 0.375}, {'max_features': 5000, 'solver': 'liblinear', 'tol': 3, 'C': 10, 'n_gram': (1, 3), 'accuracy': 0.375}, {'max_features': 5000, 'solver': 'newton-cg', 'tol': 5, 'C': 0.1, 'n_gram': (1, 3), 'accuracy': 0.6935}, {'max_features': 5000, 'solver': 'newton-cg', 'tol': 5, 'C': 0.3, 'n_gram': (1, 3), 'accuracy': 0.7028333333333333}, {'max_features': 5000, 'solver': 'newton-cg', 'tol': 5, 'C': 3, 'n_gram': (1, 3), 'accuracy': 0.7013333333333334}, {'max_features': 5000, 'solver': 'newton-cg', 'tol': 5, 'C': 10, 'n_gram': (1, 3), 'accuracy': 0.6888333333333333}, {'max_features': 5000, 'solver': 'newton-cg', 'tol': 0.3, 'C': 0.1, 'n_gram': (1, 3), 'accuracy': 0.6935}, {'max_features': 5000, 'solver': 'newton-cg', 'tol': 0.3, 'C': 0.3, 'n_gram': (1, 3), 'accuracy': 0.7033333333333334}, {'max_features': 5000, 'solver': 'newton-cg', 'tol': 0.3, 'C': 3, 'n_gram': (1, 3), 'accuracy': 0.7016666666666667}, {'max_features': 5000, 'solver': 'newton-cg', 'tol': 0.3, 'C': 10, 'n_gram': (1, 3), 'accuracy': 0.6883333333333334}, {'max_features': 5000, 'solver': 'newton-cg', 'tol': 3, 'C': 0.1, 'n_gram': (1, 3), 'accuracy': 0.6935}, {'max_features': 5000, 'solver': 'newton-cg', 'tol': 3, 'C': 0.3, 'n_gram': (1, 3), 'accuracy': 0.7028333333333333}, {'max_features': 5000, 'solver': 'newton-cg', 'tol': 3, 'C': 3, 'n_gram': (1, 3), 'accuracy': 0.7015}, {'max_features': 5000, 'solver': 'newton-cg', 'tol': 3, 'C': 10, 'n_gram': (1, 3), 'accuracy': 0.6888333333333333}, {'max_features': 5000, 'solver': 'newton-cholesky', 'tol': 5, 'C': 0.1, 'n_gram': (1, 3), 'accuracy': 0.691}, {'max_features': 5000, 'solver': 'newton-cholesky', 'tol': 5, 'C': 0.3, 'n_gram': (1, 3), 'accuracy': 0.7031666666666667}, {'max_features': 5000, 'solver': 'newton-cholesky', 'tol': 5, 'C': 3, 'n_gram': (1, 3), 'accuracy': 0.6998333333333333}, {'max_features': 5000, 'solver': 'newton-cholesky', 'tol': 5, 'C': 10, 'n_gram': (1, 3), 'accuracy': 0.6945}, {'max_features': 5000, 'solver': 'newton-cholesky', 'tol': 0.3, 'C': 0.1, 'n_gram': (1, 3), 'accuracy': 0.691}, {'max_features': 5000, 'solver': 'newton-cholesky', 'tol': 0.3, 'C': 0.3, 'n_gram': (1, 3), 'accuracy': 0.7031666666666667}, {'max_features': 5000, 'solver': 'newton-cholesky', 'tol': 0.3, 'C': 3, 'n_gram': (1, 3), 'accuracy': 0.6998333333333333}, {'max_features': 5000, 'solver': 'newton-cholesky', 'tol': 0.3, 'C': 10, 'n_gram': (1, 3), 'accuracy': 0.6931666666666667}, {'max_features': 5000, 'solver': 'newton-cholesky', 'tol': 3, 'C': 0.1, 'n_gram': (1, 3), 'accuracy': 0.691}, {'max_features': 5000, 'solver': 'newton-cholesky', 'tol': 3, 'C': 0.3, 'n_gram': (1, 3), 'accuracy': 0.7031666666666667}, {'max_features': 5000, 'solver': 'newton-cholesky', 'tol': 3, 'C': 3, 'n_gram': (1, 3), 'accuracy': 0.6998333333333333}, {'max_features': 5000, 'solver': 'newton-cholesky', 'tol': 3, 'C': 10, 'n_gram': (1, 3), 'accuracy': 0.6945}, {'max_features': 5000, 'solver': 'sag', 'tol': 5, 'C': 0.1, 'n_gram': (1, 3), 'accuracy': 0.45016666666666666}, {'max_features': 5000, 'solver': 'sag', 'tol': 5, 'C': 0.3, 'n_gram': (1, 3), 'accuracy': 0.5853333333333334}, {'max_features': 5000, 'solver': 'sag', 'tol': 5, 'C': 3, 'n_gram': (1, 3), 'accuracy': 0.6486666666666666}, {'max_features': 5000, 'solver': 'sag', 'tol': 5, 'C': 10, 'n_gram': (1, 3), 'accuracy': 0.6251666666666666}, {'max_features': 5000, 'solver': 'sag', 'tol': 0.3, 'C': 0.1, 'n_gram': (1, 3), 'accuracy': 0.6758333333333333}, {'max_features': 5000, 'solver': 'sag', 'tol': 0.3, 'C': 0.3, 'n_gram': (1, 3), 'accuracy': 0.693}, {'max_features': 5000, 'solver': 'sag', 'tol': 0.3, 'C': 3, 'n_gram': (1, 3), 'accuracy': 0.6541666666666667}, {'max_features': 5000, 'solver': 'sag', 'tol': 0.3, 'C': 10, 'n_gram': (1, 3), 'accuracy': 0.6795}, {'max_features': 5000, 'solver': 'sag', 'tol': 3, 'C': 0.1, 'n_gram': (1, 3), 'accuracy': 0.5785}, {'max_features': 5000, 'solver': 'sag', 'tol': 3, 'C': 0.3, 'n_gram': (1, 3), 'accuracy': 0.6806666666666666}, {'max_features': 5000, 'solver': 'sag', 'tol': 3, 'C': 3, 'n_gram': (1, 3), 'accuracy': 0.6481666666666667}, {'max_features': 5000, 'solver': 'sag', 'tol': 3, 'C': 10, 'n_gram': (1, 3), 'accuracy': 0.6565}, {'max_features': 5000, 'solver': 'saga', 'tol': 5, 'C': 0.1, 'n_gram': (1, 3), 'accuracy': 0.675}, {'max_features': 5000, 'solver': 'saga', 'tol': 5, 'C': 0.3, 'n_gram': (1, 3), 'accuracy': 0.606}, {'max_features': 5000, 'solver': 'saga', 'tol': 5, 'C': 3, 'n_gram': (1, 3), 'accuracy': 0.6773333333333333}, {'max_features': 5000, 'solver': 'saga', 'tol': 5, 'C': 10, 'n_gram': (1, 3), 'accuracy': 0.6775}, {'max_features': 5000, 'solver': 'saga', 'tol': 0.3, 'C': 0.1, 'n_gram': (1, 3), 'accuracy': 0.6918333333333333}, {'max_features': 5000, 'solver': 'saga', 'tol': 0.3, 'C': 0.3, 'n_gram': (1, 3), 'accuracy': 0.7026666666666667}, {'max_features': 5000, 'solver': 'saga', 'tol': 0.3, 'C': 3, 'n_gram': (1, 3), 'accuracy': 0.688}, {'max_features': 5000, 'solver': 'saga', 'tol': 0.3, 'C': 10, 'n_gram': (1, 3), 'accuracy': 0.6741666666666667}, {'max_features': 5000, 'solver': 'saga', 'tol': 3, 'C': 0.1, 'n_gram': (1, 3), 'accuracy': 0.6426666666666667}, {'max_features': 5000, 'solver': 'saga', 'tol': 3, 'C': 0.3, 'n_gram': (1, 3), 'accuracy': 0.6751666666666667}, {'max_features': 5000, 'solver': 'saga', 'tol': 3, 'C': 3, 'n_gram': (1, 3), 'accuracy': 0.6623333333333333}, {'max_features': 5000, 'solver': 'saga', 'tol': 3, 'C': 10, 'n_gram': (1, 3), 'accuracy': 0.672}]\n"
     ]
    }
   ],
   "source": [
    "#hiperparametrization\n",
    "i = 0\n",
    "best_accuracy = 0\n",
    "chosen_parameters = {}\n",
    "data = []\n",
    "for max_features in [3000, 5000]:\n",
    "  for n_gram in [(1,1),(1,2),(1,3)]:\n",
    "\n",
    "    #initiate the TfidfVectorizer\n",
    "    tfidf = TfidfVectorizer(max_features=max_features, ngram_range = n_gram)\n",
    "\n",
    "    #convert the training and validation data to tf-idf indexes\n",
    "    X_train_tfidf = tfidf.fit_transform(preprocessed_train_data[\"text\"]).toarray()\n",
    "    X_test_tfidf = tfidf.transform(preprocessed_test_data[\"text\"]).toarray()\n",
    "\n",
    "    for solver in ['lbfgs', 'liblinear', 'newton-cg', 'newton-cholesky', 'sag', 'saga']:\n",
    "      for tol in [ 5, 0.3, 3]:\n",
    "        for C in [ 0.1, 0.3, 3, 10]:\n",
    "\n",
    "          model = LogisticRegression(solver=solver, tol=tol, C=C)\n",
    "\n",
    "          model.fit(X_train_tfidf, train_labels['label'])\n",
    "          predictions = model.predict(X_test_tfidf)\n",
    "\n",
    "          score = accuracy_score(test_labels['label'],predictions)\n",
    "\n",
    "          # print('max_features: {} n_gram: {}  solver: {}  tol: {}  C: {}  accuracy: {}'.format(max_features,n_gram, solver, tol, C, score))\n",
    "\n",
    "          if score > best_accuracy:\n",
    "            best_accuracy = score\n",
    "            chosen_parameters[\"max_features\"] = max_features\n",
    "            chosen_parameters[\"solver\"] = solver\n",
    "            chosen_parameters[\"tol\"] = tol\n",
    "            chosen_parameters[\"C\"] = C\n",
    "            chosen_parameters[\"n_gram\"] = n_gram\n",
    "          data.append({\n",
    "            \"max_features\": max_features,\n",
    "            \"solver\": solver,\n",
    "            \"tol\": tol,\n",
    "            \"C\": C,\n",
    "            \"n_gram\": n_gram,\n",
    "            \"accuracy\": score\n",
    "        })          \n",
    "\n",
    "print(best_accuracy)\n",
    "print(chosen_parameters)\n",
    "print(data)"
   ],
   "metadata": {
    "collapsed": false,
    "ExecuteTime": {
     "end_time": "2023-12-27T23:46:39.058956700Z",
     "start_time": "2023-12-27T19:21:46.101326900Z"
    }
   },
   "id": "59432de62001645b"
  },
  {
   "cell_type": "code",
   "execution_count": 23,
   "id": "54f2b62890505da3",
   "metadata": {
    "collapsed": false,
    "ExecuteTime": {
     "end_time": "2023-12-27T23:54:18.124368700Z",
     "start_time": "2023-12-27T23:54:08.242072900Z"
    }
   },
   "outputs": [],
   "source": [
    "model = make_pipeline(TfidfVectorizer(max_features=chosen_parameters['max_features'], ngram_range= chosen_parameters['n_gram']), LogisticRegression(solver=chosen_parameters['solver'], tol=chosen_parameters['tol'], C=chosen_parameters['C']))\n",
    "\n",
    "model.fit(preprocessed_train_data['text'], train_labels['label'])  \n",
    "\n",
    "predictions = model.predict(preprocessed_test_data['text'])\n"
   ]
  },
  {
   "cell_type": "code",
   "execution_count": 24,
   "outputs": [
    {
     "name": "stdout",
     "output_type": "stream",
     "text": [
      "Accuracy: 0.7045\n",
      "              precision    recall  f1-score   support\n",
      "\n",
      "    negative       0.70      0.82      0.75      2250\n",
      "     neutral       0.54      0.34      0.42      1500\n",
      "    positive       0.77      0.83      0.80      2250\n",
      "\n",
      "    accuracy                           0.70      6000\n",
      "   macro avg       0.67      0.66      0.66      6000\n",
      "weighted avg       0.69      0.70      0.69      6000\n"
     ]
    }
   ],
   "source": [
    "accuracy = accuracy_score(test_labels['label'], predictions)\n",
    "from sklearn.metrics import classification_report\n",
    "\n",
    "print(\"Accuracy:\", accuracy)\n",
    "print(classification_report(test_labels['label'], predictions))"
   ],
   "metadata": {
    "collapsed": false,
    "ExecuteTime": {
     "end_time": "2023-12-27T23:54:23.226865700Z",
     "start_time": "2023-12-27T23:54:23.016863300Z"
    }
   },
   "id": "b91a7ac80583f36e"
  },
  {
   "cell_type": "code",
   "execution_count": 25,
   "id": "82aa3ae02a39f443",
   "metadata": {
    "collapsed": false,
    "ExecuteTime": {
     "end_time": "2023-12-27T23:54:30.418670900Z",
     "start_time": "2023-12-27T23:54:29.508669800Z"
    }
   },
   "outputs": [
    {
     "data": {
      "text/plain": "<Figure size 800x600 with 2 Axes>",
      "image/png": "[encoded data removed]"
     },
     "metadata": {},
     "output_type": "display_data"
    }
   ],
   "source": [
    "# !pip install seaborn\n",
    "import seaborn as sns\n",
    "from sklearn.metrics import confusion_matrix\n",
    "\n",
    "conf_matrix = confusion_matrix(test_labels['label'], predictions)\n",
    "\n",
    "plt.figure(figsize=(8, 6))\n",
    "sns.heatmap(conf_matrix, annot=True, fmt='d', cmap='Purples')\n",
    "plt.xlabel('Predicted Labels')\n",
    "plt.ylabel('True Labels')\n",
    "plt.title('Confusion Matrix')\n",
    "plt.show()"
   ]
  },
  {
   "cell_type": "code",
   "execution_count": 21,
   "outputs": [],
   "source": [
    "doc = docx.Document() \n",
    "  \n",
    "doc.add_heading('Hiperparametrization', 0) \n",
    "  \n",
    "# Table data in a form of list \n",
    "# data = ( \n",
    "#     (1, 'Geek 1'), \n",
    "#     (2, 'Geek 2'), \n",
    "#     (3, 'Geek 3') \n",
    "# ) \n",
    "  \n",
    "# Creating a table object \n",
    "table = doc.add_table(rows=1, cols=6) \n",
    "  \n",
    "# Adding heading in the 1st row of the table \n",
    "row = table.rows[0].cells \n",
    "row[0].text = 'max_features'\n",
    "row[1].text = 'n_gram'\n",
    "row[2].text = 'solver'\n",
    "row[3].text = 'tol'\n",
    "row[4].text = 'C'\n",
    "row[5].text = 'accuracy'\n",
    "  \n",
    "# Adding data from the list to the table \n",
    "for elem in data: \n",
    "    # Adding a row and then adding data in it. \n",
    "    row = table.add_row().cells \n",
    "    # Converting id to string as table can only take string input \n",
    "    row[0].text = str(elem['max_features']) \n",
    "    row[1].text = str(elem['n_gram'])\n",
    "    row[2].text = str(elem['solver'])\n",
    "    row[3].text = str(elem['tol'])\n",
    "    row[4].text = str(elem['C'])\n",
    "    row[5].text = str(round(elem['accuracy'],4))\n",
    "    # \n",
    "# Now save the document to a location \n",
    "doc.save('gfg.docx') "
   ],
   "metadata": {
    "collapsed": false,
    "ExecuteTime": {
     "end_time": "2023-12-27T23:52:24.057582700Z",
     "start_time": "2023-12-27T23:52:06.284323300Z"
    }
   },
   "id": "468aae207c97ad4a"
  },
  {
   "cell_type": "code",
   "execution_count": null,
   "outputs": [],
   "source": [],
   "metadata": {
    "collapsed": false
   },
   "id": "b062fea098484fa0"
  }
 ],
 "metadata": {
  "kernelspec": {
   "display_name": "Python 3 (ipykernel)",
   "language": "python",
   "name": "python3"
  },
  "language_info": {
   "codemirror_mode": {
    "name": "ipython",
    "version": 3
   },
   "file_extension": ".py",
   "mimetype": "text/x-python",
   "name": "python",
   "nbconvert_exporter": "python",
   "pygments_lexer": "ipython3",
   "version": "3.10.11"
  }
 },
 "nbformat": 4,
 "nbformat_minor": 5
}
