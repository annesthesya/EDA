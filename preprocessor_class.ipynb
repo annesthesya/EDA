{
 "cells": [
  {
   "cell_type": "code",
   "execution_count": 1,
   "id": "5fe7758c",
   "metadata": {},
   "outputs": [
    {
     "name": "stderr",
     "output_type": "stream",
     "text": [
      "[nltk_data] Downloading package stopwords to\n",
      "[nltk_data]     C:\\Users\\Andreea\\AppData\\Roaming\\nltk_data...\n",
      "[nltk_data]   Package stopwords is already up-to-date!\n",
      "[nltk_data] Downloading package wordnet to\n",
      "[nltk_data]     C:\\Users\\Andreea\\AppData\\Roaming\\nltk_data...\n",
      "[nltk_data]   Package wordnet is already up-to-date!\n"
     ]
    }
   ],
   "source": [
    "import json\n",
    "import pandas as pd\n",
    "from sklearn.model_selection import train_test_split\n",
    "import re\n",
    "import emoji\n",
    "from num2words import num2words\n",
    "import nltk\n",
    "from nltk.corpus import stopwords\n",
    "from nltk.stem import WordNetLemmatizer\n",
    "from nltk.stem import PorterStemmer\n",
    "nltk.download('stopwords')\n",
    "nltk.download('wordnet')\n",
    "import matplotlib.pyplot as plt\n",
    "from collections import defaultdict\n",
    "from collections import Counter\n",
    "from matplotlib import colors\n",
    "from wordcloud import WordCloud"
   ]
  },
  {
   "cell_type": "code",
   "execution_count": 3,
   "id": "3da6e519",
   "metadata": {},
   "outputs": [],
   "source": [
    "class Preprocessor:\n",
    "\n",
    "    def __init__(self,stop_words, lemmatizer, stemmer, lowercase, no_links, no_tags, no_mentions, no_punctuation, num2words, tokens, no_stopwords, lemma, stem):\n",
    "        self.stop_words = stop_words\n",
    "        self.lemmatizer = lemmatizer\n",
    "        self.stemmer = stemmer\n",
    "        self.lowercase = lowercase\n",
    "        self.no_links = no_links\n",
    "        self.no_tags = no_tags\n",
    "        self.no_mentions = no_mentions\n",
    "        self.no_punctuation = no_punctuation\n",
    "        self.num2words = num2words\n",
    "        self.tokens = tokens\n",
    "        self.no_stopwords = no_stopwords\n",
    "        self.lemma = lemma\n",
    "        self.stem = stem\n",
    "\n",
    "\n",
    "    def preprocess(self, text):\n",
    "\n",
    "        if self.lowercase:\n",
    "            text =  text.lower()\n",
    "    \n",
    "        if  self.no_links:\n",
    "            text = re.sub(r'http\\S+', '', text)\n",
    "    \n",
    "        if  self.no_tags:\n",
    "            text = re.sub(r'#[a-zA-Z0-9_]+','', text)\n",
    "    \n",
    "        if  self.no_mentions:\n",
    "            text = re.sub(r'@[a-zA-Z0-9_]+','', text)\n",
    "    \n",
    "        if  self.no_punctuation:\n",
    "            text = re.sub(r'[^\\w\\s]', ' ', text)\n",
    "            text = re.sub(r'\\s+', ' ', text).strip()\n",
    "    \n",
    "        if  self.num2words:\n",
    "            text = \" \".join([num2words(word) if word.isdigit() else word for word in text.split()])\n",
    "        else:\n",
    "            text = re.sub(r'[\\d+]', ' ', text)\n",
    "    \n",
    "        if self.tokens:\n",
    "            text = [word for word in text.split()]\n",
    "    \n",
    "        if  self.no_stopwords:\n",
    "            text = [word for word in text if word not in self.stop_words]\n",
    "    \n",
    "        if  self.lemma:\n",
    "            text = [self.lemmatizer.lemmatize(token) for token in text]\n",
    "        elif self.stem:\n",
    "            text = [self.stemmer.stem(token) for token in text]\n",
    "    \n",
    "        return text"
   ]
  },
  {
   "cell_type": "code",
   "execution_count": null,
   "id": "1073c781",
   "metadata": {},
   "outputs": [],
   "source": []
  }
 ],
 "metadata": {
  "kernelspec": {
   "display_name": "Python 3 (ipykernel)",
   "language": "python",
   "name": "python3"
  },
  "language_info": {
   "codemirror_mode": {
    "name": "ipython",
    "version": 3
   },
   "file_extension": ".py",
   "mimetype": "text/x-python",
   "name": "python",
   "nbconvert_exporter": "python",
   "pygments_lexer": "ipython3",
   "version": "3.11.5"
  }
 },
 "nbformat": 4,
 "nbformat_minor": 5
}
