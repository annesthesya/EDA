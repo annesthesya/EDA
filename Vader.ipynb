{
 "cells": [
  {
   "cell_type": "code",
   "execution_count": 25,
   "id": "80b2c481",
   "metadata": {},
   "outputs": [],
   "source": [
    "# !pip install scikit-learn\n",
    "# !pip install pandas\n",
    "# !pip install emoji\n",
    "# !pip install num2words\n",
    "# !pip install nltk\n",
    "# !pip install matplotlib\n",
    "# !pip install wordcloud"
   ]
  },
  {
   "cell_type": "code",
   "execution_count": 26,
   "id": "ca27bc64",
   "metadata": {},
   "outputs": [
    {
     "name": "stderr",
     "output_type": "stream",
     "text": [
      "[nltk_data] Downloading package vader_lexicon to\n",
      "[nltk_data]     C:\\Users\\Andreea\\AppData\\Roaming\\nltk_data...\n",
      "[nltk_data]   Package vader_lexicon is already up-to-date!\n"
     ]
    },
    {
     "data": {
      "text/plain": [
       "True"
      ]
     },
     "execution_count": 26,
     "metadata": {},
     "output_type": "execute_result"
    }
   ],
   "source": [
    "import json\n",
    "import pandas as pd\n",
    "from sklearn.model_selection import train_test_split\n",
    "import re\n",
    "import emoji\n",
    "from num2words import num2words\n",
    "import nltk\n",
    "from nltk.corpus import stopwords\n",
    "from nltk.stem import WordNetLemmatizer\n",
    "from nltk.stem import PorterStemmer\n",
    "#nltk.download('stopwords')\n",
    "#nltk.download('wordnet')\n",
    "import matplotlib.pyplot as plt\n",
    "from collections import defaultdict\n",
    "from collections import Counter\n",
    "from matplotlib import colors\n",
    "from wordcloud import WordCloud\n",
    "from sklearn.neighbors import KNeighborsClassifier\n",
    "from sklearn import metrics\n",
    "from sklearn.feature_extraction.text import TfidfVectorizer\n",
    "nltk.download('vader_lexicon') #descarca dictionarul Vader"
   ]
  },
  {
   "cell_type": "code",
   "execution_count": 27,
   "id": "05537236",
   "metadata": {},
   "outputs": [],
   "source": [
    "#!pip install ipynb \n",
    "from ipynb.fs.full.preprocessor_class import Preprocessor"
   ]
  },
  {
   "cell_type": "code",
   "execution_count": 28,
   "id": "da65de04",
   "metadata": {},
   "outputs": [
    {
     "data": {
      "text/plain": [
       "(45000, 1)"
      ]
     },
     "execution_count": 28,
     "metadata": {},
     "output_type": "execute_result"
    }
   ],
   "source": [
    "train_data = pd.read_csv('data/shuffled_train_data.csv',index_col=None)\n",
    "train_labels = pd.read_csv('data/shuffled_train_labels.csv',index_col=None)\n",
    "\n",
    "test_data = pd.read_csv('data/test_data.csv',index_col=None)\n",
    "test_labels = pd.read_csv('data/test_labels.csv',index_col=None)\n",
    "\n",
    "train_data_plot = pd.read_csv('data/train_data_plot.csv',index_col=None)\n",
    "test_data_plot = pd.read_csv('data/test_data_plot.csv',index_col=None)\n",
    "\n",
    "train_data.shape"
   ]
  },
  {
   "cell_type": "code",
   "execution_count": 29,
   "id": "809a2df7",
   "metadata": {},
   "outputs": [],
   "source": [
    "preprocessor = Preprocessor(set(stopwords.words('english')), WordNetLemmatizer(), PorterStemmer(), True, True, True, True, True, False, True, True, True, False)\n",
    "\n",
    "preprocessed_data_train = pd.DataFrame(columns=['text'])\n",
    "preprocessed_data_test = pd.DataFrame(columns=['text'])\n",
    "\n",
    "preprocessed_data_train['text'] = train_data.apply(lambda row: preprocessor.preprocess(row.iloc[0]), axis = 1)\n",
    "\n",
    "preprocessed_data_test['text'] = test_data.apply(lambda row: preprocessor.preprocess(row.iloc[0]), axis = 1)"
   ]
  },
  {
   "cell_type": "code",
   "execution_count": 30,
   "id": "4df36300",
   "metadata": {},
   "outputs": [
    {
     "data": {
      "text/html": [
       "<div>\n",
       "<style scoped>\n",
       "    .dataframe tbody tr th:only-of-type {\n",
       "        vertical-align: middle;\n",
       "    }\n",
       "\n",
       "    .dataframe tbody tr th {\n",
       "        vertical-align: top;\n",
       "    }\n",
       "\n",
       "    .dataframe thead th {\n",
       "        text-align: right;\n",
       "    }\n",
       "</style>\n",
       "<table border=\"1\" class=\"dataframe\">\n",
       "  <thead>\n",
       "    <tr style=\"text-align: right;\">\n",
       "      <th></th>\n",
       "      <th>text</th>\n",
       "    </tr>\n",
       "  </thead>\n",
       "  <tbody>\n",
       "    <tr>\n",
       "      <th>0</th>\n",
       "      <td>shoe simply hurt foot sorry already worn other...</td>\n",
       "    </tr>\n",
       "    <tr>\n",
       "      <th>1</th>\n",
       "      <td>run small fit size range claim least case retu...</td>\n",
       "    </tr>\n",
       "    <tr>\n",
       "      <th>2</th>\n",
       "      <td>almost year old wear size brand however tank f...</td>\n",
       "    </tr>\n",
       "    <tr>\n",
       "      <th>3</th>\n",
       "      <td>huge heavy shoe felt like giant hunk plastic f...</td>\n",
       "    </tr>\n",
       "    <tr>\n",
       "      <th>4</th>\n",
       "      <td>lost flower one nd week wear still wear though...</td>\n",
       "    </tr>\n",
       "    <tr>\n",
       "      <th>...</th>\n",
       "      <td>...</td>\n",
       "    </tr>\n",
       "    <tr>\n",
       "      <th>5995</th>\n",
       "      <td>got dress semi dressy dress wedding looked gre...</td>\n",
       "    </tr>\n",
       "    <tr>\n",
       "      <th>5996</th>\n",
       "      <td>really awesome like</td>\n",
       "    </tr>\n",
       "    <tr>\n",
       "      <th>5997</th>\n",
       "      <td>sizing chart right money get pay shirt flimsy ...</td>\n",
       "    </tr>\n",
       "    <tr>\n",
       "      <th>5998</th>\n",
       "      <td>many compliment</td>\n",
       "    </tr>\n",
       "    <tr>\n",
       "      <th>5999</th>\n",
       "      <td>love dress fit perfect clingy</td>\n",
       "    </tr>\n",
       "  </tbody>\n",
       "</table>\n",
       "<p>6000 rows × 1 columns</p>\n",
       "</div>"
      ],
      "text/plain": [
       "                                                   text\n",
       "0     shoe simply hurt foot sorry already worn other...\n",
       "1     run small fit size range claim least case retu...\n",
       "2     almost year old wear size brand however tank f...\n",
       "3     huge heavy shoe felt like giant hunk plastic f...\n",
       "4     lost flower one nd week wear still wear though...\n",
       "...                                                 ...\n",
       "5995  got dress semi dressy dress wedding looked gre...\n",
       "5996                                really awesome like\n",
       "5997  sizing chart right money get pay shirt flimsy ...\n",
       "5998                                    many compliment\n",
       "5999                      love dress fit perfect clingy\n",
       "\n",
       "[6000 rows x 1 columns]"
      ]
     },
     "execution_count": 30,
     "metadata": {},
     "output_type": "execute_result"
    }
   ],
   "source": [
    "preprocessed_data_test['text'] = preprocessed_data_test['text'].apply(lambda x: ' '.join(map(str, x)))\n",
    "preprocessed_data_test"
   ]
  },
  {
   "cell_type": "code",
   "execution_count": 31,
   "id": "da9498a3",
   "metadata": {},
   "outputs": [
    {
     "data": {
      "text/html": [
       "<div>\n",
       "<style scoped>\n",
       "    .dataframe tbody tr th:only-of-type {\n",
       "        vertical-align: middle;\n",
       "    }\n",
       "\n",
       "    .dataframe tbody tr th {\n",
       "        vertical-align: top;\n",
       "    }\n",
       "\n",
       "    .dataframe thead th {\n",
       "        text-align: right;\n",
       "    }\n",
       "</style>\n",
       "<table border=\"1\" class=\"dataframe\">\n",
       "  <thead>\n",
       "    <tr style=\"text-align: right;\">\n",
       "      <th></th>\n",
       "      <th>text</th>\n",
       "    </tr>\n",
       "  </thead>\n",
       "  <tbody>\n",
       "    <tr>\n",
       "      <th>0</th>\n",
       "      <td>want something cheap give away last</td>\n",
       "    </tr>\n",
       "    <tr>\n",
       "      <th>1</th>\n",
       "      <td>look cute outside wore twice vega issue year l...</td>\n",
       "    </tr>\n",
       "    <tr>\n",
       "      <th>2</th>\n",
       "      <td>think sending back zipper stick one already co...</td>\n",
       "    </tr>\n",
       "    <tr>\n",
       "      <th>3</th>\n",
       "      <td>usually wear birkenstock made woman guess made...</td>\n",
       "    </tr>\n",
       "    <tr>\n",
       "      <th>4</th>\n",
       "      <td>excited today arrived home package door opened...</td>\n",
       "    </tr>\n",
       "    <tr>\n",
       "      <th>...</th>\n",
       "      <td>...</td>\n",
       "    </tr>\n",
       "    <tr>\n",
       "      <th>44995</th>\n",
       "      <td>worn bali bra year last comfortable good price</td>\n",
       "    </tr>\n",
       "    <tr>\n",
       "      <th>44996</th>\n",
       "      <td>soft cool beautiful color little snug</td>\n",
       "    </tr>\n",
       "    <tr>\n",
       "      <th>44997</th>\n",
       "      <td>product look exactly like picture impressed du...</td>\n",
       "    </tr>\n",
       "    <tr>\n",
       "      <th>44998</th>\n",
       "      <td>granddaughter age loved getting birthstone rin...</td>\n",
       "    </tr>\n",
       "    <tr>\n",
       "      <th>44999</th>\n",
       "      <td>good versatile athletic underwear lightweight ...</td>\n",
       "    </tr>\n",
       "  </tbody>\n",
       "</table>\n",
       "<p>45000 rows × 1 columns</p>\n",
       "</div>"
      ],
      "text/plain": [
       "                                                    text\n",
       "0                    want something cheap give away last\n",
       "1      look cute outside wore twice vega issue year l...\n",
       "2      think sending back zipper stick one already co...\n",
       "3      usually wear birkenstock made woman guess made...\n",
       "4      excited today arrived home package door opened...\n",
       "...                                                  ...\n",
       "44995     worn bali bra year last comfortable good price\n",
       "44996              soft cool beautiful color little snug\n",
       "44997  product look exactly like picture impressed du...\n",
       "44998  granddaughter age loved getting birthstone rin...\n",
       "44999  good versatile athletic underwear lightweight ...\n",
       "\n",
       "[45000 rows x 1 columns]"
      ]
     },
     "execution_count": 31,
     "metadata": {},
     "output_type": "execute_result"
    }
   ],
   "source": [
    "preprocessed_data_train['text'] = preprocessed_data_train['text'].apply(lambda x: ' '.join(map(str, x)))\n",
    "preprocessed_data_train"
   ]
  },
  {
   "cell_type": "code",
   "execution_count": 32,
   "id": "61f54ae3",
   "metadata": {},
   "outputs": [],
   "source": [
    "from nltk.sentiment import SentimentIntensityAnalyzer"
   ]
  },
  {
   "cell_type": "code",
   "execution_count": 33,
   "id": "bfb9ebb8",
   "metadata": {},
   "outputs": [],
   "source": [
    "vader_model = SentimentIntensityAnalyzer()"
   ]
  },
  {
   "cell_type": "code",
   "execution_count": 34,
   "id": "5840e275",
   "metadata": {},
   "outputs": [
    {
     "data": {
      "text/plain": [
       "{'neg': 0.756, 'neu': 0.244, 'pos': 0.0, 'compound': -0.4767}"
      ]
     },
     "execution_count": 34,
     "metadata": {},
     "output_type": "execute_result"
    }
   ],
   "source": [
    "vader_model.polarity_scores(\"I am sad\")"
   ]
  },
  {
   "cell_type": "code",
   "execution_count": 35,
   "id": "87c47916",
   "metadata": {},
   "outputs": [
    {
     "data": {
      "text/plain": [
       "[{'neg': 0.496, 'neu': 0.504, 'pos': 0.0, 'compound': -0.7096},\n",
       " {'neg': 0.0, 'neu': 0.762, 'pos': 0.238, 'compound': 0.3612},\n",
       " {'neg': 0.069, 'neu': 0.726, 'pos': 0.205, 'compound': 0.3182},\n",
       " {'neg': 0.0, 'neu': 0.676, 'pos': 0.324, 'compound': 0.7351},\n",
       " {'neg': 0.204, 'neu': 0.796, 'pos': 0.0, 'compound': -0.3182}]"
      ]
     },
     "execution_count": 35,
     "metadata": {},
     "output_type": "execute_result"
    }
   ],
   "source": [
    "rezultate_vader = [vader_model.polarity_scores(text) for text in preprocessed_data_test['text']]\n",
    "rezultate_vader[:5]"
   ]
  },
  {
   "cell_type": "code",
   "execution_count": 37,
   "id": "3aa9325c",
   "metadata": {},
   "outputs": [
    {
     "name": "stdout",
     "output_type": "stream",
     "text": [
      "['neutral', 'positive', 'positive', 'negative', 'positive', 'negative', 'neutral', 'neutral', 'positive', 'negative', 'positive', 'positive', 'positive', 'neutral', 'positive', 'positive', 'positive', 'positive', 'positive', 'neutral']\n"
     ]
    }
   ],
   "source": [
    "predictions = []\n",
    "for rez in rezultate_vader:\n",
    "    if rez['compound'] >= 0.3:\n",
    "        predictions.append('positive')\n",
    "    elif rez['compound'] <= -0.3:\n",
    "        predictions.append('negative')\n",
    "    else:\n",
    "        predictions.append('neutral')\n",
    "print(predictions[100:120])"
   ]
  },
  {
   "cell_type": "code",
   "execution_count": 38,
   "id": "14f4ba7c",
   "metadata": {},
   "outputs": [],
   "source": [
    "acc = metrics.accuracy_score(test_labels['label'], predictions)"
   ]
  },
  {
   "cell_type": "code",
   "execution_count": 39,
   "id": "93e3387b",
   "metadata": {},
   "outputs": [
    {
     "data": {
      "text/plain": [
       "0.46366666666666667"
      ]
     },
     "execution_count": 39,
     "metadata": {},
     "output_type": "execute_result"
    }
   ],
   "source": [
    "acc"
   ]
  },
  {
   "cell_type": "code",
   "execution_count": 40,
   "id": "3b8e349b",
   "metadata": {},
   "outputs": [
    {
     "data": {
      "image/png": "[encoded data removed]",
      "text/plain": [
       "<Figure size 800x600 with 2 Axes>"
      ]
     },
     "metadata": {},
     "output_type": "display_data"
    }
   ],
   "source": [
    "import seaborn as sns\n",
    "from sklearn.metrics import confusion_matrix\n",
    "\n",
    "conf_matrix = confusion_matrix(test_labels['label'], predictions)\n",
    "\n",
    "plt.figure(figsize = (8, 6))\n",
    "sns.heatmap(conf_matrix, annot = True, fmt = 'd', cmap = 'Purples', xticklabels = ['negative', 'neutral', 'positive'], yticklabels = ['negative', 'neutral', 'positive'])\n",
    "plt.xlabel('Predicted Labels')\n",
    "plt.ylabel('True Labels')\n",
    "plt.title('Confusion Matrix')\n",
    "plt.show()"
   ]
  },
  {
   "cell_type": "code",
   "execution_count": 41,
   "id": "d0dbb57c",
   "metadata": {},
   "outputs": [
    {
     "name": "stdout",
     "output_type": "stream",
     "text": [
      "              precision    recall  f1-score   support\n",
      "\n",
      "    negative       0.79      0.16      0.27      2250\n",
      "     neutral       0.28      0.24      0.26      1500\n",
      "    positive       0.49      0.91      0.63      2250\n",
      "\n",
      "    accuracy                           0.46      6000\n",
      "   macro avg       0.52      0.44      0.39      6000\n",
      "weighted avg       0.55      0.46      0.40      6000\n",
      "\n"
     ]
    }
   ],
   "source": [
    "from sklearn.metrics import classification_report\n",
    "\n",
    "print(classification_report(test_labels['label'], predictions))"
   ]
  },
  {
   "cell_type": "code",
   "execution_count": null,
   "id": "aac39f10",
   "metadata": {},
   "outputs": [],
   "source": []
  }
 ],
 "metadata": {
  "kernelspec": {
   "display_name": "Python 3 (ipykernel)",
   "language": "python",
   "name": "python3"
  },
  "language_info": {
   "codemirror_mode": {
    "name": "ipython",
    "version": 3
   },
   "file_extension": ".py",
   "mimetype": "text/x-python",
   "name": "python",
   "nbconvert_exporter": "python",
   "pygments_lexer": "ipython3",
   "version": "3.11.5"
  }
 },
 "nbformat": 4,
 "nbformat_minor": 5
}
